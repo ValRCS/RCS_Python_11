{
 "cells": [
  {
   "cell_type": "code",
   "execution_count": 1,
   "metadata": {},
   "outputs": [],
   "source": [
    "# Requests for handling HTTP get and other requests\n",
    "import requests\n",
    "import pandas as pd\n",
    "# from BeautifulSoup4 import BeatifulSoup if installed through pip install BeautifulSoup4\n",
    "# \n",
    "from bs4 import BeautifulSoup"
   ]
  },
  {
   "cell_type": "code",
   "execution_count": 2,
   "metadata": {},
   "outputs": [],
   "source": [
    "url = \"https://www.ss.com/lv/real-estate/flats/riga/\""
   ]
  },
  {
   "cell_type": "code",
   "execution_count": 3,
   "metadata": {},
   "outputs": [
    {
     "data": {
      "text/plain": [
       "200"
      ]
     },
     "execution_count": 3,
     "metadata": {},
     "output_type": "execute_result"
    }
   ],
   "source": [
    "# we request the page (similar to how a browser would request one)\n",
    "req = requests.get(url)\n",
    "req.status_code # we could check for status_code with if"
   ]
  },
  {
   "cell_type": "code",
   "execution_count": 4,
   "metadata": {},
   "outputs": [
    {
     "data": {
      "text/plain": [
       "requests.models.Response"
      ]
     },
     "execution_count": 4,
     "metadata": {},
     "output_type": "execute_result"
    }
   ],
   "source": [
    "type(req)"
   ]
  },
  {
   "cell_type": "code",
   "execution_count": 5,
   "metadata": {},
   "outputs": [
    {
     "data": {
      "text/plain": [
       "'https://www.ss.com/lv/real-estate/flats/riga/'"
      ]
     },
     "execution_count": 5,
     "metadata": {},
     "output_type": "execute_result"
    }
   ],
   "source": [
    "req.url"
   ]
  },
  {
   "cell_type": "code",
   "execution_count": 6,
   "metadata": {},
   "outputs": [
    {
     "data": {
      "text/plain": [
       "'<!DOCTYPE html>\\r\\n<HTML><HEAD>\\r\\n<title>SS.COM Dzīvokļi - Rīga - Sludinājumi</title>\\r\\n<meta http-equiv=\"Content-Type\" CONTENT=\"text/html; charset=UTF-8\">\\r\\n<meta name=\"viewport\" content=\"user-scalable=1,'"
      ]
     },
     "execution_count": 6,
     "metadata": {},
     "output_type": "execute_result"
    }
   ],
   "source": [
    "req.text[:200]"
   ]
  },
  {
   "cell_type": "code",
   "execution_count": 7,
   "metadata": {},
   "outputs": [
    {
     "data": {
      "text/plain": [
       "True"
      ]
     },
     "execution_count": 7,
     "metadata": {},
     "output_type": "execute_result"
    }
   ],
   "source": [
    "'centrs' in req.text"
   ]
  },
  {
   "cell_type": "code",
   "execution_count": 8,
   "metadata": {},
   "outputs": [
    {
     "data": {
      "text/plain": [
       "55"
      ]
     },
     "execution_count": 8,
     "metadata": {},
     "output_type": "execute_result"
    }
   ],
   "source": [
    "req.text.count('a_category')"
   ]
  },
  {
   "cell_type": "code",
   "execution_count": null,
   "metadata": {},
   "outputs": [],
   "source": [
    "# if we had a badly formed html we could use our regular text search to extract information"
   ]
  },
  {
   "cell_type": "code",
   "execution_count": 10,
   "metadata": {},
   "outputs": [
    {
     "data": {
      "text/plain": [
       "<title>SS.COM Dzīvokļi - Rīga - Sludinājumi</title>"
      ]
     },
     "execution_count": 10,
     "metadata": {},
     "output_type": "execute_result"
    }
   ],
   "source": [
    "# we create a structure from our html\n",
    "# note: lxml is an improved parser over standard built-in parser\n",
    "# if we did not have lxml then we would write\n",
    "# soup = BeautifulSoup(req.text)\n",
    "soup = BeautifulSoup(req.text, 'lxml')\n",
    "soup.title"
   ]
  },
  {
   "cell_type": "code",
   "execution_count": 11,
   "metadata": {},
   "outputs": [
    {
     "data": {
      "text/plain": [
       "2"
      ]
     },
     "execution_count": 11,
     "metadata": {},
     "output_type": "execute_result"
    }
   ],
   "source": [
    "len(list(soup.children))"
   ]
  },
  {
   "cell_type": "code",
   "execution_count": 12,
   "metadata": {},
   "outputs": [
    {
     "data": {
      "text/plain": [
       "<head>\n",
       "<title>SS.COM Dzīvokļi - Rīga - Sludinājumi</title>\n",
       "<meta content=\"text/html; charset=utf-8\" http-equiv=\"Content-Type\"/>\n",
       "<meta content=\"user-scalable=1, width=device-width, initial-scale=1.0\" name=\"viewport\"/>\n",
       "<meta content=\"Sludinājumi rīga dzīvokļi nekustamais īpašums centrs purvciems āgenskalns imanta ķengarags pļavnieki\" name=\"keywords\"/>\n",
       "<meta content=\"Sludinājumi. Dzīvokļi - Rīga, Centrs, Purvciems, Āgenskalns, Imanta, Ķengarags, Pļavnieki\" name=\"description\"/>\n",
       "<link href=\"https://m.ss.com/lv/real-estate/flats/riga/\" media=\"only screen and (max-width: 640px)\" rel=\"alternate\"/>\n",
       "<meta content=\"no\" http-equiv=\"imagetoolbar\"/>\n",
       "<base href=\"https://www.ss.com/\"/>\n",
       "<link href=\"https://i.ss.com/w_inc/style.css?v=198\" rel=\"stylesheet\"/>\n",
       "<style>html{overflow-y:scroll;}.page_bg{background-image:url('https://i.ss.com/img/head/classifieds.jpg?v=1' );background-repeat:no-repeat;}@media screen and (min-width:1280px){.page_bg{background-image:url('https://i.ss.com/img/head/classifieds-1280.jpg?v=1' );}}\n",
       ".l50{width:50px;}.l70{width:70px;}.l35{width:35px;}.l23{width:23px;}.l85{width:85px;}@media screen and (min-width:1280px){.l50{width:calc(50px*1.25);}.l70{width:calc(70px*1.25);}.l35{width:calc(35px*1.25);}.l23{width:calc(23px*1.25);}.l85{width:calc(85px*1.25);}}</style>\n",
       "<link href=\"/favicon.ico?v=1\" rel=\"shortcut icon\" type=\"image/x-icon\"/>\n",
       "<link href=\"/img/m/ss-com-57x57.png\" rel=\"apple-touch-icon\" sizes=\"57x57\"/>\n",
       "<link href=\"/img/m/ss-com-72x72.png\" rel=\"apple-touch-icon\" sizes=\"72x72\"/>\n",
       "<link href=\"/img/m/ss-com-114x114.png\" rel=\"apple-touch-icon\" sizes=\"114x114\"/>\n",
       "<link href=\"https://www.ss.com/lv/real-estate/flats/riga/\" hreflang=\"lv\" rel=\"alternate\"/><link href=\"https://www.ss.com/ru/real-estate/flats/riga/\" hreflang=\"ru\" rel=\"alternate\"/>\n",
       "<script src=\"https://i.ss.com/w_inc/js/main.lv.ss.js?v=514\" type=\"text/javascript\"></script>\n",
       "<script src=\"//www.ss.com/lv/real-estate/flats/riga/js-count-14195-0-0-0-0.js\" type=\"text/javascript\"></script><script async=\"\" src=\"https://i.ss.com/w_inc/adsbygoogle.js?v=514\"></script>\n",
       "<script type=\"text/javascript\">\n",
       "<!--\n",
       "LINK_MAIN_HOST = \"https://www.ss.com\";var REGION = \"\";SS_Lang = \"2\";get_page_zoom();\n",
       "if(window._setCookie){_setCookie(\"LG\",\"lv\",365,\"www.ss.com\");};if(window._check_remote_id){_check_remote_id( \"new\", \"https://www.ss.lv\" );}\n",
       "-->\n",
       "</script>\n",
       "</head>"
      ]
     },
     "execution_count": 12,
     "metadata": {},
     "output_type": "execute_result"
    }
   ],
   "source": [
    "soup.head"
   ]
  },
  {
   "cell_type": "code",
   "execution_count": 13,
   "metadata": {},
   "outputs": [
    {
     "data": {
      "text/plain": [
       "10"
      ]
     },
     "execution_count": 13,
     "metadata": {},
     "output_type": "execute_result"
    }
   ],
   "source": [
    "len(list(soup.body.children))"
   ]
  },
  {
   "cell_type": "code",
   "execution_count": 14,
   "metadata": {},
   "outputs": [
    {
     "data": {
      "text/plain": [
       "list_iterator"
      ]
     },
     "execution_count": 14,
     "metadata": {},
     "output_type": "execute_result"
    }
   ],
   "source": [
    "type(soup.body.children)"
   ]
  },
  {
   "cell_type": "code",
   "execution_count": 16,
   "metadata": {},
   "outputs": [
    {
     "data": {
      "text/plain": [
       "<div id=\"left_banner\" style=\"position:absolute;height:0px;width:0px;top:15px;left:10px;z-index:0;\" z-index=\"0\"></div>"
      ]
     },
     "execution_count": 16,
     "metadata": {},
     "output_type": "execute_result"
    }
   ],
   "source": [
    "bchildren = [el for el in soup.body.children]\n",
    "bchildren[1]"
   ]
  },
  {
   "cell_type": "code",
   "execution_count": 20,
   "metadata": {},
   "outputs": [
    {
     "data": {
      "text/plain": [
       "72"
      ]
     },
     "execution_count": 20,
     "metadata": {},
     "output_type": "execute_result"
    }
   ],
   "source": [
    "req.text.count('<a')"
   ]
  },
  {
   "cell_type": "code",
   "execution_count": 17,
   "metadata": {},
   "outputs": [
    {
     "data": {
      "text/plain": [
       "72"
      ]
     },
     "execution_count": 17,
     "metadata": {},
     "output_type": "execute_result"
    }
   ],
   "source": [
    "# using find all we can find all tags and also more specific matches\n",
    "allanchors = soup.find_all('a')\n",
    "len(allanchors)"
   ]
  },
  {
   "cell_type": "code",
   "execution_count": 21,
   "metadata": {},
   "outputs": [
    {
     "data": {
      "text/plain": [
       "55"
      ]
     },
     "execution_count": 21,
     "metadata": {},
     "output_type": "execute_result"
    }
   ],
   "source": [
    "# we find all h4 headlines which have class with name category\n",
    "h4list = soup.find_all('h4', {'class': 'category'})\n",
    "len(h4list)"
   ]
  },
  {
   "cell_type": "code",
   "execution_count": 22,
   "metadata": {},
   "outputs": [
    {
     "data": {
      "text/plain": [
       "'Centrs'"
      ]
     },
     "execution_count": 22,
     "metadata": {},
     "output_type": "execute_result"
    }
   ],
   "source": [
    "h4list[0].text"
   ]
  },
  {
   "cell_type": "code",
   "execution_count": 24,
   "metadata": {},
   "outputs": [
    {
     "data": {
      "text/plain": [
       "bs4.element.Tag"
      ]
     },
     "execution_count": 24,
     "metadata": {},
     "output_type": "execute_result"
    }
   ],
   "source": [
    "centerh4 = h4list[0]\n",
    "type(centerh4)"
   ]
  },
  {
   "cell_type": "code",
   "execution_count": 25,
   "metadata": {},
   "outputs": [
    {
     "data": {
      "text/plain": [
       "bs4.element.ResultSet"
      ]
     },
     "execution_count": 25,
     "metadata": {},
     "output_type": "execute_result"
    }
   ],
   "source": [
    "centerChildren = centerh4.findChildren()\n",
    "type(centerChildren)"
   ]
  },
  {
   "cell_type": "code",
   "execution_count": 26,
   "metadata": {},
   "outputs": [
    {
     "data": {
      "text/plain": [
       "1"
      ]
     },
     "execution_count": 26,
     "metadata": {},
     "output_type": "execute_result"
    }
   ],
   "source": [
    "len(centerChildren)"
   ]
  },
  {
   "cell_type": "code",
   "execution_count": 23,
   "metadata": {},
   "outputs": [
    {
     "data": {
      "text/plain": [
       "[<a class=\"a_category\" href=\"/lv/real-estate/flats/riga/centre/\" id=\"ahc_1106\" title=\"Centrs, Sludinājumi\">Centrs</a>]"
      ]
     },
     "execution_count": 23,
     "metadata": {},
     "output_type": "execute_result"
    }
   ],
   "source": [
    "h4list[0].findChildren()"
   ]
  },
  {
   "cell_type": "code",
   "execution_count": 27,
   "metadata": {},
   "outputs": [
    {
     "data": {
      "text/plain": [
       "55"
      ]
     },
     "execution_count": 27,
     "metadata": {},
     "output_type": "execute_result"
    }
   ],
   "source": [
    "# we want all anchor (tag \"a\") which have class 'a_category'\n",
    "anchorlist = soup.find_all('a', {'class': 'a_category'})\n",
    "len(anchorlist)"
   ]
  },
  {
   "cell_type": "code",
   "execution_count": 28,
   "metadata": {},
   "outputs": [
    {
     "data": {
      "text/plain": [
       "<a class=\"a_category\" href=\"/lv/real-estate/flats/riga/all/\" id=\"ahc_14195\">Visi sludinājumi</a>"
      ]
     },
     "execution_count": 28,
     "metadata": {},
     "output_type": "execute_result"
    }
   ],
   "source": [
    "anchorlist[-1]"
   ]
  },
  {
   "cell_type": "code",
   "execution_count": 29,
   "metadata": {},
   "outputs": [
    {
     "data": {
      "text/plain": [
       "<a class=\"a_category\" href=\"/lv/real-estate/flats/riga/centre/\" id=\"ahc_1106\" title=\"Centrs, Sludinājumi\">Centrs</a>"
      ]
     },
     "execution_count": 29,
     "metadata": {},
     "output_type": "execute_result"
    }
   ],
   "source": [
    "anchorlist[0]"
   ]
  },
  {
   "cell_type": "code",
   "execution_count": 30,
   "metadata": {},
   "outputs": [
    {
     "data": {
      "text/plain": [
       "53"
      ]
     },
     "execution_count": 30,
     "metadata": {},
     "output_type": "execute_result"
    }
   ],
   "source": [
    "# we do not need the last 2\n",
    "cleanlist = anchorlist[:-2]\n",
    "len(cleanlist)"
   ]
  },
  {
   "cell_type": "code",
   "execution_count": 31,
   "metadata": {},
   "outputs": [],
   "source": [
    "centrs = cleanlist[0]"
   ]
  },
  {
   "cell_type": "code",
   "execution_count": 32,
   "metadata": {},
   "outputs": [
    {
     "data": {
      "text/plain": [
       "'Centrs'"
      ]
     },
     "execution_count": 32,
     "metadata": {},
     "output_type": "execute_result"
    }
   ],
   "source": [
    "centrs.text"
   ]
  },
  {
   "cell_type": "code",
   "execution_count": 33,
   "metadata": {},
   "outputs": [
    {
     "data": {
      "text/plain": [
       "{'id': 'ahc_1106',\n",
       " 'href': '/lv/real-estate/flats/riga/centre/',\n",
       " 'class': ['a_category'],\n",
       " 'title': 'Centrs, Sludinājumi'}"
      ]
     },
     "execution_count": 33,
     "metadata": {},
     "output_type": "execute_result"
    }
   ],
   "source": [
    "centrs.attrs"
   ]
  },
  {
   "cell_type": "code",
   "execution_count": 35,
   "metadata": {},
   "outputs": [
    {
     "data": {
      "text/plain": [
       "'/lv/real-estate/flats/riga/centre/'"
      ]
     },
     "execution_count": 35,
     "metadata": {},
     "output_type": "execute_result"
    }
   ],
   "source": [
    "centrs.attrs['href']"
   ]
  },
  {
   "cell_type": "code",
   "execution_count": 37,
   "metadata": {},
   "outputs": [
    {
     "data": {
      "text/plain": [
       "['/lv/real-estate/flats/riga/centre/',\n",
       " '/lv/real-estate/flats/riga/agenskalns/',\n",
       " '/lv/real-estate/flats/riga/aplokciems/',\n",
       " '/lv/real-estate/flats/riga/beberbeki/',\n",
       " '/lv/real-estate/flats/riga/bergi/']"
      ]
     },
     "execution_count": 37,
     "metadata": {},
     "output_type": "execute_result"
    }
   ],
   "source": [
    "# lets make a list of all href values in cleanlist\n",
    "# cleanurls should contain ['/lv/real-estate/flats/riga/centre/',.....]\n",
    "cleanurls = [i.attrs.get('href') for i in cleanlist]\n",
    "cleanurls[:5]\n"
   ]
  },
  {
   "cell_type": "code",
   "execution_count": 9,
   "metadata": {},
   "outputs": [
    {
     "data": {
      "text/plain": [
       "[<a class=\"a_category\" href=\"/lv/real-estate/flats/riga/centre/\" id=\"ahc_1106\" title=\"Centrs, Sludinājumi\">Centrs</a>,\n",
       " <a class=\"a_category\" href=\"/lv/real-estate/flats/riga/agenskalns/\" id=\"ahc_1088\" title=\"Āgenskalns, Sludinājumi\">Āgenskalns</a>,\n",
       " <a class=\"a_category\" href=\"/lv/real-estate/flats/riga/aplokciems/\" id=\"ahc_1114\" title=\"Aplokciems, Sludinājumi\">Aplokciems</a>,\n",
       " <a class=\"a_category\" href=\"/lv/real-estate/flats/riga/beberbeki/\" id=\"ahc_5061\" title=\"Beberbeķi, Sludinājumi\">Beberbeķi</a>,\n",
       " <a class=\"a_category\" href=\"/lv/real-estate/flats/riga/bergi/\" id=\"ahc_1173\" title=\"Berģi, Sludinājumi\">Berģi</a>]"
      ]
     },
     "execution_count": 9,
     "metadata": {},
     "output_type": "execute_result"
    }
   ],
   "source": [
    "anchorlist[:5]"
   ]
  },
  {
   "cell_type": "code",
   "execution_count": 10,
   "metadata": {},
   "outputs": [
    {
     "data": {
      "text/plain": [
       "'Āgenskalns'"
      ]
     },
     "execution_count": 10,
     "metadata": {},
     "output_type": "execute_result"
    }
   ],
   "source": [
    "anchorlist[1].text"
   ]
  },
  {
   "cell_type": "code",
   "execution_count": 13,
   "metadata": {},
   "outputs": [
    {
     "data": {
      "text/plain": [
       "52"
      ]
     },
     "execution_count": 13,
     "metadata": {},
     "output_type": "execute_result"
    }
   ],
   "source": [
    "# when we know what specific items we do not want\n",
    "flist = anchorlist[:-1]\n",
    "len(flist)"
   ]
  },
  {
   "cell_type": "code",
   "execution_count": 40,
   "metadata": {},
   "outputs": [
    {
     "data": {
      "text/plain": [
       "['/lv/real-estate/flats/riga/zakusala/',\n",
       " '/lv/real-estate/flats/riga/zasulauks/',\n",
       " '/lv/real-estate/flats/riga/ziepniekkalns/',\n",
       " '/lv/real-estate/flats/riga/zolitude/',\n",
       " '/lv/real-estate/flats/riga/vef/']"
      ]
     },
     "execution_count": 40,
     "metadata": {},
     "output_type": "execute_result"
    }
   ],
   "source": [
    "cleanurls[-5:]"
   ]
  },
  {
   "cell_type": "code",
   "execution_count": 39,
   "metadata": {},
   "outputs": [
    {
     "data": {
      "text/plain": [
       "54"
      ]
     },
     "execution_count": 39,
     "metadata": {},
     "output_type": "execute_result"
    }
   ],
   "source": [
    "# more specific filter\n",
    "filteredlist = [el for el in anchorlist if \"visi sludinājumi\" not in el.text.lower()]\n",
    "len(filteredlist)"
   ]
  },
  {
   "cell_type": "code",
   "execution_count": 28,
   "metadata": {},
   "outputs": [
    {
     "data": {
      "text/plain": [
       "'/lv/real-estate/flats/riga/centre/'"
      ]
     },
     "execution_count": 28,
     "metadata": {},
     "output_type": "execute_result"
    }
   ],
   "source": [
    "filteredlist[0]['href']"
   ]
  },
  {
   "cell_type": "code",
   "execution_count": 29,
   "metadata": {},
   "outputs": [
    {
     "data": {
      "text/plain": [
       "52"
      ]
     },
     "execution_count": 29,
     "metadata": {},
     "output_type": "execute_result"
    }
   ],
   "source": [
    "# we should get all urls here\n",
    "urlist = [el['href'] for el in filteredlist]\n",
    "len(urlist)"
   ]
  },
  {
   "cell_type": "code",
   "execution_count": 30,
   "metadata": {},
   "outputs": [
    {
     "data": {
      "text/plain": [
       "'/lv/real-estate/flats/riga/centre/'"
      ]
     },
     "execution_count": 30,
     "metadata": {},
     "output_type": "execute_result"
    }
   ],
   "source": [
    "urlist[0]"
   ]
  },
  {
   "cell_type": "code",
   "execution_count": 41,
   "metadata": {},
   "outputs": [],
   "source": [
    "baseurl = \"https://www.ss.com\""
   ]
  },
  {
   "cell_type": "code",
   "execution_count": 48,
   "metadata": {},
   "outputs": [
    {
     "data": {
      "text/plain": [
       "['https://www.ss.com/lv/real-estate/flats/riga/centre/',\n",
       " 'https://www.ss.com/lv/real-estate/flats/riga/agenskalns/']"
      ]
     },
     "execution_count": 48,
     "metadata": {},
     "output_type": "execute_result"
    }
   ],
   "source": [
    "# create a new list appending base url to each element\n",
    "furlist = [baseurl + el for el in cleanurls]\n",
    "furlist[:2]"
   ]
  },
  {
   "cell_type": "code",
   "execution_count": null,
   "metadata": {},
   "outputs": [],
   "source": []
  },
  {
   "cell_type": "code",
   "execution_count": 44,
   "metadata": {},
   "outputs": [],
   "source": [
    "# we are only intersted in those apartments for sale (not rent or otherwise)\n",
    "postfix = 'sell/'"
   ]
  },
  {
   "cell_type": "code",
   "execution_count": 52,
   "metadata": {},
   "outputs": [
    {
     "data": {
      "text/plain": [
       "['https://www.ss.com/lv/real-estate/flats/riga/centre/sell/',\n",
       " 'https://www.ss.com/lv/real-estate/flats/riga/agenskalns/sell/']"
      ]
     },
     "execution_count": 52,
     "metadata": {},
     "output_type": "execute_result"
    }
   ],
   "source": [
    "sellist = [el + postfix for el in furlist]\n",
    "sellist[:2]"
   ]
  },
  {
   "cell_type": "code",
   "execution_count": 47,
   "metadata": {},
   "outputs": [
    {
     "data": {
      "text/plain": [
       "[('Centrs',\n",
       "  'Centrs, Sludinājumi',\n",
       "  'https://www.ss.com/lv/real-estate/flats/riga/centre/sell/'),\n",
       " ('Āgenskalns',\n",
       "  'Āgenskalns, Sludinājumi',\n",
       "  'https://www.ss.com/lv/real-estate/flats/riga/agenskalns/sell/'),\n",
       " ('Aplokciems',\n",
       "  'Aplokciems, Sludinājumi',\n",
       "  'https://www.ss.com/lv/real-estate/flats/riga/aplokciems/sell/'),\n",
       " ('Beberbeķi',\n",
       "  'Beberbeķi, Sludinājumi',\n",
       "  'https://www.ss.com/lv/real-estate/flats/riga/beberbeki/sell/'),\n",
       " ('Berģi',\n",
       "  'Berģi, Sludinājumi',\n",
       "  'https://www.ss.com/lv/real-estate/flats/riga/bergi/sell/')]"
      ]
     },
     "execution_count": 47,
     "metadata": {},
     "output_type": "execute_result"
    }
   ],
   "source": [
    "# we create a list of tuples containing the area and the full url for the area\n",
    "handoverlist = [(el.text, el['title'], baseurl + el['href'] + postfix ) for el in cleanlist ]\n",
    "handoverlist[:5]"
   ]
  },
  {
   "cell_type": "code",
   "execution_count": 53,
   "metadata": {},
   "outputs": [
    {
     "data": {
      "text/plain": [
       "'https://www.ss.com/lv/real-estate/flats/riga/centre/sell/'"
      ]
     },
     "execution_count": 53,
     "metadata": {},
     "output_type": "execute_result"
    }
   ],
   "source": [
    "centrs = sellist[0]\n",
    "centrs"
   ]
  },
  {
   "cell_type": "code",
   "execution_count": 54,
   "metadata": {},
   "outputs": [
    {
     "data": {
      "text/plain": [
       "200"
      ]
     },
     "execution_count": 54,
     "metadata": {},
     "output_type": "execute_result"
    }
   ],
   "source": [
    "req = requests.get(centrs)\n",
    "req.status_code"
   ]
  },
  {
   "cell_type": "code",
   "execution_count": 55,
   "metadata": {},
   "outputs": [
    {
     "data": {
      "text/plain": [
       "<title>SS.COM Dzīvokļi - Rīga - Centrs, Cenas, Pārdod - Sludinājumi</title>"
      ]
     },
     "execution_count": 55,
     "metadata": {},
     "output_type": "execute_result"
    }
   ],
   "source": [
    "csoup = BeautifulSoup(req.text, \"lxml\")\n",
    "csoup.title"
   ]
  },
  {
   "cell_type": "code",
   "execution_count": 56,
   "metadata": {},
   "outputs": [
    {
     "data": {
      "text/plain": [
       "10"
      ]
     },
     "execution_count": 56,
     "metadata": {},
     "output_type": "execute_result"
    }
   ],
   "source": [
    "pageanchors = csoup.find_all('a', {'name':'nav_id'})\n",
    "len(pageanchors)"
   ]
  },
  {
   "cell_type": "code",
   "execution_count": 57,
   "metadata": {},
   "outputs": [
    {
     "data": {
      "text/plain": [
       "<a class=\"navi\" href=\"/lv/real-estate/flats/riga/centre/sell/page26.html\" name=\"nav_id\" rel=\"prev\"><img border=\"0\" height=\"5\" src=\"https://i.ss.com/img/s_left.png\" style=\"padding-bottom:2px;\" width=\"9\"/> Iepriekšējie</a>"
      ]
     },
     "execution_count": 57,
     "metadata": {},
     "output_type": "execute_result"
    }
   ],
   "source": [
    "pageanchors[0]"
   ]
  },
  {
   "cell_type": "code",
   "execution_count": 59,
   "metadata": {},
   "outputs": [
    {
     "data": {
      "text/plain": [
       "'/lv/real-estate/flats/riga/centre/sell/page26.html'"
      ]
     },
     "execution_count": 59,
     "metadata": {},
     "output_type": "execute_result"
    }
   ],
   "source": [
    "href = pageanchors[0]['href']\n",
    "href"
   ]
  },
  {
   "cell_type": "code",
   "execution_count": 60,
   "metadata": {},
   "outputs": [
    {
     "data": {
      "text/plain": [
       "['/lv/real-estate/flats/riga/centre/sell/page26', 'html']"
      ]
     },
     "execution_count": 60,
     "metadata": {},
     "output_type": "execute_result"
    }
   ],
   "source": [
    "href.split(\".\")"
   ]
  },
  {
   "cell_type": "code",
   "execution_count": 64,
   "metadata": {},
   "outputs": [
    {
     "data": {
      "text/plain": [
       "26"
      ]
     },
     "execution_count": 64,
     "metadata": {},
     "output_type": "execute_result"
    }
   ],
   "source": [
    "# lets try writing in one line\n",
    "pagecount = int(href.split(\".\")[0].split(\"page\")[-1])\n",
    "pagecount"
   ]
  },
  {
   "cell_type": "code",
   "execution_count": 65,
   "metadata": {},
   "outputs": [
    {
     "data": {
      "text/plain": [
       "'https://www.ss.com/lv/real-estate/flats/riga/centre/sell/'"
      ]
     },
     "execution_count": 65,
     "metadata": {},
     "output_type": "execute_result"
    }
   ],
   "source": [
    "centrs"
   ]
  },
  {
   "cell_type": "code",
   "execution_count": 68,
   "metadata": {},
   "outputs": [
    {
     "data": {
      "text/plain": [
       "['https://www.ss.com/lv/real-estate/flats/riga/centre/sell/',\n",
       " 'https://www.ss.com/lv/real-estate/flats/riga/centre/sell/page2.html',\n",
       " 'https://www.ss.com/lv/real-estate/flats/riga/centre/sell/page3.html',\n",
       " 'https://www.ss.com/lv/real-estate/flats/riga/centre/sell/page4.html',\n",
       " 'https://www.ss.com/lv/real-estate/flats/riga/centre/sell/page5.html']"
      ]
     },
     "execution_count": 68,
     "metadata": {},
     "output_type": "execute_result"
    }
   ],
   "source": [
    "myurls = [centrs]\n",
    "extraurls = [centrs+\"page\"+str(n)+\".html\" for n in range(2, pagecount+1)]\n",
    "myurls += extraurls\n",
    "myurls[:5]"
   ]
  },
  {
   "cell_type": "code",
   "execution_count": 69,
   "metadata": {},
   "outputs": [
    {
     "data": {
      "text/plain": [
       "['https://www.ss.com/lv/real-estate/flats/riga/centre/sell/page24.html',\n",
       " 'https://www.ss.com/lv/real-estate/flats/riga/centre/sell/page25.html',\n",
       " 'https://www.ss.com/lv/real-estate/flats/riga/centre/sell/page26.html']"
      ]
     },
     "execution_count": 69,
     "metadata": {},
     "output_type": "execute_result"
    }
   ],
   "source": [
    "myurls[-3:]"
   ]
  },
  {
   "cell_type": "code",
   "execution_count": 73,
   "metadata": {},
   "outputs": [],
   "source": [
    "def getAllRegionUrls(regionURL):\n",
    "    req = requests.get(regionURL)\n",
    "    if req.status_code != 200:\n",
    "        return []\n",
    "    csoup = BeautifulSoup(req.text, 'lxml')\n",
    "    pageanchors = csoup.find_all('a', {'name':'nav_id'})\n",
    "    allRegionUrls = [regionURL] # base scenario we only get a list with the starting url\n",
    "    if len(pageanchors) == 0:\n",
    "        return allRegionUrls\n",
    "    href = pageanchors[0].get('href')\n",
    "    if not href:\n",
    "        return allRegionUrls\n",
    "    pagecount = int(href.split(\".\")[0].split(\"page\")[-1])\n",
    "    extraurls = [regionURL+\"page\"+str(n)+\".html\" for n in range(2, pagecount+1)]\n",
    "    allRegionUrls += extraurls\n",
    "    return allRegionUrls\n",
    "    \n",
    "    "
   ]
  },
  {
   "cell_type": "code",
   "execution_count": 74,
   "metadata": {},
   "outputs": [
    {
     "data": {
      "text/plain": [
       "26"
      ]
     },
     "execution_count": 74,
     "metadata": {},
     "output_type": "execute_result"
    }
   ],
   "source": [
    "centerUrls = getAllRegionUrls(centrs)\n",
    "len(centerUrls)"
   ]
  },
  {
   "cell_type": "code",
   "execution_count": 72,
   "metadata": {},
   "outputs": [
    {
     "data": {
      "text/plain": [
       "26"
      ]
     },
     "execution_count": 72,
     "metadata": {},
     "output_type": "execute_result"
    }
   ],
   "source": [
    "len(centerUrls)"
   ]
  },
  {
   "cell_type": "code",
   "execution_count": 39,
   "metadata": {},
   "outputs": [],
   "source": [
    "# create a dictionary from our list of tuples\n",
    "handdict = { el[0]:el[1] for el in handoverlist}\n"
   ]
  },
  {
   "cell_type": "code",
   "execution_count": 40,
   "metadata": {},
   "outputs": [
    {
     "data": {
      "text/plain": [
       "'https://www.ss.com/lv/real-estate/flats/riga/centre/hand_over/'"
      ]
     },
     "execution_count": 40,
     "metadata": {},
     "output_type": "execute_result"
    }
   ],
   "source": [
    "handdict['Centrs']"
   ]
  },
  {
   "cell_type": "code",
   "execution_count": null,
   "metadata": {},
   "outputs": [],
   "source": [
    "# Pandas has built in web scraper for tables"
   ]
  },
  {
   "cell_type": "code",
   "execution_count": 35,
   "metadata": {},
   "outputs": [
    {
     "data": {
      "text/plain": [
       "7"
      ]
     },
     "execution_count": 35,
     "metadata": {},
     "output_type": "execute_result"
    }
   ],
   "source": [
    "dftables = pd.read_html(sellist[0])\n",
    "len(dftables)"
   ]
  },
  {
   "cell_type": "code",
   "execution_count": 36,
   "metadata": {},
   "outputs": [
    {
     "data": {
      "text/html": [
       "<div>\n",
       "<style scoped>\n",
       "    .dataframe tbody tr th:only-of-type {\n",
       "        vertical-align: middle;\n",
       "    }\n",
       "\n",
       "    .dataframe tbody tr th {\n",
       "        vertical-align: top;\n",
       "    }\n",
       "\n",
       "    .dataframe thead th {\n",
       "        text-align: right;\n",
       "    }\n",
       "</style>\n",
       "<table border=\"1\" class=\"dataframe\">\n",
       "  <thead>\n",
       "    <tr style=\"text-align: right;\">\n",
       "      <th></th>\n",
       "      <th>0</th>\n",
       "      <th>1</th>\n",
       "      <th>2</th>\n",
       "      <th>3</th>\n",
       "      <th>4</th>\n",
       "      <th>5</th>\n",
       "      <th>6</th>\n",
       "      <th>7</th>\n",
       "      <th>8</th>\n",
       "      <th>9</th>\n",
       "    </tr>\n",
       "  </thead>\n",
       "  <tbody>\n",
       "    <tr>\n",
       "      <th>0</th>\n",
       "      <td>Sludinājumi \\tdatums</td>\n",
       "      <td>Sludinājumi \\tdatums</td>\n",
       "      <td>Sludinājumi \\tdatums</td>\n",
       "      <td>Iela</td>\n",
       "      <td>Ist.</td>\n",
       "      <td>m2</td>\n",
       "      <td>Stāvs</td>\n",
       "      <td>Sērija</td>\n",
       "      <td>Cena, m2</td>\n",
       "      <td>Cena</td>\n",
       "    </tr>\n",
       "    <tr>\n",
       "      <th>1</th>\n",
       "      <td>NaN</td>\n",
       "      <td>NaN</td>\n",
       "      <td>Bez komisijas maksas. Izīrē studijas tipa dzīv...</td>\n",
       "      <td>Valdemāra 71</td>\n",
       "      <td>5</td>\n",
       "      <td>110</td>\n",
       "      <td>6/6</td>\n",
       "      <td>P. kara</td>\n",
       "      <td>7.18 €</td>\n",
       "      <td>790 €/mēn.</td>\n",
       "    </tr>\n",
       "    <tr>\n",
       "      <th>2</th>\n",
       "      <td>NaN</td>\n",
       "      <td>NaN</td>\n",
       "      <td>Īstermiņā no 2st. tiek izīrēts saulains, mājīg...</td>\n",
       "      <td>Matīsa 100</td>\n",
       "      <td>1</td>\n",
       "      <td>30</td>\n",
       "      <td>4/5</td>\n",
       "      <td>Renov.</td>\n",
       "      <td>0.833 €</td>\n",
       "      <td>25 €/dienā</td>\n",
       "    </tr>\n",
       "    <tr>\n",
       "      <th>3</th>\n",
       "      <td>NaN</td>\n",
       "      <td>NaN</td>\n",
       "      <td>Izīrēju ilgtermiņā plašu trīs istabu dzīvokli ...</td>\n",
       "      <td>Hospitāļu 15</td>\n",
       "      <td>3</td>\n",
       "      <td>77</td>\n",
       "      <td>3/5</td>\n",
       "      <td>P. kara</td>\n",
       "      <td>6.75 €</td>\n",
       "      <td>520 €/mēn.</td>\n",
       "    </tr>\n",
       "    <tr>\n",
       "      <th>4</th>\n",
       "      <td>NaN</td>\n",
       "      <td>NaN</td>\n",
       "      <td>Для краткосрочной аренды сдаётся уютная, двухк...</td>\n",
       "      <td>Lāčplēša 221</td>\n",
       "      <td>2</td>\n",
       "      <td>41</td>\n",
       "      <td>3/4</td>\n",
       "      <td>P. kara</td>\n",
       "      <td>0.854 €</td>\n",
       "      <td>35 €/dienā</td>\n",
       "    </tr>\n",
       "  </tbody>\n",
       "</table>\n",
       "</div>"
      ],
      "text/plain": [
       "                      0                     1  \\\n",
       "0  Sludinājumi \\tdatums  Sludinājumi \\tdatums   \n",
       "1                   NaN                   NaN   \n",
       "2                   NaN                   NaN   \n",
       "3                   NaN                   NaN   \n",
       "4                   NaN                   NaN   \n",
       "\n",
       "                                                   2             3     4    5  \\\n",
       "0                               Sludinājumi \\tdatums          Iela  Ist.   m2   \n",
       "1  Bez komisijas maksas. Izīrē studijas tipa dzīv...  Valdemāra 71     5  110   \n",
       "2  Īstermiņā no 2st. tiek izīrēts saulains, mājīg...    Matīsa 100     1   30   \n",
       "3  Izīrēju ilgtermiņā plašu trīs istabu dzīvokli ...  Hospitāļu 15     3   77   \n",
       "4  Для краткосрочной аренды сдаётся уютная, двухк...  Lāčplēša 221     2   41   \n",
       "\n",
       "       6        7         8           9  \n",
       "0  Stāvs   Sērija  Cena, m2        Cena  \n",
       "1    6/6  P. kara    7.18 €  790 €/mēn.  \n",
       "2    4/5   Renov.   0.833 €  25 €/dienā  \n",
       "3    3/5  P. kara    6.75 €  520 €/mēn.  \n",
       "4    3/4  P. kara   0.854 €  35 €/dienā  "
      ]
     },
     "execution_count": 36,
     "metadata": {},
     "output_type": "execute_result"
    }
   ],
   "source": [
    "centrs = dftables[4]\n",
    "centrs.head()"
   ]
  },
  {
   "cell_type": "code",
   "execution_count": null,
   "metadata": {},
   "outputs": [],
   "source": [
    "type(riga)"
   ]
  },
  {
   "cell_type": "code",
   "execution_count": null,
   "metadata": {},
   "outputs": [],
   "source": [
    "rreq = requests.get(sellist[0])\n",
    "rreq.status_code"
   ]
  },
  {
   "cell_type": "code",
   "execution_count": null,
   "metadata": {},
   "outputs": [],
   "source": [
    "rsoup = BeautifulSoup(rreq.text, 'lxml')\n",
    "rsoup.title"
   ]
  },
  {
   "cell_type": "code",
   "execution_count": null,
   "metadata": {},
   "outputs": [],
   "source": [
    "ranchors = rsoup.find_all('a', class_ = 'am')\n",
    "len(ranchors)"
   ]
  },
  {
   "cell_type": "code",
   "execution_count": null,
   "metadata": {},
   "outputs": [],
   "source": [
    "ranchors[0]"
   ]
  },
  {
   "cell_type": "code",
   "execution_count": null,
   "metadata": {},
   "outputs": [],
   "source": [
    "rurls= [baseurl+el['href'] for el in ranchors]\n",
    "rurls[0]"
   ]
  },
  {
   "cell_type": "code",
   "execution_count": null,
   "metadata": {},
   "outputs": [],
   "source": [
    "sellist[0]"
   ]
  },
  {
   "cell_type": "code",
   "execution_count": 41,
   "metadata": {},
   "outputs": [],
   "source": [
    "def getUrlList(url, prefix='https://www.ss.com', postfix='sell/', tag='a', class_='a_category'):\n",
    "    req = requests.get(url)\n",
    "    if req.status_code != 200:\n",
    "        print(f'Unexpected status code {req.status_code}. Stopping parse')\n",
    "        return [] #return early and often principle\n",
    "    soup = BeautifulSoup(req.text, 'lxml') # could skip soup variable as well but keeping for readability\n",
    "    return [ prefix + el['href'] + postfix for el in soup.find_all(tag, class_) ]\n",
    "    # What else could we pass as argument? How could our return fail?"
   ]
  },
  {
   "cell_type": "code",
   "execution_count": null,
   "metadata": {},
   "outputs": [],
   "source": [
    "woodlist = getUrlList(\"https://www.ss.com/lv/real-estate/wood/\")\n",
    "len(woodlist)"
   ]
  },
  {
   "cell_type": "code",
   "execution_count": 42,
   "metadata": {},
   "outputs": [
    {
     "data": {
      "text/plain": [
       "('Centrs', 'https://www.ss.com/lv/real-estate/flats/riga/centre/hand_over/')"
      ]
     },
     "execution_count": 42,
     "metadata": {},
     "output_type": "execute_result"
    }
   ],
   "source": [
    "handoverlist[0]"
   ]
  },
  {
   "cell_type": "code",
   "execution_count": 43,
   "metadata": {},
   "outputs": [
    {
     "data": {
      "text/plain": [
       "'https://www.ss.com/lv/real-estate/flats/riga/centre/hand_over/'"
      ]
     },
     "execution_count": 43,
     "metadata": {},
     "output_type": "execute_result"
    }
   ],
   "source": [
    "curl=handoverlist[0][1]\n",
    "curl"
   ]
  },
  {
   "cell_type": "code",
   "execution_count": 44,
   "metadata": {},
   "outputs": [
    {
     "data": {
      "text/plain": [
       "200"
      ]
     },
     "execution_count": 44,
     "metadata": {},
     "output_type": "execute_result"
    }
   ],
   "source": [
    "rreq = requests.get(curl)\n",
    "rreq.status_code"
   ]
  },
  {
   "cell_type": "code",
   "execution_count": 45,
   "metadata": {},
   "outputs": [
    {
     "data": {
      "text/plain": [
       "<title>SS.COM Dzīvokļi - Rīga - Centrs, Cenas, Izīrē - Sludinājumi</title>"
      ]
     },
     "execution_count": 45,
     "metadata": {},
     "output_type": "execute_result"
    }
   ],
   "source": [
    "rsoup = BeautifulSoup(rreq.text, 'lxml')\n",
    "rsoup.title"
   ]
  },
  {
   "cell_type": "code",
   "execution_count": 46,
   "metadata": {},
   "outputs": [
    {
     "data": {
      "text/plain": [
       "7"
      ]
     },
     "execution_count": 46,
     "metadata": {},
     "output_type": "execute_result"
    }
   ],
   "source": [
    "rtables = rsoup.find_all('table')\n",
    "len(rtables)"
   ]
  },
  {
   "cell_type": "code",
   "execution_count": 48,
   "metadata": {},
   "outputs": [],
   "source": [
    "# we will use regular expression to find only rows which start with tr_\n",
    "import re"
   ]
  },
  {
   "cell_type": "code",
   "execution_count": 54,
   "metadata": {},
   "outputs": [
    {
     "data": {
      "text/plain": [
       "30"
      ]
     },
     "execution_count": 54,
     "metadata": {},
     "output_type": "execute_result"
    }
   ],
   "source": [
    "# the part after r' we can find using https://regex101.com/ or other regular expression testers\n",
    "# so here we want all tr elements with id starting with tr_anydigit\n",
    "rrows = rsoup.find_all('tr',id = re.compile(r'tr_[0-9]+')) #basic wildcard search could use tr_ in lambda function\n",
    "len(rrows)"
   ]
  },
  {
   "cell_type": "code",
   "execution_count": 56,
   "metadata": {},
   "outputs": [
    {
     "data": {
      "text/plain": [
       "40"
      ]
     },
     "execution_count": 56,
     "metadata": {},
     "output_type": "execute_result"
    }
   ],
   "source": [
    "# without regular expressions\n",
    "allrows = rsoup.find_all('tr')\n",
    "len(allrows)"
   ]
  },
  {
   "cell_type": "code",
   "execution_count": 66,
   "metadata": {},
   "outputs": [
    {
     "data": {
      "text/plain": [
       "31"
      ]
     },
     "execution_count": 66,
     "metadata": {},
     "output_type": "execute_result"
    }
   ],
   "source": [
    "# we need to check if element has attributes before we use that attribute\n",
    "# so we need to check el.attrs (which is a dictionary)\n",
    "fallrows = [el for el in allrows if 'id' in el.attrs and \"tr_\" in el['id']]\n",
    "len(fallrows)"
   ]
  },
  {
   "cell_type": "code",
   "execution_count": 67,
   "metadata": {},
   "outputs": [],
   "source": [
    "fallrows = fallrows[:-1]\n"
   ]
  },
  {
   "cell_type": "code",
   "execution_count": 65,
   "metadata": {},
   "outputs": [
    {
     "data": {
      "text/plain": [
       "False"
      ]
     },
     "execution_count": 65,
     "metadata": {},
     "output_type": "execute_result"
    }
   ],
   "source": [
    "'id' in allrows[2]"
   ]
  },
  {
   "cell_type": "code",
   "execution_count": 55,
   "metadata": {},
   "outputs": [
    {
     "data": {
      "text/plain": [
       "re.Pattern"
      ]
     },
     "execution_count": 55,
     "metadata": {},
     "output_type": "execute_result"
    }
   ],
   "source": [
    "type(re.compile(r'tr_[0-9]+'))"
   ]
  },
  {
   "cell_type": "code",
   "execution_count": 68,
   "metadata": {},
   "outputs": [
    {
     "name": "stdout",
     "output_type": "stream",
     "text": [
      "<tr id=\"head_line\">\n",
      "<td class=\"msg_column\" colspan=\"3\" width=\"70%\">\n",
      "<span style=\"float:left;\"> Sludinājumi\r\n",
      "</span>\n",
      "<span align=\"right\" class=\"msg_column\" style=\"float:right;text-align:right;padding-right:3px;\">\n",
      "<noindex>\n",
      "<a class=\"a19\" href=\"/lv/real-estate/flats/riga/centre/hand_over/fDgSeF4S.html\" rel=\"nofollow\">datums</a></noindex></span>\n",
      "</td>\n",
      "<td class=\"msg_column_td\" nowrap=\"\"><noindex><a class=\"a18\" href=\"/lv/real-estate/flats/riga/centre/hand_over/fDgSeF4SFDwT.html\" rel=\"nofollow\" title=\"\">Iela</a></noindex></td><td class=\"msg_column_td\" nowrap=\"\"><noindex><a class=\"a18\" href=\"/lv/real-estate/flats/riga/centre/hand_over/fDgSeF4SelM=.html\" rel=\"nofollow\" title=\"\">Ist.</a></noindex></td><td class=\"msg_column_td\" nowrap=\"\"><noindex><a class=\"a18\" href=\"/lv/real-estate/flats/riga/centre/hand_over/fDgSeF4QelM=.html\" rel=\"nofollow\" title=\"\">m2</a></noindex></td><td class=\"msg_column_td\" nowrap=\"\"><noindex><a class=\"a18\" href=\"/lv/real-estate/flats/riga/centre/hand_over/fDgSeF4XelM=.html\" rel=\"nofollow\" title=\"\">Stāvs</a></noindex></td><td class=\"msg_column_td\" nowrap=\"\"><noindex><a class=\"a18\" href=\"/lv/real-estate/flats/riga/centre/hand_over/fDgSeF4VelM=.html\" rel=\"nofollow\" title=\"\">Sērija</a></noindex></td><td background=\"https://i.ss.com/img/pl.gif\" class=\"msg_column\" nowrap=\"\" style=\"border-left:1px #FFFFFF solid;\"><noindex><a class=\"a18\" href=\"/lv/real-estate/flats/riga/centre/hand_over/fDgSeF4bRDwT.html\" rel=\"nofollow\">Cena, m2</a></noindex></td><td class=\"msg_column_td\" nowrap=\"\"><noindex><a class=\"a18\" href=\"/lv/real-estate/flats/riga/centre/hand_over/fDgSeF4belM=.html\" rel=\"nofollow\" title=\"\">Cena</a></noindex></td></tr>\n"
     ]
    }
   ],
   "source": [
    "headline = rsoup.find('tr', id = \"head_line\")\n",
    "print(headline)"
   ]
  },
  {
   "cell_type": "code",
   "execution_count": 69,
   "metadata": {},
   "outputs": [
    {
     "data": {
      "text/plain": [
       "['\\n\\xa0Sludinājumi\\r\\n\\n\\n\\ndatums\\n',\n",
       " 'Iela',\n",
       " 'Ist.',\n",
       " 'm2',\n",
       " 'Stāvs',\n",
       " 'Sērija',\n",
       " 'Cena, m2',\n",
       " 'Cena']"
      ]
     },
     "execution_count": 69,
     "metadata": {},
     "output_type": "execute_result"
    }
   ],
   "source": [
    "cindex = [el.text for el in headline.find_all('td')]\n",
    "cindex"
   ]
  },
  {
   "cell_type": "code",
   "execution_count": 70,
   "metadata": {},
   "outputs": [
    {
     "data": {
      "text/plain": [
       "'Sludinājumi'"
      ]
     },
     "execution_count": 70,
     "metadata": {},
     "output_type": "execute_result"
    }
   ],
   "source": [
    "cindex[0].split()[0]"
   ]
  },
  {
   "cell_type": "code",
   "execution_count": 71,
   "metadata": {},
   "outputs": [
    {
     "data": {
      "text/plain": [
       "['Sludinājumi', 'Iela', 'Ist.', 'm2', 'Stāvs', 'Sērija', 'Cena, m2', 'Cena']"
      ]
     },
     "execution_count": 71,
     "metadata": {},
     "output_type": "execute_result"
    }
   ],
   "source": [
    "cindex[0] = cindex[0].split()[0]\n",
    "cindex"
   ]
  },
  {
   "cell_type": "code",
   "execution_count": 72,
   "metadata": {},
   "outputs": [
    {
     "data": {
      "text/plain": [
       "['Sludinājumi',\n",
       " 'Iela',\n",
       " 'Ist.',\n",
       " 'm2',\n",
       " 'Stāvs',\n",
       " 'Sērija',\n",
       " 'Cena, m2',\n",
       " 'Cena',\n",
       " 'URL']"
      ]
     },
     "execution_count": 72,
     "metadata": {},
     "output_type": "execute_result"
    }
   ],
   "source": [
    "# this will be index that we will be passing to Pandas as column index at the end\n",
    "cindex += ['URL']  #vai cindex.append('URL')\n",
    "cindex"
   ]
  },
  {
   "cell_type": "code",
   "execution_count": 74,
   "metadata": {},
   "outputs": [
    {
     "data": {
      "text/plain": [
       "<tr id=\"tr_46628436\"><td class=\"msga2 pp0\"><input id=\"c46628436\" name=\"mid[]\" type=\"checkbox\" value=\"46628436_1106_0\"/></td><td class=\"msga2\"><a href=\"/msg/lv/real-estate/flats/riga/centre/ekljx.html\" id=\"im46628436\"><img alt=\"\" class=\"isfoto foto_list\" src=\"https://i.ss.com/gallery/3/440/109810/21961971.th2.jpg\"/></a></td><td class=\"msg2\"><div class=\"d1\"><a class=\"am\" data=\"aHolQTUlOEMlOUIlRDQlOUYlOTdpJTdEJTlFJThCJTk5JThFJUE0JTlCcCU3RSVBMiU5MCU5RSU4RQ==|7EmZgXnb\" href=\"/msg/lv/real-estate/flats/riga/centre/ekljx.html\" id=\"dm_46628436\">Bez komisijas maksas. Izīrē studijas tipa dzīvokli, kas izbūvēts</a></div></td><td c=\"1\" class=\"msga2-o pp6\" nowrap=\"\">Valdemāra 71</td><td c=\"1\" class=\"msga2-o pp6\" nowrap=\"\">5</td><td c=\"1\" class=\"msga2-o pp6\" nowrap=\"\">110</td><td c=\"1\" class=\"msga2-o pp6\" nowrap=\"\">6/6</td><td c=\"1\" class=\"msga2-o pp6\" nowrap=\"\">P. kara</td><td c=\"1\" class=\"msga2-o pp6\" nowrap=\"\">7.18 €</td><td c=\"1\" class=\"msga2-o pp6\" nowrap=\"\">790  €/mēn.</td></tr>"
      ]
     },
     "execution_count": 74,
     "metadata": {},
     "output_type": "execute_result"
    }
   ],
   "source": [
    "firstrow = rrows[0]\n",
    "firstrow"
   ]
  },
  {
   "cell_type": "code",
   "execution_count": 75,
   "metadata": {},
   "outputs": [
    {
     "data": {
      "text/plain": [
       "[<td class=\"msga2 pp0\"><input id=\"c46628436\" name=\"mid[]\" type=\"checkbox\" value=\"46628436_1106_0\"/></td>,\n",
       " <td class=\"msga2\"><a href=\"/msg/lv/real-estate/flats/riga/centre/ekljx.html\" id=\"im46628436\"><img alt=\"\" class=\"isfoto foto_list\" src=\"https://i.ss.com/gallery/3/440/109810/21961971.th2.jpg\"/></a></td>,\n",
       " <td class=\"msg2\"><div class=\"d1\"><a class=\"am\" data=\"aHolQTUlOEMlOUIlRDQlOUYlOTdpJTdEJTlFJThCJTk5JThFJUE0JTlCcCU3RSVBMiU5MCU5RSU4RQ==|7EmZgXnb\" href=\"/msg/lv/real-estate/flats/riga/centre/ekljx.html\" id=\"dm_46628436\">Bez komisijas maksas. Izīrē studijas tipa dzīvokli, kas izbūvēts</a></div></td>,\n",
       " <td c=\"1\" class=\"msga2-o pp6\" nowrap=\"\">Valdemāra 71</td>,\n",
       " <td c=\"1\" class=\"msga2-o pp6\" nowrap=\"\">5</td>,\n",
       " <td c=\"1\" class=\"msga2-o pp6\" nowrap=\"\">110</td>,\n",
       " <td c=\"1\" class=\"msga2-o pp6\" nowrap=\"\">6/6</td>,\n",
       " <td c=\"1\" class=\"msga2-o pp6\" nowrap=\"\">P. kara</td>,\n",
       " <td c=\"1\" class=\"msga2-o pp6\" nowrap=\"\">7.18 €</td>,\n",
       " <td c=\"1\" class=\"msga2-o pp6\" nowrap=\"\">790  €/mēn.</td>]"
      ]
     },
     "execution_count": 75,
     "metadata": {},
     "output_type": "execute_result"
    }
   ],
   "source": [
    "alltds = firstrow.find_all('td')\n",
    "alltds"
   ]
  },
  {
   "cell_type": "code",
   "execution_count": 76,
   "metadata": {},
   "outputs": [],
   "source": [
    "def getRowData(row):\n",
    "    return [el.text for el in row.find_all('td')[2:]] + [baseurl + row.find('a')['href']]"
   ]
  },
  {
   "cell_type": "code",
   "execution_count": 78,
   "metadata": {},
   "outputs": [
    {
     "data": {
      "text/plain": [
       "30"
      ]
     },
     "execution_count": 78,
     "metadata": {},
     "output_type": "execute_result"
    }
   ],
   "source": [
    "len(rrows)"
   ]
  },
  {
   "cell_type": "code",
   "execution_count": 77,
   "metadata": {},
   "outputs": [
    {
     "data": {
      "text/plain": [
       "['Bez komisijas maksas. Izīrē studijas tipa dzīvokli, kas izbūvēts',\n",
       " 'Valdemāra 71',\n",
       " '5',\n",
       " '110',\n",
       " '6/6',\n",
       " 'P. kara',\n",
       " '7.18 €',\n",
       " '790  €/mēn.',\n",
       " 'https://www.ss.com/msg/lv/real-estate/flats/riga/centre/ekljx.html']"
      ]
     },
     "execution_count": 77,
     "metadata": {},
     "output_type": "execute_result"
    }
   ],
   "source": [
    "rowdata = getRowData(rrows[0])\n",
    "rowdata"
   ]
  },
  {
   "cell_type": "code",
   "execution_count": 79,
   "metadata": {},
   "outputs": [
    {
     "data": {
      "text/plain": [
       "[['Bez komisijas maksas. Izīrē studijas tipa dzīvokli, kas izbūvēts',\n",
       "  'Valdemāra 71',\n",
       "  '5',\n",
       "  '110',\n",
       "  '6/6',\n",
       "  'P. kara',\n",
       "  '7.18 €',\n",
       "  '790  €/mēn.',\n",
       "  'https://www.ss.com/msg/lv/real-estate/flats/riga/centre/ekljx.html'],\n",
       " ['Īstermiņā no 2st. tiek izīrēts saulains, mājīgs jauns vienistaba',\n",
       "  'Matīsa 100',\n",
       "  '1',\n",
       "  '30',\n",
       "  '4/5',\n",
       "  'Renov.',\n",
       "  '0.833 €',\n",
       "  '25  €/dienā',\n",
       "  'https://www.ss.com/msg/lv/real-estate/flats/riga/centre/ejbhd.html'],\n",
       " ['Izīrēju ilgtermiņā plašu trīs istabu dzīvokli (76, 7m2) Rīgas ce',\n",
       "  'Hospitāļu 15',\n",
       "  '3',\n",
       "  '77',\n",
       "  '3/5',\n",
       "  'P. kara',\n",
       "  '6.75 €',\n",
       "  '520  €/mēn.',\n",
       "  'https://www.ss.com/msg/lv/real-estate/flats/riga/centre/gijki.html'],\n",
       " ['Для краткосрочной аренды сдаётся уютная, двухкомнатная квартира.',\n",
       "  'Lāčplēša 221',\n",
       "  '2',\n",
       "  '41',\n",
       "  '3/4',\n",
       "  'P. kara',\n",
       "  '0.854 €',\n",
       "  '35  €/dienā',\n",
       "  'https://www.ss.com/msg/lv/real-estate/flats/riga/centre/acbkb.html'],\n",
       " ['4-5 мест. 1 комнатная квартира в центре Риги, перекресток Садовн',\n",
       "  'Sadovņikova 47',\n",
       "  '1',\n",
       "  '40',\n",
       "  '2/5',\n",
       "  'Renov.',\n",
       "  '7.50 €',\n",
       "  '300  €/mēn.',\n",
       "  'https://www.ss.com/msg/lv/real-estate/flats/riga/centre/acdgn.html'],\n",
       " ['3х местная, 1 комнатная квартира в центре Риги, перекресток Садо',\n",
       "  'Sadovņikova 47',\n",
       "  '1',\n",
       "  '30',\n",
       "  '3/5',\n",
       "  'Renov.',\n",
       "  '8.33 €',\n",
       "  '250  €/mēn.',\n",
       "  'https://www.ss.com/msg/lv/real-estate/flats/riga/centre/gbxpp.html'],\n",
       " ['Тишина в самом центре Риги. \\r\\n\\r\\nСдается на срок до 1 июня 2-х ко',\n",
       "  'Stabu 19',\n",
       "  '2',\n",
       "  '46',\n",
       "  '5/6',\n",
       "  'P. kara',\n",
       "  '9.89 €',\n",
       "  '455  €/mēn.',\n",
       "  'https://www.ss.com/msg/lv/real-estate/flats/riga/centre/apkmp.html'],\n",
       " ['Тишина в самом центре Риги. Уютная мансарда с балконом. \\r\\n\\r\\nСдае',\n",
       "  'Brīvības 59',\n",
       "  '1',\n",
       "  '39',\n",
       "  '6/6',\n",
       "  'Jaun.',\n",
       "  '11.28 €',\n",
       "  '440  €/mēn.',\n",
       "  'https://www.ss.com/msg/lv/real-estate/flats/riga/centre/dxndh.html'],\n",
       " ['Īpašnieks izīrē modernu mansarda 2 līmeņu dzīvokli, pēc remonta,',\n",
       "  'Matīsa 45',\n",
       "  '2',\n",
       "  '60',\n",
       "  '6/6',\n",
       "  'P. kara',\n",
       "  '9.17 €',\n",
       "  '550  €/mēn.',\n",
       "  'https://www.ss.com/msg/lv/real-estate/flats/riga/centre/giccn.html'],\n",
       " ['Сдается без посредников на длительный срок без домашних животных',\n",
       "  'Ģertrūdes 98',\n",
       "  '2',\n",
       "  '45',\n",
       "  '5/5',\n",
       "  'P. kara',\n",
       "  '6.67 €',\n",
       "  '300  €/mēn.',\n",
       "  'https://www.ss.com/msg/lv/real-estate/flats/riga/centre/bbkme.html'],\n",
       " ['Izīrē studio tipa dzīvokli ar terasi pilnībā atjaunotā mājā Rīgā',\n",
       "  'Pērnavas 17',\n",
       "  '1',\n",
       "  '30',\n",
       "  '1/5',\n",
       "  'Renov.',\n",
       "  '10 €',\n",
       "  '300  €/mēn.',\n",
       "  'https://www.ss.com/msg/lv/real-estate/flats/riga/centre/djfij.html'],\n",
       " ['Сдают, Квартира 2-х комнатная, Рига, Центр, Улица Дзирнаву 119, ',\n",
       "  'Dzirnavu 119',\n",
       "  '2',\n",
       "  '50',\n",
       "  '5/2',\n",
       "  'P. kara',\n",
       "  '9 €',\n",
       "  '450  €/mēn.',\n",
       "  'https://www.ss.com/msg/lv/real-estate/flats/riga/centre/fgjnp.html'],\n",
       " ['Izīrē studio tipa 3 istabu dzīvokli pašā Rīgas centrā. Dzīvojamā',\n",
       "  'Dzirnavu 70',\n",
       "  '3',\n",
       "  '75',\n",
       "  '5/6',\n",
       "  'P. kara',\n",
       "  '7.33 €',\n",
       "  '550  €/mēn.',\n",
       "  'https://www.ss.com/msg/lv/real-estate/flats/riga/centre/epfmi.html'],\n",
       " ['Rus/lat\\r\\nСдаётся квартира в реконструированном доме в самом цент',\n",
       "  'Ģertrūdes 38',\n",
       "  '4',\n",
       "  '121',\n",
       "  '2/5',\n",
       "  'Renov.',\n",
       "  '7.02 €',\n",
       "  '850  €/mēn.',\n",
       "  'https://www.ss.com/msg/lv/real-estate/flats/riga/centre/cxfnn.html'],\n",
       " ['Īpašnieks izīrē klusu un saulainu dzīvokli klusajā centrā (Anton',\n",
       "  'Dzirnavu 34a',\n",
       "  '3',\n",
       "  '90',\n",
       "  '3/5',\n",
       "  'P. kara',\n",
       "  '9.44 €',\n",
       "  '850  €/mēn.',\n",
       "  'https://www.ss.com/msg/lv/real-estate/flats/riga/centre/dnxbl.html'],\n",
       " ['Īpašnieks izīrē klusu un saulainu dzīvokli pretī Ars medicīnas c',\n",
       "  'Dzirnavu 51',\n",
       "  '3',\n",
       "  '66',\n",
       "  '5/5',\n",
       "  'P. kara',\n",
       "  '10.30 €',\n",
       "  '680  €/mēn.',\n",
       "  'https://www.ss.com/msg/lv/real-estate/flats/riga/centre/aohxc.html'],\n",
       " ['Ekskluzīvs, ar terasi. 474num, Bez starpniekiem un bez komisijas',\n",
       "  'Ganību d. 13',\n",
       "  '3',\n",
       "  '70',\n",
       "  '5/6',\n",
       "  'Jaun.',\n",
       "  '8.57 €',\n",
       "  '600  €/mēn.',\n",
       "  'https://www.ss.com/msg/lv/real-estate/flats/riga/centre/ekoph.html'],\n",
       " ['Ekskluzīvs. 453anum, Bez starpniekiem un bez komisijas maksas, t',\n",
       "  'Ganību d. 13',\n",
       "  '2',\n",
       "  '45',\n",
       "  '3/6',\n",
       "  'Jaun.',\n",
       "  '9.78 €',\n",
       "  '440  €/mēn.',\n",
       "  'https://www.ss.com/msg/lv/real-estate/flats/riga/centre/gipbn.html'],\n",
       " ['Saimnieks izīrē svaigi izremontētu studijas tipa dzīvokli, kārtī',\n",
       "  'Tomsona 42',\n",
       "  '1',\n",
       "  '30',\n",
       "  '5/5',\n",
       "  'Hrušč.',\n",
       "  '11.67 €',\n",
       "  '350  €/mēn.',\n",
       "  'https://www.ss.com/msg/lv/real-estate/flats/riga/centre/dcfpj.html'],\n",
       " ['Īpašnieks. Maziņš, omulīgs dzīvoklis, ideāls dzīvošanai vienam c',\n",
       "  'Klijānu 6',\n",
       "  '1',\n",
       "  '14',\n",
       "  '5/9',\n",
       "  'Jaun.',\n",
       "  '15.71 €',\n",
       "  '220  €/mēn.',\n",
       "  'https://www.ss.com/msg/lv/real-estate/flats/riga/centre/ackfe.html'],\n",
       " ['Īrei tiek piedāvāts gaišs un mājīgs 2 istabu\\xa0 dzīvoklis, \\xa0kopējā',\n",
       "  'Pulkv. Brieža 7',\n",
       "  '2',\n",
       "  '65',\n",
       "  '5/7',\n",
       "  'Renov.',\n",
       "  '11.38 €',\n",
       "  '740  €/mēn.',\n",
       "  'https://www.ss.com/msg/lv/real-estate/flats/riga/centre/ajioh.html'],\n",
       " ['Tiek piedāvāts labs vienistabas dzīvoklis izīrēšanai ilgtermiņā,',\n",
       "  'Eksporta 16',\n",
       "  '1',\n",
       "  '31',\n",
       "  '5/5',\n",
       "  'Hrušč.',\n",
       "  '8.06 €',\n",
       "  '250  €/mēn.',\n",
       "  'https://www.ss.com/msg/lv/real-estate/flats/riga/centre/bjhoc.html'],\n",
       " ['Izīrēju atmosfērisku divistabu (52 m2) dizaina dzīvokli funkcion',\n",
       "  'Tomsona 2',\n",
       "  '2',\n",
       "  '52',\n",
       "  '5/5',\n",
       "  'P. kara',\n",
       "  '12.02 €',\n",
       "  '625  €/mēn.',\n",
       "  'https://www.ss.com/msg/lv/real-estate/flats/riga/centre/aihxg.html'],\n",
       " ['Izīrē remontētu dzīvokli Pērnavas un A. Čaka ielu krustojumā. At',\n",
       "  'Pērnavas 12',\n",
       "  '2',\n",
       "  '44',\n",
       "  '4/5',\n",
       "  'Hrušč.',\n",
       "  '7.95 €',\n",
       "  '350  €/mēn.',\n",
       "  'https://www.ss.com/msg/lv/real-estate/flats/riga/centre/eggin.html'],\n",
       " ['Cовременные апартаменты в престижном районе города Рига. Простор',\n",
       "  'Jeruzalemes 5',\n",
       "  '2',\n",
       "  '67',\n",
       "  '2/6',\n",
       "  'Jaun.',\n",
       "  '1.19 €',\n",
       "  '80  €/dienā',\n",
       "  'https://www.ss.com/msg/lv/real-estate/flats/riga/centre/ahedm.html'],\n",
       " ['Īpašnieks izīrē gaišu un saulainu dzīvokli ilgtermiņā.',\n",
       "  'Pērnavas 17',\n",
       "  '1',\n",
       "  '20',\n",
       "  '4/5',\n",
       "  'Renov.',\n",
       "  '14 €',\n",
       "  '280  €/mēn.',\n",
       "  'https://www.ss.com/msg/lv/real-estate/flats/riga/centre/adpkl.html'],\n",
       " ['Īstermiņā no 2st. tiek izīrēts saulains, mājīgs jauns vienistaba',\n",
       "  'Vagonu 22',\n",
       "  '1',\n",
       "  '26',\n",
       "  '1/5',\n",
       "  'Renov.',\n",
       "  '1.35 €',\n",
       "  '35  €/dienā',\n",
       "  'https://www.ss.com/msg/lv/real-estate/flats/riga/centre/ajboc.html'],\n",
       " ['Izīrē jaunu, pilnībā aprīkotu un mēbelētu dzīvokli ar divām guļa',\n",
       "  'Klijānu 6',\n",
       "  '4',\n",
       "  '200',\n",
       "  '8/9',\n",
       "  'Jaun.',\n",
       "  '7.50 €',\n",
       "  '1,500  €/mēn.',\n",
       "  'https://www.ss.com/msg/lv/real-estate/flats/riga/centre/ahefc.html'],\n",
       " ['В центре города Риги, сдается в аренду квартира. Квартира полнос',\n",
       "  'Strēlnieku 6',\n",
       "  '3',\n",
       "  '85',\n",
       "  '4/5',\n",
       "  'Staļina',\n",
       "  '7.65 €',\n",
       "  '650  €/mēn.',\n",
       "  'https://www.ss.com/msg/lv/real-estate/flats/riga/centre/bgkec.html'],\n",
       " ['Gaišs saulains divistabu dzīvoklis Rīgas centrā. Tikko veikts ka',\n",
       "  'Valdemāra 123',\n",
       "  '2',\n",
       "  '65',\n",
       "  '1/5',\n",
       "  'P. kara',\n",
       "  '7.69 €',\n",
       "  '500  €/mēn.',\n",
       "  'https://www.ss.com/msg/lv/real-estate/flats/riga/centre/annll.html']]"
      ]
     },
     "execution_count": 79,
     "metadata": {},
     "output_type": "execute_result"
    }
   ],
   "source": [
    "rowsdata = [getRowData(el) for el in rrows] # It should work but what there is a hidden last element :)\n",
    "rowsdata"
   ]
  },
  {
   "cell_type": "code",
   "execution_count": null,
   "metadata": {},
   "outputs": [],
   "source": [
    "rowsdata = [getRowData(el) for el in rrows[:-1]] # so we just skip the last element\n",
    "rowsdata"
   ]
  },
  {
   "cell_type": "code",
   "execution_count": 80,
   "metadata": {},
   "outputs": [
    {
     "data": {
      "text/html": [
       "<div>\n",
       "<style scoped>\n",
       "    .dataframe tbody tr th:only-of-type {\n",
       "        vertical-align: middle;\n",
       "    }\n",
       "\n",
       "    .dataframe tbody tr th {\n",
       "        vertical-align: top;\n",
       "    }\n",
       "\n",
       "    .dataframe thead th {\n",
       "        text-align: right;\n",
       "    }\n",
       "</style>\n",
       "<table border=\"1\" class=\"dataframe\">\n",
       "  <thead>\n",
       "    <tr style=\"text-align: right;\">\n",
       "      <th></th>\n",
       "      <th>Sludinājumi</th>\n",
       "      <th>Iela</th>\n",
       "      <th>Ist.</th>\n",
       "      <th>m2</th>\n",
       "      <th>Stāvs</th>\n",
       "      <th>Sērija</th>\n",
       "      <th>Cena, m2</th>\n",
       "      <th>Cena</th>\n",
       "      <th>URL</th>\n",
       "    </tr>\n",
       "  </thead>\n",
       "  <tbody>\n",
       "    <tr>\n",
       "      <th>0</th>\n",
       "      <td>Bez komisijas maksas. Izīrē studijas tipa dzīv...</td>\n",
       "      <td>Valdemāra 71</td>\n",
       "      <td>5</td>\n",
       "      <td>110</td>\n",
       "      <td>6/6</td>\n",
       "      <td>P. kara</td>\n",
       "      <td>7.18 €</td>\n",
       "      <td>790  €/mēn.</td>\n",
       "      <td>https://www.ss.com/msg/lv/real-estate/flats/ri...</td>\n",
       "    </tr>\n",
       "    <tr>\n",
       "      <th>1</th>\n",
       "      <td>Īstermiņā no 2st. tiek izīrēts saulains, mājīg...</td>\n",
       "      <td>Matīsa 100</td>\n",
       "      <td>1</td>\n",
       "      <td>30</td>\n",
       "      <td>4/5</td>\n",
       "      <td>Renov.</td>\n",
       "      <td>0.833 €</td>\n",
       "      <td>25  €/dienā</td>\n",
       "      <td>https://www.ss.com/msg/lv/real-estate/flats/ri...</td>\n",
       "    </tr>\n",
       "    <tr>\n",
       "      <th>2</th>\n",
       "      <td>Izīrēju ilgtermiņā plašu trīs istabu dzīvokli ...</td>\n",
       "      <td>Hospitāļu 15</td>\n",
       "      <td>3</td>\n",
       "      <td>77</td>\n",
       "      <td>3/5</td>\n",
       "      <td>P. kara</td>\n",
       "      <td>6.75 €</td>\n",
       "      <td>520  €/mēn.</td>\n",
       "      <td>https://www.ss.com/msg/lv/real-estate/flats/ri...</td>\n",
       "    </tr>\n",
       "    <tr>\n",
       "      <th>3</th>\n",
       "      <td>Для краткосрочной аренды сдаётся уютная, двухк...</td>\n",
       "      <td>Lāčplēša 221</td>\n",
       "      <td>2</td>\n",
       "      <td>41</td>\n",
       "      <td>3/4</td>\n",
       "      <td>P. kara</td>\n",
       "      <td>0.854 €</td>\n",
       "      <td>35  €/dienā</td>\n",
       "      <td>https://www.ss.com/msg/lv/real-estate/flats/ri...</td>\n",
       "    </tr>\n",
       "    <tr>\n",
       "      <th>4</th>\n",
       "      <td>4-5 мест. 1 комнатная квартира в центре Риги, ...</td>\n",
       "      <td>Sadovņikova 47</td>\n",
       "      <td>1</td>\n",
       "      <td>40</td>\n",
       "      <td>2/5</td>\n",
       "      <td>Renov.</td>\n",
       "      <td>7.50 €</td>\n",
       "      <td>300  €/mēn.</td>\n",
       "      <td>https://www.ss.com/msg/lv/real-estate/flats/ri...</td>\n",
       "    </tr>\n",
       "    <tr>\n",
       "      <th>5</th>\n",
       "      <td>3х местная, 1 комнатная квартира в центре Риги...</td>\n",
       "      <td>Sadovņikova 47</td>\n",
       "      <td>1</td>\n",
       "      <td>30</td>\n",
       "      <td>3/5</td>\n",
       "      <td>Renov.</td>\n",
       "      <td>8.33 €</td>\n",
       "      <td>250  €/mēn.</td>\n",
       "      <td>https://www.ss.com/msg/lv/real-estate/flats/ri...</td>\n",
       "    </tr>\n",
       "    <tr>\n",
       "      <th>6</th>\n",
       "      <td>Тишина в самом центре Риги. \\r\\n\\r\\nСдается на...</td>\n",
       "      <td>Stabu 19</td>\n",
       "      <td>2</td>\n",
       "      <td>46</td>\n",
       "      <td>5/6</td>\n",
       "      <td>P. kara</td>\n",
       "      <td>9.89 €</td>\n",
       "      <td>455  €/mēn.</td>\n",
       "      <td>https://www.ss.com/msg/lv/real-estate/flats/ri...</td>\n",
       "    </tr>\n",
       "    <tr>\n",
       "      <th>7</th>\n",
       "      <td>Тишина в самом центре Риги. Уютная мансарда с ...</td>\n",
       "      <td>Brīvības 59</td>\n",
       "      <td>1</td>\n",
       "      <td>39</td>\n",
       "      <td>6/6</td>\n",
       "      <td>Jaun.</td>\n",
       "      <td>11.28 €</td>\n",
       "      <td>440  €/mēn.</td>\n",
       "      <td>https://www.ss.com/msg/lv/real-estate/flats/ri...</td>\n",
       "    </tr>\n",
       "    <tr>\n",
       "      <th>8</th>\n",
       "      <td>Īpašnieks izīrē modernu mansarda 2 līmeņu dzīv...</td>\n",
       "      <td>Matīsa 45</td>\n",
       "      <td>2</td>\n",
       "      <td>60</td>\n",
       "      <td>6/6</td>\n",
       "      <td>P. kara</td>\n",
       "      <td>9.17 €</td>\n",
       "      <td>550  €/mēn.</td>\n",
       "      <td>https://www.ss.com/msg/lv/real-estate/flats/ri...</td>\n",
       "    </tr>\n",
       "    <tr>\n",
       "      <th>9</th>\n",
       "      <td>Сдается без посредников на длительный срок без...</td>\n",
       "      <td>Ģertrūdes 98</td>\n",
       "      <td>2</td>\n",
       "      <td>45</td>\n",
       "      <td>5/5</td>\n",
       "      <td>P. kara</td>\n",
       "      <td>6.67 €</td>\n",
       "      <td>300  €/mēn.</td>\n",
       "      <td>https://www.ss.com/msg/lv/real-estate/flats/ri...</td>\n",
       "    </tr>\n",
       "    <tr>\n",
       "      <th>10</th>\n",
       "      <td>Izīrē studio tipa dzīvokli ar terasi pilnībā a...</td>\n",
       "      <td>Pērnavas 17</td>\n",
       "      <td>1</td>\n",
       "      <td>30</td>\n",
       "      <td>1/5</td>\n",
       "      <td>Renov.</td>\n",
       "      <td>10 €</td>\n",
       "      <td>300  €/mēn.</td>\n",
       "      <td>https://www.ss.com/msg/lv/real-estate/flats/ri...</td>\n",
       "    </tr>\n",
       "    <tr>\n",
       "      <th>11</th>\n",
       "      <td>Сдают, Квартира 2-х комнатная, Рига, Центр, Ул...</td>\n",
       "      <td>Dzirnavu 119</td>\n",
       "      <td>2</td>\n",
       "      <td>50</td>\n",
       "      <td>5/2</td>\n",
       "      <td>P. kara</td>\n",
       "      <td>9 €</td>\n",
       "      <td>450  €/mēn.</td>\n",
       "      <td>https://www.ss.com/msg/lv/real-estate/flats/ri...</td>\n",
       "    </tr>\n",
       "    <tr>\n",
       "      <th>12</th>\n",
       "      <td>Izīrē studio tipa 3 istabu dzīvokli pašā Rīgas...</td>\n",
       "      <td>Dzirnavu 70</td>\n",
       "      <td>3</td>\n",
       "      <td>75</td>\n",
       "      <td>5/6</td>\n",
       "      <td>P. kara</td>\n",
       "      <td>7.33 €</td>\n",
       "      <td>550  €/mēn.</td>\n",
       "      <td>https://www.ss.com/msg/lv/real-estate/flats/ri...</td>\n",
       "    </tr>\n",
       "    <tr>\n",
       "      <th>13</th>\n",
       "      <td>Rus/lat\\r\\nСдаётся квартира в реконструированн...</td>\n",
       "      <td>Ģertrūdes 38</td>\n",
       "      <td>4</td>\n",
       "      <td>121</td>\n",
       "      <td>2/5</td>\n",
       "      <td>Renov.</td>\n",
       "      <td>7.02 €</td>\n",
       "      <td>850  €/mēn.</td>\n",
       "      <td>https://www.ss.com/msg/lv/real-estate/flats/ri...</td>\n",
       "    </tr>\n",
       "    <tr>\n",
       "      <th>14</th>\n",
       "      <td>Īpašnieks izīrē klusu un saulainu dzīvokli klu...</td>\n",
       "      <td>Dzirnavu 34a</td>\n",
       "      <td>3</td>\n",
       "      <td>90</td>\n",
       "      <td>3/5</td>\n",
       "      <td>P. kara</td>\n",
       "      <td>9.44 €</td>\n",
       "      <td>850  €/mēn.</td>\n",
       "      <td>https://www.ss.com/msg/lv/real-estate/flats/ri...</td>\n",
       "    </tr>\n",
       "    <tr>\n",
       "      <th>15</th>\n",
       "      <td>Īpašnieks izīrē klusu un saulainu dzīvokli pre...</td>\n",
       "      <td>Dzirnavu 51</td>\n",
       "      <td>3</td>\n",
       "      <td>66</td>\n",
       "      <td>5/5</td>\n",
       "      <td>P. kara</td>\n",
       "      <td>10.30 €</td>\n",
       "      <td>680  €/mēn.</td>\n",
       "      <td>https://www.ss.com/msg/lv/real-estate/flats/ri...</td>\n",
       "    </tr>\n",
       "    <tr>\n",
       "      <th>16</th>\n",
       "      <td>Ekskluzīvs, ar terasi. 474num, Bez starpniekie...</td>\n",
       "      <td>Ganību d. 13</td>\n",
       "      <td>3</td>\n",
       "      <td>70</td>\n",
       "      <td>5/6</td>\n",
       "      <td>Jaun.</td>\n",
       "      <td>8.57 €</td>\n",
       "      <td>600  €/mēn.</td>\n",
       "      <td>https://www.ss.com/msg/lv/real-estate/flats/ri...</td>\n",
       "    </tr>\n",
       "    <tr>\n",
       "      <th>17</th>\n",
       "      <td>Ekskluzīvs. 453anum, Bez starpniekiem un bez k...</td>\n",
       "      <td>Ganību d. 13</td>\n",
       "      <td>2</td>\n",
       "      <td>45</td>\n",
       "      <td>3/6</td>\n",
       "      <td>Jaun.</td>\n",
       "      <td>9.78 €</td>\n",
       "      <td>440  €/mēn.</td>\n",
       "      <td>https://www.ss.com/msg/lv/real-estate/flats/ri...</td>\n",
       "    </tr>\n",
       "    <tr>\n",
       "      <th>18</th>\n",
       "      <td>Saimnieks izīrē svaigi izremontētu studijas ti...</td>\n",
       "      <td>Tomsona 42</td>\n",
       "      <td>1</td>\n",
       "      <td>30</td>\n",
       "      <td>5/5</td>\n",
       "      <td>Hrušč.</td>\n",
       "      <td>11.67 €</td>\n",
       "      <td>350  €/mēn.</td>\n",
       "      <td>https://www.ss.com/msg/lv/real-estate/flats/ri...</td>\n",
       "    </tr>\n",
       "    <tr>\n",
       "      <th>19</th>\n",
       "      <td>Īpašnieks. Maziņš, omulīgs dzīvoklis, ideāls d...</td>\n",
       "      <td>Klijānu 6</td>\n",
       "      <td>1</td>\n",
       "      <td>14</td>\n",
       "      <td>5/9</td>\n",
       "      <td>Jaun.</td>\n",
       "      <td>15.71 €</td>\n",
       "      <td>220  €/mēn.</td>\n",
       "      <td>https://www.ss.com/msg/lv/real-estate/flats/ri...</td>\n",
       "    </tr>\n",
       "    <tr>\n",
       "      <th>20</th>\n",
       "      <td>Īrei tiek piedāvāts gaišs un mājīgs 2 istabu  ...</td>\n",
       "      <td>Pulkv. Brieža 7</td>\n",
       "      <td>2</td>\n",
       "      <td>65</td>\n",
       "      <td>5/7</td>\n",
       "      <td>Renov.</td>\n",
       "      <td>11.38 €</td>\n",
       "      <td>740  €/mēn.</td>\n",
       "      <td>https://www.ss.com/msg/lv/real-estate/flats/ri...</td>\n",
       "    </tr>\n",
       "    <tr>\n",
       "      <th>21</th>\n",
       "      <td>Tiek piedāvāts labs vienistabas dzīvoklis izīr...</td>\n",
       "      <td>Eksporta 16</td>\n",
       "      <td>1</td>\n",
       "      <td>31</td>\n",
       "      <td>5/5</td>\n",
       "      <td>Hrušč.</td>\n",
       "      <td>8.06 €</td>\n",
       "      <td>250  €/mēn.</td>\n",
       "      <td>https://www.ss.com/msg/lv/real-estate/flats/ri...</td>\n",
       "    </tr>\n",
       "    <tr>\n",
       "      <th>22</th>\n",
       "      <td>Izīrēju atmosfērisku divistabu (52 m2) dizaina...</td>\n",
       "      <td>Tomsona 2</td>\n",
       "      <td>2</td>\n",
       "      <td>52</td>\n",
       "      <td>5/5</td>\n",
       "      <td>P. kara</td>\n",
       "      <td>12.02 €</td>\n",
       "      <td>625  €/mēn.</td>\n",
       "      <td>https://www.ss.com/msg/lv/real-estate/flats/ri...</td>\n",
       "    </tr>\n",
       "    <tr>\n",
       "      <th>23</th>\n",
       "      <td>Izīrē remontētu dzīvokli Pērnavas un A. Čaka i...</td>\n",
       "      <td>Pērnavas 12</td>\n",
       "      <td>2</td>\n",
       "      <td>44</td>\n",
       "      <td>4/5</td>\n",
       "      <td>Hrušč.</td>\n",
       "      <td>7.95 €</td>\n",
       "      <td>350  €/mēn.</td>\n",
       "      <td>https://www.ss.com/msg/lv/real-estate/flats/ri...</td>\n",
       "    </tr>\n",
       "    <tr>\n",
       "      <th>24</th>\n",
       "      <td>Cовременные апартаменты в престижном районе го...</td>\n",
       "      <td>Jeruzalemes 5</td>\n",
       "      <td>2</td>\n",
       "      <td>67</td>\n",
       "      <td>2/6</td>\n",
       "      <td>Jaun.</td>\n",
       "      <td>1.19 €</td>\n",
       "      <td>80  €/dienā</td>\n",
       "      <td>https://www.ss.com/msg/lv/real-estate/flats/ri...</td>\n",
       "    </tr>\n",
       "    <tr>\n",
       "      <th>25</th>\n",
       "      <td>Īpašnieks izīrē gaišu un saulainu dzīvokli ilg...</td>\n",
       "      <td>Pērnavas 17</td>\n",
       "      <td>1</td>\n",
       "      <td>20</td>\n",
       "      <td>4/5</td>\n",
       "      <td>Renov.</td>\n",
       "      <td>14 €</td>\n",
       "      <td>280  €/mēn.</td>\n",
       "      <td>https://www.ss.com/msg/lv/real-estate/flats/ri...</td>\n",
       "    </tr>\n",
       "    <tr>\n",
       "      <th>26</th>\n",
       "      <td>Īstermiņā no 2st. tiek izīrēts saulains, mājīg...</td>\n",
       "      <td>Vagonu 22</td>\n",
       "      <td>1</td>\n",
       "      <td>26</td>\n",
       "      <td>1/5</td>\n",
       "      <td>Renov.</td>\n",
       "      <td>1.35 €</td>\n",
       "      <td>35  €/dienā</td>\n",
       "      <td>https://www.ss.com/msg/lv/real-estate/flats/ri...</td>\n",
       "    </tr>\n",
       "    <tr>\n",
       "      <th>27</th>\n",
       "      <td>Izīrē jaunu, pilnībā aprīkotu un mēbelētu dzīv...</td>\n",
       "      <td>Klijānu 6</td>\n",
       "      <td>4</td>\n",
       "      <td>200</td>\n",
       "      <td>8/9</td>\n",
       "      <td>Jaun.</td>\n",
       "      <td>7.50 €</td>\n",
       "      <td>1,500  €/mēn.</td>\n",
       "      <td>https://www.ss.com/msg/lv/real-estate/flats/ri...</td>\n",
       "    </tr>\n",
       "    <tr>\n",
       "      <th>28</th>\n",
       "      <td>В центре города Риги, сдается в аренду квартир...</td>\n",
       "      <td>Strēlnieku 6</td>\n",
       "      <td>3</td>\n",
       "      <td>85</td>\n",
       "      <td>4/5</td>\n",
       "      <td>Staļina</td>\n",
       "      <td>7.65 €</td>\n",
       "      <td>650  €/mēn.</td>\n",
       "      <td>https://www.ss.com/msg/lv/real-estate/flats/ri...</td>\n",
       "    </tr>\n",
       "    <tr>\n",
       "      <th>29</th>\n",
       "      <td>Gaišs saulains divistabu dzīvoklis Rīgas centr...</td>\n",
       "      <td>Valdemāra 123</td>\n",
       "      <td>2</td>\n",
       "      <td>65</td>\n",
       "      <td>1/5</td>\n",
       "      <td>P. kara</td>\n",
       "      <td>7.69 €</td>\n",
       "      <td>500  €/mēn.</td>\n",
       "      <td>https://www.ss.com/msg/lv/real-estate/flats/ri...</td>\n",
       "    </tr>\n",
       "  </tbody>\n",
       "</table>\n",
       "</div>"
      ],
      "text/plain": [
       "                                          Sludinājumi             Iela Ist.  \\\n",
       "0   Bez komisijas maksas. Izīrē studijas tipa dzīv...     Valdemāra 71    5   \n",
       "1   Īstermiņā no 2st. tiek izīrēts saulains, mājīg...       Matīsa 100    1   \n",
       "2   Izīrēju ilgtermiņā plašu trīs istabu dzīvokli ...     Hospitāļu 15    3   \n",
       "3   Для краткосрочной аренды сдаётся уютная, двухк...     Lāčplēša 221    2   \n",
       "4   4-5 мест. 1 комнатная квартира в центре Риги, ...   Sadovņikova 47    1   \n",
       "5   3х местная, 1 комнатная квартира в центре Риги...   Sadovņikova 47    1   \n",
       "6   Тишина в самом центре Риги. \\r\\n\\r\\nСдается на...         Stabu 19    2   \n",
       "7   Тишина в самом центре Риги. Уютная мансарда с ...      Brīvības 59    1   \n",
       "8   Īpašnieks izīrē modernu mansarda 2 līmeņu dzīv...        Matīsa 45    2   \n",
       "9   Сдается без посредников на длительный срок без...     Ģertrūdes 98    2   \n",
       "10  Izīrē studio tipa dzīvokli ar terasi pilnībā a...      Pērnavas 17    1   \n",
       "11  Сдают, Квартира 2-х комнатная, Рига, Центр, Ул...     Dzirnavu 119    2   \n",
       "12  Izīrē studio tipa 3 istabu dzīvokli pašā Rīgas...      Dzirnavu 70    3   \n",
       "13  Rus/lat\\r\\nСдаётся квартира в реконструированн...     Ģertrūdes 38    4   \n",
       "14  Īpašnieks izīrē klusu un saulainu dzīvokli klu...     Dzirnavu 34a    3   \n",
       "15  Īpašnieks izīrē klusu un saulainu dzīvokli pre...      Dzirnavu 51    3   \n",
       "16  Ekskluzīvs, ar terasi. 474num, Bez starpniekie...     Ganību d. 13    3   \n",
       "17  Ekskluzīvs. 453anum, Bez starpniekiem un bez k...     Ganību d. 13    2   \n",
       "18  Saimnieks izīrē svaigi izremontētu studijas ti...       Tomsona 42    1   \n",
       "19  Īpašnieks. Maziņš, omulīgs dzīvoklis, ideāls d...        Klijānu 6    1   \n",
       "20  Īrei tiek piedāvāts gaišs un mājīgs 2 istabu  ...  Pulkv. Brieža 7    2   \n",
       "21  Tiek piedāvāts labs vienistabas dzīvoklis izīr...      Eksporta 16    1   \n",
       "22  Izīrēju atmosfērisku divistabu (52 m2) dizaina...        Tomsona 2    2   \n",
       "23  Izīrē remontētu dzīvokli Pērnavas un A. Čaka i...      Pērnavas 12    2   \n",
       "24  Cовременные апартаменты в престижном районе го...    Jeruzalemes 5    2   \n",
       "25  Īpašnieks izīrē gaišu un saulainu dzīvokli ilg...      Pērnavas 17    1   \n",
       "26  Īstermiņā no 2st. tiek izīrēts saulains, mājīg...        Vagonu 22    1   \n",
       "27  Izīrē jaunu, pilnībā aprīkotu un mēbelētu dzīv...        Klijānu 6    4   \n",
       "28  В центре города Риги, сдается в аренду квартир...     Strēlnieku 6    3   \n",
       "29  Gaišs saulains divistabu dzīvoklis Rīgas centr...    Valdemāra 123    2   \n",
       "\n",
       "     m2 Stāvs   Sērija Cena, m2           Cena  \\\n",
       "0   110   6/6  P. kara   7.18 €    790  €/mēn.   \n",
       "1    30   4/5   Renov.  0.833 €    25  €/dienā   \n",
       "2    77   3/5  P. kara   6.75 €    520  €/mēn.   \n",
       "3    41   3/4  P. kara  0.854 €    35  €/dienā   \n",
       "4    40   2/5   Renov.   7.50 €    300  €/mēn.   \n",
       "5    30   3/5   Renov.   8.33 €    250  €/mēn.   \n",
       "6    46   5/6  P. kara   9.89 €    455  €/mēn.   \n",
       "7    39   6/6    Jaun.  11.28 €    440  €/mēn.   \n",
       "8    60   6/6  P. kara   9.17 €    550  €/mēn.   \n",
       "9    45   5/5  P. kara   6.67 €    300  €/mēn.   \n",
       "10   30   1/5   Renov.     10 €    300  €/mēn.   \n",
       "11   50   5/2  P. kara      9 €    450  €/mēn.   \n",
       "12   75   5/6  P. kara   7.33 €    550  €/mēn.   \n",
       "13  121   2/5   Renov.   7.02 €    850  €/mēn.   \n",
       "14   90   3/5  P. kara   9.44 €    850  €/mēn.   \n",
       "15   66   5/5  P. kara  10.30 €    680  €/mēn.   \n",
       "16   70   5/6    Jaun.   8.57 €    600  €/mēn.   \n",
       "17   45   3/6    Jaun.   9.78 €    440  €/mēn.   \n",
       "18   30   5/5   Hrušč.  11.67 €    350  €/mēn.   \n",
       "19   14   5/9    Jaun.  15.71 €    220  €/mēn.   \n",
       "20   65   5/7   Renov.  11.38 €    740  €/mēn.   \n",
       "21   31   5/5   Hrušč.   8.06 €    250  €/mēn.   \n",
       "22   52   5/5  P. kara  12.02 €    625  €/mēn.   \n",
       "23   44   4/5   Hrušč.   7.95 €    350  €/mēn.   \n",
       "24   67   2/6    Jaun.   1.19 €    80  €/dienā   \n",
       "25   20   4/5   Renov.     14 €    280  €/mēn.   \n",
       "26   26   1/5   Renov.   1.35 €    35  €/dienā   \n",
       "27  200   8/9    Jaun.   7.50 €  1,500  €/mēn.   \n",
       "28   85   4/5  Staļina   7.65 €    650  €/mēn.   \n",
       "29   65   1/5  P. kara   7.69 €    500  €/mēn.   \n",
       "\n",
       "                                                  URL  \n",
       "0   https://www.ss.com/msg/lv/real-estate/flats/ri...  \n",
       "1   https://www.ss.com/msg/lv/real-estate/flats/ri...  \n",
       "2   https://www.ss.com/msg/lv/real-estate/flats/ri...  \n",
       "3   https://www.ss.com/msg/lv/real-estate/flats/ri...  \n",
       "4   https://www.ss.com/msg/lv/real-estate/flats/ri...  \n",
       "5   https://www.ss.com/msg/lv/real-estate/flats/ri...  \n",
       "6   https://www.ss.com/msg/lv/real-estate/flats/ri...  \n",
       "7   https://www.ss.com/msg/lv/real-estate/flats/ri...  \n",
       "8   https://www.ss.com/msg/lv/real-estate/flats/ri...  \n",
       "9   https://www.ss.com/msg/lv/real-estate/flats/ri...  \n",
       "10  https://www.ss.com/msg/lv/real-estate/flats/ri...  \n",
       "11  https://www.ss.com/msg/lv/real-estate/flats/ri...  \n",
       "12  https://www.ss.com/msg/lv/real-estate/flats/ri...  \n",
       "13  https://www.ss.com/msg/lv/real-estate/flats/ri...  \n",
       "14  https://www.ss.com/msg/lv/real-estate/flats/ri...  \n",
       "15  https://www.ss.com/msg/lv/real-estate/flats/ri...  \n",
       "16  https://www.ss.com/msg/lv/real-estate/flats/ri...  \n",
       "17  https://www.ss.com/msg/lv/real-estate/flats/ri...  \n",
       "18  https://www.ss.com/msg/lv/real-estate/flats/ri...  \n",
       "19  https://www.ss.com/msg/lv/real-estate/flats/ri...  \n",
       "20  https://www.ss.com/msg/lv/real-estate/flats/ri...  \n",
       "21  https://www.ss.com/msg/lv/real-estate/flats/ri...  \n",
       "22  https://www.ss.com/msg/lv/real-estate/flats/ri...  \n",
       "23  https://www.ss.com/msg/lv/real-estate/flats/ri...  \n",
       "24  https://www.ss.com/msg/lv/real-estate/flats/ri...  \n",
       "25  https://www.ss.com/msg/lv/real-estate/flats/ri...  \n",
       "26  https://www.ss.com/msg/lv/real-estate/flats/ri...  \n",
       "27  https://www.ss.com/msg/lv/real-estate/flats/ri...  \n",
       "28  https://www.ss.com/msg/lv/real-estate/flats/ri...  \n",
       "29  https://www.ss.com/msg/lv/real-estate/flats/ri...  "
      ]
     },
     "execution_count": 80,
     "metadata": {},
     "output_type": "execute_result"
    }
   ],
   "source": [
    "df = pd.DataFrame(rowsdata, columns=cindex)\n",
    "df"
   ]
  },
  {
   "cell_type": "code",
   "execution_count": null,
   "metadata": {},
   "outputs": [],
   "source": [
    "bigdf = pd.concat([df,df])\n",
    "bigdf"
   ]
  },
  {
   "cell_type": "code",
   "execution_count": 121,
   "metadata": {},
   "outputs": [],
   "source": [
    "def getDFfromUrl(url, region = None):\n",
    "    print(f'Going to gather data from URL:{url}')\n",
    "    req = requests.get(url)\n",
    "    if req.status_code != 200:\n",
    "        print(f'Unexpected status code {req.status_code}. Stopping parse')\n",
    "        return [] #return early and often principle\n",
    "    soup = BeautifulSoup(req.text, 'lxml') # could skip soup variable as well but keeping for readability\n",
    "    \n",
    "\n",
    "    \n",
    "    headline = soup.find('tr', id = \"head_line\")\n",
    "    cindex = [el.text for el in headline.find_all('td')]\n",
    "    cindex[0] = cindex[0].split()[0]\n",
    "    cindex += ['URL'] #TODO add argument for this\n",
    "    cindex += ['Region']\n",
    "    \n",
    "    # TODO move it somewhere else\n",
    "    if len([el for el in soup.find_all('option') if 'Izīrē' in el.text]) == 0:\n",
    "        print(\"Oops nothing for rent\")\n",
    "        return pd.DataFrame({}, columns=cindex)\n",
    "    \n",
    "    rows = soup.find_all('tr',id = re.compile(r'tr_*'))\n",
    "    rowsdata = [getRowData(el) for el in rows[:-1]]\n",
    "    # finally we add the region if we did not have one\n",
    "    if region == None:\n",
    "        region = url.split(\"/\")[-3]\n",
    "    rowsdata = [el + [region] for el in rowsdata]\n",
    "    return pd.DataFrame(rowsdata, columns=cindex)\n",
    "    \n",
    "    "
   ]
  },
  {
   "cell_type": "code",
   "execution_count": 96,
   "metadata": {},
   "outputs": [
    {
     "name": "stdout",
     "output_type": "stream",
     "text": [
      "Going to gather data from URL:https://www.ss.com/lv/real-estate/flats/riga/centre/hand_over/\n"
     ]
    },
    {
     "data": {
      "text/html": [
       "<div>\n",
       "<style scoped>\n",
       "    .dataframe tbody tr th:only-of-type {\n",
       "        vertical-align: middle;\n",
       "    }\n",
       "\n",
       "    .dataframe tbody tr th {\n",
       "        vertical-align: top;\n",
       "    }\n",
       "\n",
       "    .dataframe thead th {\n",
       "        text-align: right;\n",
       "    }\n",
       "</style>\n",
       "<table border=\"1\" class=\"dataframe\">\n",
       "  <thead>\n",
       "    <tr style=\"text-align: right;\">\n",
       "      <th></th>\n",
       "      <th>Sludinājumi</th>\n",
       "      <th>Iela</th>\n",
       "      <th>Ist.</th>\n",
       "      <th>m2</th>\n",
       "      <th>Stāvs</th>\n",
       "      <th>Sērija</th>\n",
       "      <th>Cena, m2</th>\n",
       "      <th>Cena</th>\n",
       "      <th>URL</th>\n",
       "      <th>Region</th>\n",
       "    </tr>\n",
       "  </thead>\n",
       "  <tbody>\n",
       "    <tr>\n",
       "      <th>0</th>\n",
       "      <td>Bez komisijas maksas. Izīrē studijas tipa dzīv...</td>\n",
       "      <td>Valdemāra 71</td>\n",
       "      <td>5</td>\n",
       "      <td>110</td>\n",
       "      <td>6/6</td>\n",
       "      <td>P. kara</td>\n",
       "      <td>7.18 €</td>\n",
       "      <td>790  €/mēn.</td>\n",
       "      <td>https://www.ss.com/msg/lv/real-estate/flats/ri...</td>\n",
       "      <td>centre</td>\n",
       "    </tr>\n",
       "    <tr>\n",
       "      <th>1</th>\n",
       "      <td>Īstermiņā no 2st. tiek izīrēts saulains, mājīg...</td>\n",
       "      <td>Matīsa 100</td>\n",
       "      <td>1</td>\n",
       "      <td>30</td>\n",
       "      <td>4/5</td>\n",
       "      <td>Renov.</td>\n",
       "      <td>0.833 €</td>\n",
       "      <td>25  €/dienā</td>\n",
       "      <td>https://www.ss.com/msg/lv/real-estate/flats/ri...</td>\n",
       "      <td>centre</td>\n",
       "    </tr>\n",
       "    <tr>\n",
       "      <th>2</th>\n",
       "      <td>Izīrēju ilgtermiņā plašu trīs istabu dzīvokli ...</td>\n",
       "      <td>Hospitāļu 15</td>\n",
       "      <td>3</td>\n",
       "      <td>77</td>\n",
       "      <td>3/5</td>\n",
       "      <td>P. kara</td>\n",
       "      <td>6.75 €</td>\n",
       "      <td>520  €/mēn.</td>\n",
       "      <td>https://www.ss.com/msg/lv/real-estate/flats/ri...</td>\n",
       "      <td>centre</td>\n",
       "    </tr>\n",
       "    <tr>\n",
       "      <th>3</th>\n",
       "      <td>Для краткосрочной аренды сдаётся уютная, двухк...</td>\n",
       "      <td>Lāčplēša 221</td>\n",
       "      <td>2</td>\n",
       "      <td>41</td>\n",
       "      <td>3/4</td>\n",
       "      <td>P. kara</td>\n",
       "      <td>0.854 €</td>\n",
       "      <td>35  €/dienā</td>\n",
       "      <td>https://www.ss.com/msg/lv/real-estate/flats/ri...</td>\n",
       "      <td>centre</td>\n",
       "    </tr>\n",
       "    <tr>\n",
       "      <th>4</th>\n",
       "      <td>4-5 мест. 1 комнатная квартира в центре Риги, ...</td>\n",
       "      <td>Sadovņikova 47</td>\n",
       "      <td>1</td>\n",
       "      <td>40</td>\n",
       "      <td>2/5</td>\n",
       "      <td>Renov.</td>\n",
       "      <td>7.50 €</td>\n",
       "      <td>300  €/mēn.</td>\n",
       "      <td>https://www.ss.com/msg/lv/real-estate/flats/ri...</td>\n",
       "      <td>centre</td>\n",
       "    </tr>\n",
       "  </tbody>\n",
       "</table>\n",
       "</div>"
      ],
      "text/plain": [
       "                                         Sludinājumi            Iela Ist.  \\\n",
       "0  Bez komisijas maksas. Izīrē studijas tipa dzīv...    Valdemāra 71    5   \n",
       "1  Īstermiņā no 2st. tiek izīrēts saulains, mājīg...      Matīsa 100    1   \n",
       "2  Izīrēju ilgtermiņā plašu trīs istabu dzīvokli ...    Hospitāļu 15    3   \n",
       "3  Для краткосрочной аренды сдаётся уютная, двухк...    Lāčplēša 221    2   \n",
       "4  4-5 мест. 1 комнатная квартира в центре Риги, ...  Sadovņikova 47    1   \n",
       "\n",
       "    m2 Stāvs   Sērija Cena, m2         Cena  \\\n",
       "0  110   6/6  P. kara   7.18 €  790  €/mēn.   \n",
       "1   30   4/5   Renov.  0.833 €  25  €/dienā   \n",
       "2   77   3/5  P. kara   6.75 €  520  €/mēn.   \n",
       "3   41   3/4  P. kara  0.854 €  35  €/dienā   \n",
       "4   40   2/5   Renov.   7.50 €  300  €/mēn.   \n",
       "\n",
       "                                                 URL  Region  \n",
       "0  https://www.ss.com/msg/lv/real-estate/flats/ri...  centre  \n",
       "1  https://www.ss.com/msg/lv/real-estate/flats/ri...  centre  \n",
       "2  https://www.ss.com/msg/lv/real-estate/flats/ri...  centre  \n",
       "3  https://www.ss.com/msg/lv/real-estate/flats/ri...  centre  \n",
       "4  https://www.ss.com/msg/lv/real-estate/flats/ri...  centre  "
      ]
     },
     "execution_count": 96,
     "metadata": {},
     "output_type": "execute_result"
    }
   ],
   "source": [
    "rdf = getDFfromUrl(\"https://www.ss.com/lv/real-estate/flats/riga/centre/hand_over/\")\n",
    "rdf.head()"
   ]
  },
  {
   "cell_type": "code",
   "execution_count": 98,
   "metadata": {
    "scrolled": true
   },
   "outputs": [
    {
     "name": "stdout",
     "output_type": "stream",
     "text": [
      "Going to gather data from URL:https://www.ss.com/lv/real-estate/flats/riga/yugla/hand_over/\n"
     ]
    },
    {
     "data": {
      "text/html": [
       "<div>\n",
       "<style scoped>\n",
       "    .dataframe tbody tr th:only-of-type {\n",
       "        vertical-align: middle;\n",
       "    }\n",
       "\n",
       "    .dataframe tbody tr th {\n",
       "        vertical-align: top;\n",
       "    }\n",
       "\n",
       "    .dataframe thead th {\n",
       "        text-align: right;\n",
       "    }\n",
       "</style>\n",
       "<table border=\"1\" class=\"dataframe\">\n",
       "  <thead>\n",
       "    <tr style=\"text-align: right;\">\n",
       "      <th></th>\n",
       "      <th>Sludinājumi</th>\n",
       "      <th>Iela</th>\n",
       "      <th>Ist.</th>\n",
       "      <th>m2</th>\n",
       "      <th>Stāvs</th>\n",
       "      <th>Sērija</th>\n",
       "      <th>Cena, m2</th>\n",
       "      <th>Cena</th>\n",
       "      <th>URL</th>\n",
       "      <th>Region</th>\n",
       "    </tr>\n",
       "  </thead>\n",
       "  <tbody>\n",
       "    <tr>\n",
       "      <th>0</th>\n",
       "      <td>Mēbelēts dzīvoklis uz ilgu laika periodu. Izīr...</td>\n",
       "      <td>Malienas 74</td>\n",
       "      <td>1</td>\n",
       "      <td>31</td>\n",
       "      <td>1/5</td>\n",
       "      <td>LT proj.</td>\n",
       "      <td>8.06 €</td>\n",
       "      <td>250  €/mēn.</td>\n",
       "      <td>https://www.ss.com/msg/lv/real-estate/flats/ri...</td>\n",
       "      <td>yugla</td>\n",
       "    </tr>\n",
       "    <tr>\n",
       "      <th>1</th>\n",
       "      <td>Сдается однокомнатная квартира на Югле, ул. Ti...</td>\n",
       "      <td>Tirzas 3/4</td>\n",
       "      <td>1</td>\n",
       "      <td>28</td>\n",
       "      <td>4/5</td>\n",
       "      <td>Hrušč.</td>\n",
       "      <td>7.86 €</td>\n",
       "      <td>220  €/mēn.</td>\n",
       "      <td>https://www.ss.com/msg/lv/real-estate/flats/ri...</td>\n",
       "      <td>yugla</td>\n",
       "    </tr>\n",
       "    <tr>\n",
       "      <th>2</th>\n",
       "      <td>Īpašnieks uz ilgāku laiku izīrē kārtīgiem cilv...</td>\n",
       "      <td>Vangažu 30</td>\n",
       "      <td>2</td>\n",
       "      <td>47</td>\n",
       "      <td>11/12</td>\n",
       "      <td>Čehu pr.</td>\n",
       "      <td>6.17 €</td>\n",
       "      <td>290  €/mēn.</td>\n",
       "      <td>https://www.ss.com/msg/lv/real-estate/flats/ri...</td>\n",
       "      <td>yugla</td>\n",
       "    </tr>\n",
       "    <tr>\n",
       "      <th>3</th>\n",
       "      <td>Сдаётся 2 комнатная квартира, после частичнoго...</td>\n",
       "      <td>Juglas 1</td>\n",
       "      <td>2</td>\n",
       "      <td>43</td>\n",
       "      <td>2/5</td>\n",
       "      <td>Hrušč.</td>\n",
       "      <td>5.12 €</td>\n",
       "      <td>220  €/mēn.</td>\n",
       "      <td>https://www.ss.com/msg/lv/real-estate/flats/ri...</td>\n",
       "      <td>yugla</td>\n",
       "    </tr>\n",
       "    <tr>\n",
       "      <th>4</th>\n",
       "      <td>Tiek izīrēts 1 istabas dzīvoklis Juglā. \\r\\nDz...</td>\n",
       "      <td>Silciema 15k2</td>\n",
       "      <td>1</td>\n",
       "      <td>30</td>\n",
       "      <td>4/5</td>\n",
       "      <td>Hrušč.</td>\n",
       "      <td>6.67 €</td>\n",
       "      <td>200  €/mēn.</td>\n",
       "      <td>https://www.ss.com/msg/lv/real-estate/flats/ri...</td>\n",
       "      <td>yugla</td>\n",
       "    </tr>\n",
       "  </tbody>\n",
       "</table>\n",
       "</div>"
      ],
      "text/plain": [
       "                                         Sludinājumi           Iela Ist.  m2  \\\n",
       "0  Mēbelēts dzīvoklis uz ilgu laika periodu. Izīr...    Malienas 74    1  31   \n",
       "1  Сдается однокомнатная квартира на Югле, ул. Ti...     Tirzas 3/4    1  28   \n",
       "2  Īpašnieks uz ilgāku laiku izīrē kārtīgiem cilv...     Vangažu 30    2  47   \n",
       "3  Сдаётся 2 комнатная квартира, после частичнoго...       Juglas 1    2  43   \n",
       "4  Tiek izīrēts 1 istabas dzīvoklis Juglā. \\r\\nDz...  Silciema 15k2    1  30   \n",
       "\n",
       "   Stāvs    Sērija Cena, m2         Cena  \\\n",
       "0    1/5  LT proj.   8.06 €  250  €/mēn.   \n",
       "1    4/5    Hrušč.   7.86 €  220  €/mēn.   \n",
       "2  11/12  Čehu pr.   6.17 €  290  €/mēn.   \n",
       "3    2/5    Hrušč.   5.12 €  220  €/mēn.   \n",
       "4    4/5    Hrušč.   6.67 €  200  €/mēn.   \n",
       "\n",
       "                                                 URL Region  \n",
       "0  https://www.ss.com/msg/lv/real-estate/flats/ri...  yugla  \n",
       "1  https://www.ss.com/msg/lv/real-estate/flats/ri...  yugla  \n",
       "2  https://www.ss.com/msg/lv/real-estate/flats/ri...  yugla  \n",
       "3  https://www.ss.com/msg/lv/real-estate/flats/ri...  yugla  \n",
       "4  https://www.ss.com/msg/lv/real-estate/flats/ri...  yugla  "
      ]
     },
     "execution_count": 98,
     "metadata": {},
     "output_type": "execute_result"
    }
   ],
   "source": [
    "yugla = getDFfromUrl(\"https://www.ss.com/lv/real-estate/flats/riga/yugla/hand_over/\")\n",
    "yugla.head()"
   ]
  },
  {
   "cell_type": "code",
   "execution_count": 83,
   "metadata": {},
   "outputs": [
    {
     "data": {
      "text/plain": [
       "['https:',\n",
       " '',\n",
       " 'www.ss.com',\n",
       " 'lv',\n",
       " 'real-estate',\n",
       " 'flats',\n",
       " 'riga',\n",
       " 'centre',\n",
       " 'hand_over',\n",
       " '']"
      ]
     },
     "execution_count": 83,
     "metadata": {},
     "output_type": "execute_result"
    }
   ],
   "source": [
    "mysplit = \"https://www.ss.com/lv/real-estate/flats/riga/centre/hand_over/\".split(\"/\")\n",
    "mysplit"
   ]
  },
  {
   "cell_type": "code",
   "execution_count": 85,
   "metadata": {},
   "outputs": [
    {
     "data": {
      "text/plain": [
       "'centre'"
      ]
     },
     "execution_count": 85,
     "metadata": {},
     "output_type": "execute_result"
    }
   ],
   "source": [
    "mysplit[-3]"
   ]
  },
  {
   "cell_type": "code",
   "execution_count": 82,
   "metadata": {},
   "outputs": [
    {
     "name": "stdout",
     "output_type": "stream",
     "text": [
      "Going gather data from URL:https://www.ss.com/lv/real-estate/flats/riga/centre/hand_over/\n"
     ]
    },
    {
     "data": {
      "text/html": [
       "<div>\n",
       "<style scoped>\n",
       "    .dataframe tbody tr th:only-of-type {\n",
       "        vertical-align: middle;\n",
       "    }\n",
       "\n",
       "    .dataframe tbody tr th {\n",
       "        vertical-align: top;\n",
       "    }\n",
       "\n",
       "    .dataframe thead th {\n",
       "        text-align: right;\n",
       "    }\n",
       "</style>\n",
       "<table border=\"1\" class=\"dataframe\">\n",
       "  <thead>\n",
       "    <tr style=\"text-align: right;\">\n",
       "      <th></th>\n",
       "      <th>Sludinājumi</th>\n",
       "      <th>Iela</th>\n",
       "      <th>Ist.</th>\n",
       "      <th>m2</th>\n",
       "      <th>Stāvs</th>\n",
       "      <th>Sērija</th>\n",
       "      <th>Cena, m2</th>\n",
       "      <th>Cena</th>\n",
       "      <th>URL</th>\n",
       "    </tr>\n",
       "  </thead>\n",
       "  <tbody>\n",
       "    <tr>\n",
       "      <th>0</th>\n",
       "      <td>Bez komisijas maksas. Izīrē studijas tipa dzīv...</td>\n",
       "      <td>Valdemāra 71</td>\n",
       "      <td>5</td>\n",
       "      <td>110</td>\n",
       "      <td>6/6</td>\n",
       "      <td>P. kara</td>\n",
       "      <td>7.18 €</td>\n",
       "      <td>790  €/mēn.</td>\n",
       "      <td>https://www.ss.com/msg/lv/real-estate/flats/ri...</td>\n",
       "    </tr>\n",
       "    <tr>\n",
       "      <th>1</th>\n",
       "      <td>Īstermiņā no 2st. tiek izīrēts saulains, mājīg...</td>\n",
       "      <td>Matīsa 100</td>\n",
       "      <td>1</td>\n",
       "      <td>30</td>\n",
       "      <td>4/5</td>\n",
       "      <td>Renov.</td>\n",
       "      <td>0.833 €</td>\n",
       "      <td>25  €/dienā</td>\n",
       "      <td>https://www.ss.com/msg/lv/real-estate/flats/ri...</td>\n",
       "    </tr>\n",
       "    <tr>\n",
       "      <th>2</th>\n",
       "      <td>Izīrēju ilgtermiņā plašu trīs istabu dzīvokli ...</td>\n",
       "      <td>Hospitāļu 15</td>\n",
       "      <td>3</td>\n",
       "      <td>77</td>\n",
       "      <td>3/5</td>\n",
       "      <td>P. kara</td>\n",
       "      <td>6.75 €</td>\n",
       "      <td>520  €/mēn.</td>\n",
       "      <td>https://www.ss.com/msg/lv/real-estate/flats/ri...</td>\n",
       "    </tr>\n",
       "    <tr>\n",
       "      <th>3</th>\n",
       "      <td>Для краткосрочной аренды сдаётся уютная, двухк...</td>\n",
       "      <td>Lāčplēša 221</td>\n",
       "      <td>2</td>\n",
       "      <td>41</td>\n",
       "      <td>3/4</td>\n",
       "      <td>P. kara</td>\n",
       "      <td>0.854 €</td>\n",
       "      <td>35  €/dienā</td>\n",
       "      <td>https://www.ss.com/msg/lv/real-estate/flats/ri...</td>\n",
       "    </tr>\n",
       "    <tr>\n",
       "      <th>4</th>\n",
       "      <td>4-5 мест. 1 комнатная квартира в центре Риги, ...</td>\n",
       "      <td>Sadovņikova 47</td>\n",
       "      <td>1</td>\n",
       "      <td>40</td>\n",
       "      <td>2/5</td>\n",
       "      <td>Renov.</td>\n",
       "      <td>7.50 €</td>\n",
       "      <td>300  €/mēn.</td>\n",
       "      <td>https://www.ss.com/msg/lv/real-estate/flats/ri...</td>\n",
       "    </tr>\n",
       "  </tbody>\n",
       "</table>\n",
       "</div>"
      ],
      "text/plain": [
       "                                         Sludinājumi            Iela Ist.  \\\n",
       "0  Bez komisijas maksas. Izīrē studijas tipa dzīv...    Valdemāra 71    5   \n",
       "1  Īstermiņā no 2st. tiek izīrēts saulains, mājīg...      Matīsa 100    1   \n",
       "2  Izīrēju ilgtermiņā plašu trīs istabu dzīvokli ...    Hospitāļu 15    3   \n",
       "3  Для краткосрочной аренды сдаётся уютная, двухк...    Lāčplēša 221    2   \n",
       "4  4-5 мест. 1 комнатная квартира в центре Риги, ...  Sadovņikova 47    1   \n",
       "\n",
       "    m2 Stāvs   Sērija Cena, m2         Cena  \\\n",
       "0  110   6/6  P. kara   7.18 €  790  €/mēn.   \n",
       "1   30   4/5   Renov.  0.833 €  25  €/dienā   \n",
       "2   77   3/5  P. kara   6.75 €  520  €/mēn.   \n",
       "3   41   3/4  P. kara  0.854 €  35  €/dienā   \n",
       "4   40   2/5   Renov.   7.50 €  300  €/mēn.   \n",
       "\n",
       "                                                 URL  \n",
       "0  https://www.ss.com/msg/lv/real-estate/flats/ri...  \n",
       "1  https://www.ss.com/msg/lv/real-estate/flats/ri...  \n",
       "2  https://www.ss.com/msg/lv/real-estate/flats/ri...  \n",
       "3  https://www.ss.com/msg/lv/real-estate/flats/ri...  \n",
       "4  https://www.ss.com/msg/lv/real-estate/flats/ri...  "
      ]
     },
     "execution_count": 82,
     "metadata": {},
     "output_type": "execute_result"
    }
   ],
   "source": [
    "rdf = getDFfromUrl(\"https://www.ss.com/lv/real-estate/flats/riga/centre/hand_over/\")\n",
    "rdf.head()"
   ]
  },
  {
   "cell_type": "code",
   "execution_count": null,
   "metadata": {},
   "outputs": [],
   "source": [
    "df2 = getDFfromUrl(woodlist[12])\n",
    "df2"
   ]
  },
  {
   "cell_type": "code",
   "execution_count": 100,
   "metadata": {},
   "outputs": [],
   "source": [
    "# Good idea to add time delay to a function which processes many scrapes\n",
    "# Be a good citizen\n",
    "# https://www.pythoncentral.io/pythons-time-sleep-pause-wait-sleep-stop-your-code/\n",
    "import time"
   ]
  },
  {
   "cell_type": "code",
   "execution_count": 102,
   "metadata": {},
   "outputs": [
    {
     "data": {
      "text/plain": [
       "52"
      ]
     },
     "execution_count": 102,
     "metadata": {},
     "output_type": "execute_result"
    }
   ],
   "source": [
    "len(handoverlist)"
   ]
  },
  {
   "cell_type": "code",
   "execution_count": 104,
   "metadata": {},
   "outputs": [
    {
     "data": {
      "text/plain": [
       "['https://www.ss.com/lv/real-estate/flats/riga/centre/hand_over/',\n",
       " 'https://www.ss.com/lv/real-estate/flats/riga/agenskalns/hand_over/',\n",
       " 'https://www.ss.com/lv/real-estate/flats/riga/aplokciems/hand_over/',\n",
       " 'https://www.ss.com/lv/real-estate/flats/riga/beberbeki/hand_over/',\n",
       " 'https://www.ss.com/lv/real-estate/flats/riga/bergi/hand_over/']"
      ]
     },
     "execution_count": 104,
     "metadata": {},
     "output_type": "execute_result"
    }
   ],
   "source": [
    "handurllist = [el[1] for el in handoverlist]\n",
    "handurllist[:5]"
   ]
  },
  {
   "cell_type": "code",
   "execution_count": 105,
   "metadata": {},
   "outputs": [],
   "source": [
    "# with this recipe we can append a big list of dataframes into one\n",
    "def getDFfromUrlList(urlist):\n",
    "    dflist = []\n",
    "    for ur in urlist:\n",
    "        dflist.append(getDFfromUrl(ur))\n",
    "        time.sleep(0.5)\n",
    "    return pd.concat(dflist)"
   ]
  },
  {
   "cell_type": "code",
   "execution_count": 117,
   "metadata": {},
   "outputs": [
    {
     "data": {
      "text/plain": [
       "['https://www.ss.com/lv/real-estate/flats/riga/centre/hand_over/',\n",
       " 'https://www.ss.com/lv/real-estate/flats/riga/agenskalns/hand_over/',\n",
       " 'https://www.ss.com/lv/real-estate/flats/riga/aplokciems/hand_over/']"
      ]
     },
     "execution_count": 117,
     "metadata": {},
     "output_type": "execute_result"
    }
   ],
   "source": [
    "handurllist[:3]"
   ]
  },
  {
   "cell_type": "code",
   "execution_count": 122,
   "metadata": {
    "scrolled": true
   },
   "outputs": [
    {
     "name": "stdout",
     "output_type": "stream",
     "text": [
      "Going to gather data from URL:https://www.ss.com/lv/real-estate/flats/riga/centre/hand_over/\n",
      "Going to gather data from URL:https://www.ss.com/lv/real-estate/flats/riga/agenskalns/hand_over/\n",
      "Going to gather data from URL:https://www.ss.com/lv/real-estate/flats/riga/aplokciems/hand_over/\n",
      "Going to gather data from URL:https://www.ss.com/lv/real-estate/flats/riga/beberbeki/hand_over/\n",
      "Oops nothing for rent\n",
      "Going to gather data from URL:https://www.ss.com/lv/real-estate/flats/riga/bergi/hand_over/\n",
      "Going to gather data from URL:https://www.ss.com/lv/real-estate/flats/riga/bierini/hand_over/\n",
      "Going to gather data from URL:https://www.ss.com/lv/real-estate/flats/riga/bolderaya/hand_over/\n",
      "Going to gather data from URL:https://www.ss.com/lv/real-estate/flats/riga/breksi/hand_over/\n",
      "Oops nothing for rent\n",
      "Going to gather data from URL:https://www.ss.com/lv/real-estate/flats/riga/bukulti/hand_over/\n",
      "Oops nothing for rent\n",
      "Going to gather data from URL:https://www.ss.com/lv/real-estate/flats/riga/bulli/hand_over/\n",
      "Oops nothing for rent\n"
     ]
    },
    {
     "data": {
      "text/html": [
       "<div>\n",
       "<style scoped>\n",
       "    .dataframe tbody tr th:only-of-type {\n",
       "        vertical-align: middle;\n",
       "    }\n",
       "\n",
       "    .dataframe tbody tr th {\n",
       "        vertical-align: top;\n",
       "    }\n",
       "\n",
       "    .dataframe thead th {\n",
       "        text-align: right;\n",
       "    }\n",
       "</style>\n",
       "<table border=\"1\" class=\"dataframe\">\n",
       "  <thead>\n",
       "    <tr style=\"text-align: right;\">\n",
       "      <th></th>\n",
       "      <th>Sludinājumi</th>\n",
       "      <th>Iela</th>\n",
       "      <th>Ist.</th>\n",
       "      <th>m2</th>\n",
       "      <th>Stāvs</th>\n",
       "      <th>Sērija</th>\n",
       "      <th>Cena, m2</th>\n",
       "      <th>Cena</th>\n",
       "      <th>URL</th>\n",
       "      <th>Region</th>\n",
       "    </tr>\n",
       "  </thead>\n",
       "  <tbody>\n",
       "    <tr>\n",
       "      <th>0</th>\n",
       "      <td>Bez komisijas maksas. Izīrē studijas tipa dzīv...</td>\n",
       "      <td>Valdemāra 71</td>\n",
       "      <td>5</td>\n",
       "      <td>110</td>\n",
       "      <td>6/6</td>\n",
       "      <td>P. kara</td>\n",
       "      <td>7.18 €</td>\n",
       "      <td>790  €/mēn.</td>\n",
       "      <td>https://www.ss.com/msg/lv/real-estate/flats/ri...</td>\n",
       "      <td>centre</td>\n",
       "    </tr>\n",
       "    <tr>\n",
       "      <th>1</th>\n",
       "      <td>Īstermiņā no 2st. tiek izīrēts saulains, mājīg...</td>\n",
       "      <td>Matīsa 100</td>\n",
       "      <td>1</td>\n",
       "      <td>30</td>\n",
       "      <td>4/5</td>\n",
       "      <td>Renov.</td>\n",
       "      <td>0.833 €</td>\n",
       "      <td>25  €/dienā</td>\n",
       "      <td>https://www.ss.com/msg/lv/real-estate/flats/ri...</td>\n",
       "      <td>centre</td>\n",
       "    </tr>\n",
       "    <tr>\n",
       "      <th>2</th>\n",
       "      <td>Izīrēju ilgtermiņā plašu trīs istabu dzīvokli ...</td>\n",
       "      <td>Hospitāļu 15</td>\n",
       "      <td>3</td>\n",
       "      <td>77</td>\n",
       "      <td>3/5</td>\n",
       "      <td>P. kara</td>\n",
       "      <td>6.75 €</td>\n",
       "      <td>520  €/mēn.</td>\n",
       "      <td>https://www.ss.com/msg/lv/real-estate/flats/ri...</td>\n",
       "      <td>centre</td>\n",
       "    </tr>\n",
       "    <tr>\n",
       "      <th>3</th>\n",
       "      <td>Для краткосрочной аренды сдаётся уютная, двухк...</td>\n",
       "      <td>Lāčplēša 221</td>\n",
       "      <td>2</td>\n",
       "      <td>41</td>\n",
       "      <td>3/4</td>\n",
       "      <td>P. kara</td>\n",
       "      <td>0.854 €</td>\n",
       "      <td>35  €/dienā</td>\n",
       "      <td>https://www.ss.com/msg/lv/real-estate/flats/ri...</td>\n",
       "      <td>centre</td>\n",
       "    </tr>\n",
       "    <tr>\n",
       "      <th>4</th>\n",
       "      <td>4-5 мест. 1 комнатная квартира в центре Риги, ...</td>\n",
       "      <td>Sadovņikova 47</td>\n",
       "      <td>1</td>\n",
       "      <td>40</td>\n",
       "      <td>2/5</td>\n",
       "      <td>Renov.</td>\n",
       "      <td>7.50 €</td>\n",
       "      <td>300  €/mēn.</td>\n",
       "      <td>https://www.ss.com/msg/lv/real-estate/flats/ri...</td>\n",
       "      <td>centre</td>\n",
       "    </tr>\n",
       "  </tbody>\n",
       "</table>\n",
       "</div>"
      ],
      "text/plain": [
       "                                         Sludinājumi            Iela Ist.  \\\n",
       "0  Bez komisijas maksas. Izīrē studijas tipa dzīv...    Valdemāra 71    5   \n",
       "1  Īstermiņā no 2st. tiek izīrēts saulains, mājīg...      Matīsa 100    1   \n",
       "2  Izīrēju ilgtermiņā plašu trīs istabu dzīvokli ...    Hospitāļu 15    3   \n",
       "3  Для краткосрочной аренды сдаётся уютная, двухк...    Lāčplēša 221    2   \n",
       "4  4-5 мест. 1 комнатная квартира в центре Риги, ...  Sadovņikova 47    1   \n",
       "\n",
       "    m2 Stāvs   Sērija Cena, m2         Cena  \\\n",
       "0  110   6/6  P. kara   7.18 €  790  €/mēn.   \n",
       "1   30   4/5   Renov.  0.833 €  25  €/dienā   \n",
       "2   77   3/5  P. kara   6.75 €  520  €/mēn.   \n",
       "3   41   3/4  P. kara  0.854 €  35  €/dienā   \n",
       "4   40   2/5   Renov.   7.50 €  300  €/mēn.   \n",
       "\n",
       "                                                 URL  Region  \n",
       "0  https://www.ss.com/msg/lv/real-estate/flats/ri...  centre  \n",
       "1  https://www.ss.com/msg/lv/real-estate/flats/ri...  centre  \n",
       "2  https://www.ss.com/msg/lv/real-estate/flats/ri...  centre  \n",
       "3  https://www.ss.com/msg/lv/real-estate/flats/ri...  centre  \n",
       "4  https://www.ss.com/msg/lv/real-estate/flats/ri...  centre  "
      ]
     },
     "execution_count": 122,
     "metadata": {},
     "output_type": "execute_result"
    }
   ],
   "source": [
    "bigdf = getDFfromUrlList(handurllist[:10])\n",
    "bigdf.head()"
   ]
  },
  {
   "cell_type": "code",
   "execution_count": 109,
   "metadata": {},
   "outputs": [
    {
     "data": {
      "text/html": [
       "<div>\n",
       "<style scoped>\n",
       "    .dataframe tbody tr th:only-of-type {\n",
       "        vertical-align: middle;\n",
       "    }\n",
       "\n",
       "    .dataframe tbody tr th {\n",
       "        vertical-align: top;\n",
       "    }\n",
       "\n",
       "    .dataframe thead th {\n",
       "        text-align: right;\n",
       "    }\n",
       "</style>\n",
       "<table border=\"1\" class=\"dataframe\">\n",
       "  <thead>\n",
       "    <tr style=\"text-align: right;\">\n",
       "      <th></th>\n",
       "      <th>Sludinājumi</th>\n",
       "      <th>Iela</th>\n",
       "      <th>Ist.</th>\n",
       "      <th>m2</th>\n",
       "      <th>Stāvs</th>\n",
       "      <th>Sērija</th>\n",
       "      <th>Cena, m2</th>\n",
       "      <th>Cena</th>\n",
       "      <th>URL</th>\n",
       "    </tr>\n",
       "    <tr>\n",
       "      <th>Region</th>\n",
       "      <th></th>\n",
       "      <th></th>\n",
       "      <th></th>\n",
       "      <th></th>\n",
       "      <th></th>\n",
       "      <th></th>\n",
       "      <th></th>\n",
       "      <th></th>\n",
       "      <th></th>\n",
       "    </tr>\n",
       "  </thead>\n",
       "  <tbody>\n",
       "    <tr>\n",
       "      <th>agenskalns</th>\n",
       "      <td>30</td>\n",
       "      <td>30</td>\n",
       "      <td>30</td>\n",
       "      <td>30</td>\n",
       "      <td>30</td>\n",
       "      <td>30</td>\n",
       "      <td>30</td>\n",
       "      <td>30</td>\n",
       "      <td>30</td>\n",
       "    </tr>\n",
       "    <tr>\n",
       "      <th>aplokciems</th>\n",
       "      <td>2</td>\n",
       "      <td>2</td>\n",
       "      <td>2</td>\n",
       "      <td>2</td>\n",
       "      <td>2</td>\n",
       "      <td>2</td>\n",
       "      <td>2</td>\n",
       "      <td>2</td>\n",
       "      <td>2</td>\n",
       "    </tr>\n",
       "    <tr>\n",
       "      <th>beberbeki</th>\n",
       "      <td>1</td>\n",
       "      <td>1</td>\n",
       "      <td>1</td>\n",
       "      <td>1</td>\n",
       "      <td>1</td>\n",
       "      <td>1</td>\n",
       "      <td>1</td>\n",
       "      <td>1</td>\n",
       "      <td>1</td>\n",
       "    </tr>\n",
       "    <tr>\n",
       "      <th>bierini</th>\n",
       "      <td>5</td>\n",
       "      <td>5</td>\n",
       "      <td>5</td>\n",
       "      <td>5</td>\n",
       "      <td>5</td>\n",
       "      <td>5</td>\n",
       "      <td>5</td>\n",
       "      <td>5</td>\n",
       "      <td>5</td>\n",
       "    </tr>\n",
       "    <tr>\n",
       "      <th>bolderaya</th>\n",
       "      <td>6</td>\n",
       "      <td>6</td>\n",
       "      <td>6</td>\n",
       "      <td>6</td>\n",
       "      <td>6</td>\n",
       "      <td>6</td>\n",
       "      <td>6</td>\n",
       "      <td>6</td>\n",
       "      <td>6</td>\n",
       "    </tr>\n",
       "    <tr>\n",
       "      <th>breksi</th>\n",
       "      <td>1</td>\n",
       "      <td>1</td>\n",
       "      <td>1</td>\n",
       "      <td>1</td>\n",
       "      <td>1</td>\n",
       "      <td>1</td>\n",
       "      <td>1</td>\n",
       "      <td>1</td>\n",
       "      <td>1</td>\n",
       "    </tr>\n",
       "    <tr>\n",
       "      <th>bukulti</th>\n",
       "      <td>4</td>\n",
       "      <td>4</td>\n",
       "      <td>4</td>\n",
       "      <td>4</td>\n",
       "      <td>4</td>\n",
       "      <td>4</td>\n",
       "      <td>4</td>\n",
       "      <td>4</td>\n",
       "      <td>4</td>\n",
       "    </tr>\n",
       "    <tr>\n",
       "      <th>bulli</th>\n",
       "      <td>1</td>\n",
       "      <td>1</td>\n",
       "      <td>1</td>\n",
       "      <td>1</td>\n",
       "      <td>1</td>\n",
       "      <td>1</td>\n",
       "      <td>1</td>\n",
       "      <td>1</td>\n",
       "      <td>1</td>\n",
       "    </tr>\n",
       "    <tr>\n",
       "      <th>centre</th>\n",
       "      <td>30</td>\n",
       "      <td>30</td>\n",
       "      <td>30</td>\n",
       "      <td>30</td>\n",
       "      <td>30</td>\n",
       "      <td>30</td>\n",
       "      <td>30</td>\n",
       "      <td>30</td>\n",
       "      <td>30</td>\n",
       "    </tr>\n",
       "    <tr>\n",
       "      <th>chiekurkalns</th>\n",
       "      <td>17</td>\n",
       "      <td>17</td>\n",
       "      <td>17</td>\n",
       "      <td>17</td>\n",
       "      <td>17</td>\n",
       "      <td>17</td>\n",
       "      <td>17</td>\n",
       "      <td>17</td>\n",
       "      <td>17</td>\n",
       "    </tr>\n",
       "    <tr>\n",
       "      <th>darzciems</th>\n",
       "      <td>6</td>\n",
       "      <td>6</td>\n",
       "      <td>6</td>\n",
       "      <td>6</td>\n",
       "      <td>6</td>\n",
       "      <td>6</td>\n",
       "      <td>6</td>\n",
       "      <td>6</td>\n",
       "      <td>6</td>\n",
       "    </tr>\n",
       "    <tr>\n",
       "      <th>daugavgriva</th>\n",
       "      <td>4</td>\n",
       "      <td>4</td>\n",
       "      <td>4</td>\n",
       "      <td>4</td>\n",
       "      <td>4</td>\n",
       "      <td>4</td>\n",
       "      <td>4</td>\n",
       "      <td>4</td>\n",
       "      <td>4</td>\n",
       "    </tr>\n",
       "    <tr>\n",
       "      <th>dzeguzhkalns</th>\n",
       "      <td>10</td>\n",
       "      <td>10</td>\n",
       "      <td>10</td>\n",
       "      <td>10</td>\n",
       "      <td>10</td>\n",
       "      <td>10</td>\n",
       "      <td>10</td>\n",
       "      <td>10</td>\n",
       "      <td>10</td>\n",
       "    </tr>\n",
       "    <tr>\n",
       "      <th>grizinkalns</th>\n",
       "      <td>12</td>\n",
       "      <td>12</td>\n",
       "      <td>12</td>\n",
       "      <td>12</td>\n",
       "      <td>12</td>\n",
       "      <td>12</td>\n",
       "      <td>12</td>\n",
       "      <td>12</td>\n",
       "      <td>12</td>\n",
       "    </tr>\n",
       "    <tr>\n",
       "      <th>ilguciems</th>\n",
       "      <td>20</td>\n",
       "      <td>20</td>\n",
       "      <td>20</td>\n",
       "      <td>20</td>\n",
       "      <td>20</td>\n",
       "      <td>20</td>\n",
       "      <td>20</td>\n",
       "      <td>20</td>\n",
       "      <td>20</td>\n",
       "    </tr>\n",
       "    <tr>\n",
       "      <th>imanta</th>\n",
       "      <td>30</td>\n",
       "      <td>30</td>\n",
       "      <td>30</td>\n",
       "      <td>30</td>\n",
       "      <td>30</td>\n",
       "      <td>30</td>\n",
       "      <td>30</td>\n",
       "      <td>30</td>\n",
       "      <td>30</td>\n",
       "    </tr>\n",
       "    <tr>\n",
       "      <th>janjavarti</th>\n",
       "      <td>1</td>\n",
       "      <td>1</td>\n",
       "      <td>1</td>\n",
       "      <td>1</td>\n",
       "      <td>1</td>\n",
       "      <td>1</td>\n",
       "      <td>1</td>\n",
       "      <td>1</td>\n",
       "      <td>1</td>\n",
       "    </tr>\n",
       "    <tr>\n",
       "      <th>katlakalns</th>\n",
       "      <td>1</td>\n",
       "      <td>1</td>\n",
       "      <td>1</td>\n",
       "      <td>1</td>\n",
       "      <td>1</td>\n",
       "      <td>1</td>\n",
       "      <td>1</td>\n",
       "      <td>1</td>\n",
       "      <td>1</td>\n",
       "    </tr>\n",
       "    <tr>\n",
       "      <th>kengarags</th>\n",
       "      <td>42</td>\n",
       "      <td>42</td>\n",
       "      <td>42</td>\n",
       "      <td>42</td>\n",
       "      <td>42</td>\n",
       "      <td>42</td>\n",
       "      <td>42</td>\n",
       "      <td>42</td>\n",
       "      <td>42</td>\n",
       "    </tr>\n",
       "    <tr>\n",
       "      <th>kipsala</th>\n",
       "      <td>9</td>\n",
       "      <td>9</td>\n",
       "      <td>9</td>\n",
       "      <td>9</td>\n",
       "      <td>9</td>\n",
       "      <td>9</td>\n",
       "      <td>9</td>\n",
       "      <td>9</td>\n",
       "      <td>9</td>\n",
       "    </tr>\n",
       "    <tr>\n",
       "      <th>kleisti</th>\n",
       "      <td>1</td>\n",
       "      <td>1</td>\n",
       "      <td>1</td>\n",
       "      <td>1</td>\n",
       "      <td>1</td>\n",
       "      <td>1</td>\n",
       "      <td>1</td>\n",
       "      <td>1</td>\n",
       "      <td>1</td>\n",
       "    </tr>\n",
       "    <tr>\n",
       "      <th>kliversala</th>\n",
       "      <td>3</td>\n",
       "      <td>3</td>\n",
       "      <td>3</td>\n",
       "      <td>3</td>\n",
       "      <td>3</td>\n",
       "      <td>3</td>\n",
       "      <td>3</td>\n",
       "      <td>3</td>\n",
       "      <td>3</td>\n",
       "    </tr>\n",
       "    <tr>\n",
       "      <th>krasta-st-area</th>\n",
       "      <td>15</td>\n",
       "      <td>15</td>\n",
       "      <td>15</td>\n",
       "      <td>15</td>\n",
       "      <td>15</td>\n",
       "      <td>15</td>\n",
       "      <td>15</td>\n",
       "      <td>15</td>\n",
       "      <td>15</td>\n",
       "    </tr>\n",
       "    <tr>\n",
       "      <th>kremeri</th>\n",
       "      <td>1</td>\n",
       "      <td>1</td>\n",
       "      <td>1</td>\n",
       "      <td>1</td>\n",
       "      <td>1</td>\n",
       "      <td>1</td>\n",
       "      <td>1</td>\n",
       "      <td>1</td>\n",
       "      <td>1</td>\n",
       "    </tr>\n",
       "    <tr>\n",
       "      <th>mangali</th>\n",
       "      <td>6</td>\n",
       "      <td>6</td>\n",
       "      <td>6</td>\n",
       "      <td>6</td>\n",
       "      <td>6</td>\n",
       "      <td>6</td>\n",
       "      <td>6</td>\n",
       "      <td>6</td>\n",
       "      <td>6</td>\n",
       "    </tr>\n",
       "    <tr>\n",
       "      <th>mangalsala</th>\n",
       "      <td>5</td>\n",
       "      <td>5</td>\n",
       "      <td>5</td>\n",
       "      <td>5</td>\n",
       "      <td>5</td>\n",
       "      <td>5</td>\n",
       "      <td>5</td>\n",
       "      <td>5</td>\n",
       "      <td>5</td>\n",
       "    </tr>\n",
       "    <tr>\n",
       "      <th>maskavas-priekshpilseta</th>\n",
       "      <td>24</td>\n",
       "      <td>24</td>\n",
       "      <td>24</td>\n",
       "      <td>24</td>\n",
       "      <td>24</td>\n",
       "      <td>24</td>\n",
       "      <td>24</td>\n",
       "      <td>24</td>\n",
       "      <td>24</td>\n",
       "    </tr>\n",
       "    <tr>\n",
       "      <th>mezhapark</th>\n",
       "      <td>23</td>\n",
       "      <td>23</td>\n",
       "      <td>23</td>\n",
       "      <td>23</td>\n",
       "      <td>23</td>\n",
       "      <td>23</td>\n",
       "      <td>23</td>\n",
       "      <td>23</td>\n",
       "      <td>23</td>\n",
       "    </tr>\n",
       "    <tr>\n",
       "      <th>mezhciems</th>\n",
       "      <td>17</td>\n",
       "      <td>17</td>\n",
       "      <td>17</td>\n",
       "      <td>17</td>\n",
       "      <td>17</td>\n",
       "      <td>17</td>\n",
       "      <td>17</td>\n",
       "      <td>17</td>\n",
       "      <td>17</td>\n",
       "    </tr>\n",
       "    <tr>\n",
       "      <th>other</th>\n",
       "      <td>2</td>\n",
       "      <td>2</td>\n",
       "      <td>2</td>\n",
       "      <td>2</td>\n",
       "      <td>2</td>\n",
       "      <td>2</td>\n",
       "      <td>2</td>\n",
       "      <td>2</td>\n",
       "      <td>2</td>\n",
       "    </tr>\n",
       "    <tr>\n",
       "      <th>plyavnieki</th>\n",
       "      <td>30</td>\n",
       "      <td>30</td>\n",
       "      <td>30</td>\n",
       "      <td>30</td>\n",
       "      <td>30</td>\n",
       "      <td>30</td>\n",
       "      <td>30</td>\n",
       "      <td>30</td>\n",
       "      <td>30</td>\n",
       "    </tr>\n",
       "    <tr>\n",
       "      <th>purvciems</th>\n",
       "      <td>30</td>\n",
       "      <td>30</td>\n",
       "      <td>30</td>\n",
       "      <td>30</td>\n",
       "      <td>30</td>\n",
       "      <td>30</td>\n",
       "      <td>30</td>\n",
       "      <td>30</td>\n",
       "      <td>30</td>\n",
       "    </tr>\n",
       "    <tr>\n",
       "      <th>sarkandaugava</th>\n",
       "      <td>19</td>\n",
       "      <td>19</td>\n",
       "      <td>19</td>\n",
       "      <td>19</td>\n",
       "      <td>19</td>\n",
       "      <td>19</td>\n",
       "      <td>19</td>\n",
       "      <td>19</td>\n",
       "      <td>19</td>\n",
       "    </tr>\n",
       "    <tr>\n",
       "      <th>shampeteris-pleskodale</th>\n",
       "      <td>30</td>\n",
       "      <td>30</td>\n",
       "      <td>30</td>\n",
       "      <td>30</td>\n",
       "      <td>30</td>\n",
       "      <td>30</td>\n",
       "      <td>30</td>\n",
       "      <td>30</td>\n",
       "      <td>30</td>\n",
       "    </tr>\n",
       "    <tr>\n",
       "      <th>shkirotava</th>\n",
       "      <td>2</td>\n",
       "      <td>2</td>\n",
       "      <td>2</td>\n",
       "      <td>2</td>\n",
       "      <td>2</td>\n",
       "      <td>2</td>\n",
       "      <td>2</td>\n",
       "      <td>2</td>\n",
       "      <td>2</td>\n",
       "    </tr>\n",
       "    <tr>\n",
       "      <th>teika</th>\n",
       "      <td>35</td>\n",
       "      <td>35</td>\n",
       "      <td>35</td>\n",
       "      <td>35</td>\n",
       "      <td>35</td>\n",
       "      <td>35</td>\n",
       "      <td>35</td>\n",
       "      <td>35</td>\n",
       "      <td>35</td>\n",
       "    </tr>\n",
       "    <tr>\n",
       "      <th>tornjakalns</th>\n",
       "      <td>9</td>\n",
       "      <td>9</td>\n",
       "      <td>9</td>\n",
       "      <td>9</td>\n",
       "      <td>9</td>\n",
       "      <td>9</td>\n",
       "      <td>9</td>\n",
       "      <td>9</td>\n",
       "      <td>9</td>\n",
       "    </tr>\n",
       "    <tr>\n",
       "      <th>vecaki</th>\n",
       "      <td>2</td>\n",
       "      <td>2</td>\n",
       "      <td>2</td>\n",
       "      <td>2</td>\n",
       "      <td>2</td>\n",
       "      <td>2</td>\n",
       "      <td>2</td>\n",
       "      <td>2</td>\n",
       "      <td>2</td>\n",
       "    </tr>\n",
       "    <tr>\n",
       "      <th>vecdaugava</th>\n",
       "      <td>2</td>\n",
       "      <td>2</td>\n",
       "      <td>2</td>\n",
       "      <td>2</td>\n",
       "      <td>2</td>\n",
       "      <td>2</td>\n",
       "      <td>2</td>\n",
       "      <td>2</td>\n",
       "      <td>2</td>\n",
       "    </tr>\n",
       "    <tr>\n",
       "      <th>vecmilgravis</th>\n",
       "      <td>29</td>\n",
       "      <td>29</td>\n",
       "      <td>29</td>\n",
       "      <td>29</td>\n",
       "      <td>29</td>\n",
       "      <td>29</td>\n",
       "      <td>29</td>\n",
       "      <td>29</td>\n",
       "      <td>29</td>\n",
       "    </tr>\n",
       "    <tr>\n",
       "      <th>vecriga</th>\n",
       "      <td>30</td>\n",
       "      <td>30</td>\n",
       "      <td>30</td>\n",
       "      <td>30</td>\n",
       "      <td>30</td>\n",
       "      <td>30</td>\n",
       "      <td>30</td>\n",
       "      <td>30</td>\n",
       "      <td>30</td>\n",
       "    </tr>\n",
       "    <tr>\n",
       "      <th>vef</th>\n",
       "      <td>1</td>\n",
       "      <td>1</td>\n",
       "      <td>1</td>\n",
       "      <td>1</td>\n",
       "      <td>1</td>\n",
       "      <td>1</td>\n",
       "      <td>1</td>\n",
       "      <td>1</td>\n",
       "      <td>1</td>\n",
       "    </tr>\n",
       "    <tr>\n",
       "      <th>voleri</th>\n",
       "      <td>1</td>\n",
       "      <td>1</td>\n",
       "      <td>1</td>\n",
       "      <td>1</td>\n",
       "      <td>1</td>\n",
       "      <td>1</td>\n",
       "      <td>1</td>\n",
       "      <td>1</td>\n",
       "      <td>1</td>\n",
       "    </tr>\n",
       "    <tr>\n",
       "      <th>yugla</th>\n",
       "      <td>22</td>\n",
       "      <td>22</td>\n",
       "      <td>22</td>\n",
       "      <td>22</td>\n",
       "      <td>22</td>\n",
       "      <td>22</td>\n",
       "      <td>22</td>\n",
       "      <td>22</td>\n",
       "      <td>22</td>\n",
       "    </tr>\n",
       "    <tr>\n",
       "      <th>zakusala</th>\n",
       "      <td>1</td>\n",
       "      <td>1</td>\n",
       "      <td>1</td>\n",
       "      <td>1</td>\n",
       "      <td>1</td>\n",
       "      <td>1</td>\n",
       "      <td>1</td>\n",
       "      <td>1</td>\n",
       "      <td>1</td>\n",
       "    </tr>\n",
       "    <tr>\n",
       "      <th>zasulauks</th>\n",
       "      <td>3</td>\n",
       "      <td>3</td>\n",
       "      <td>3</td>\n",
       "      <td>3</td>\n",
       "      <td>3</td>\n",
       "      <td>3</td>\n",
       "      <td>3</td>\n",
       "      <td>3</td>\n",
       "      <td>3</td>\n",
       "    </tr>\n",
       "    <tr>\n",
       "      <th>ziepniekkalns</th>\n",
       "      <td>32</td>\n",
       "      <td>32</td>\n",
       "      <td>32</td>\n",
       "      <td>32</td>\n",
       "      <td>32</td>\n",
       "      <td>32</td>\n",
       "      <td>32</td>\n",
       "      <td>32</td>\n",
       "      <td>32</td>\n",
       "    </tr>\n",
       "    <tr>\n",
       "      <th>zolitude</th>\n",
       "      <td>30</td>\n",
       "      <td>30</td>\n",
       "      <td>30</td>\n",
       "      <td>30</td>\n",
       "      <td>30</td>\n",
       "      <td>30</td>\n",
       "      <td>30</td>\n",
       "      <td>30</td>\n",
       "      <td>30</td>\n",
       "    </tr>\n",
       "  </tbody>\n",
       "</table>\n",
       "</div>"
      ],
      "text/plain": [
       "                         Sludinājumi  Iela  Ist.  m2  Stāvs  Sērija  Cena, m2  \\\n",
       "Region                                                                          \n",
       "agenskalns                        30    30    30  30     30      30        30   \n",
       "aplokciems                         2     2     2   2      2       2         2   \n",
       "beberbeki                          1     1     1   1      1       1         1   \n",
       "bierini                            5     5     5   5      5       5         5   \n",
       "bolderaya                          6     6     6   6      6       6         6   \n",
       "breksi                             1     1     1   1      1       1         1   \n",
       "bukulti                            4     4     4   4      4       4         4   \n",
       "bulli                              1     1     1   1      1       1         1   \n",
       "centre                            30    30    30  30     30      30        30   \n",
       "chiekurkalns                      17    17    17  17     17      17        17   \n",
       "darzciems                          6     6     6   6      6       6         6   \n",
       "daugavgriva                        4     4     4   4      4       4         4   \n",
       "dzeguzhkalns                      10    10    10  10     10      10        10   \n",
       "grizinkalns                       12    12    12  12     12      12        12   \n",
       "ilguciems                         20    20    20  20     20      20        20   \n",
       "imanta                            30    30    30  30     30      30        30   \n",
       "janjavarti                         1     1     1   1      1       1         1   \n",
       "katlakalns                         1     1     1   1      1       1         1   \n",
       "kengarags                         42    42    42  42     42      42        42   \n",
       "kipsala                            9     9     9   9      9       9         9   \n",
       "kleisti                            1     1     1   1      1       1         1   \n",
       "kliversala                         3     3     3   3      3       3         3   \n",
       "krasta-st-area                    15    15    15  15     15      15        15   \n",
       "kremeri                            1     1     1   1      1       1         1   \n",
       "mangali                            6     6     6   6      6       6         6   \n",
       "mangalsala                         5     5     5   5      5       5         5   \n",
       "maskavas-priekshpilseta           24    24    24  24     24      24        24   \n",
       "mezhapark                         23    23    23  23     23      23        23   \n",
       "mezhciems                         17    17    17  17     17      17        17   \n",
       "other                              2     2     2   2      2       2         2   \n",
       "plyavnieki                        30    30    30  30     30      30        30   \n",
       "purvciems                         30    30    30  30     30      30        30   \n",
       "sarkandaugava                     19    19    19  19     19      19        19   \n",
       "shampeteris-pleskodale            30    30    30  30     30      30        30   \n",
       "shkirotava                         2     2     2   2      2       2         2   \n",
       "teika                             35    35    35  35     35      35        35   \n",
       "tornjakalns                        9     9     9   9      9       9         9   \n",
       "vecaki                             2     2     2   2      2       2         2   \n",
       "vecdaugava                         2     2     2   2      2       2         2   \n",
       "vecmilgravis                      29    29    29  29     29      29        29   \n",
       "vecriga                           30    30    30  30     30      30        30   \n",
       "vef                                1     1     1   1      1       1         1   \n",
       "voleri                             1     1     1   1      1       1         1   \n",
       "yugla                             22    22    22  22     22      22        22   \n",
       "zakusala                           1     1     1   1      1       1         1   \n",
       "zasulauks                          3     3     3   3      3       3         3   \n",
       "ziepniekkalns                     32    32    32  32     32      32        32   \n",
       "zolitude                          30    30    30  30     30      30        30   \n",
       "\n",
       "                         Cena  URL  \n",
       "Region                              \n",
       "agenskalns                 30   30  \n",
       "aplokciems                  2    2  \n",
       "beberbeki                   1    1  \n",
       "bierini                     5    5  \n",
       "bolderaya                   6    6  \n",
       "breksi                      1    1  \n",
       "bukulti                     4    4  \n",
       "bulli                       1    1  \n",
       "centre                     30   30  \n",
       "chiekurkalns               17   17  \n",
       "darzciems                   6    6  \n",
       "daugavgriva                 4    4  \n",
       "dzeguzhkalns               10   10  \n",
       "grizinkalns                12   12  \n",
       "ilguciems                  20   20  \n",
       "imanta                     30   30  \n",
       "janjavarti                  1    1  \n",
       "katlakalns                  1    1  \n",
       "kengarags                  42   42  \n",
       "kipsala                     9    9  \n",
       "kleisti                     1    1  \n",
       "kliversala                  3    3  \n",
       "krasta-st-area             15   15  \n",
       "kremeri                     1    1  \n",
       "mangali                     6    6  \n",
       "mangalsala                  5    5  \n",
       "maskavas-priekshpilseta    24   24  \n",
       "mezhapark                  23   23  \n",
       "mezhciems                  17   17  \n",
       "other                       2    2  \n",
       "plyavnieki                 30   30  \n",
       "purvciems                  30   30  \n",
       "sarkandaugava              19   19  \n",
       "shampeteris-pleskodale     30   30  \n",
       "shkirotava                  2    2  \n",
       "teika                      35   35  \n",
       "tornjakalns                 9    9  \n",
       "vecaki                      2    2  \n",
       "vecdaugava                  2    2  \n",
       "vecmilgravis               29   29  \n",
       "vecriga                    30   30  \n",
       "vef                         1    1  \n",
       "voleri                      1    1  \n",
       "yugla                      22   22  \n",
       "zakusala                    1    1  \n",
       "zasulauks                   3    3  \n",
       "ziepniekkalns              32   32  \n",
       "zolitude                   30   30  "
      ]
     },
     "execution_count": 109,
     "metadata": {},
     "output_type": "execute_result"
    }
   ],
   "source": [
    "bigdf.groupby(['Region']).count()"
   ]
  },
  {
   "cell_type": "code",
   "execution_count": null,
   "metadata": {},
   "outputs": [],
   "source": []
  },
  {
   "cell_type": "code",
   "execution_count": 110,
   "metadata": {},
   "outputs": [],
   "source": [
    "\n",
    "# https://stackoverflow.com/questions/10607688/how-to-create-a-file-name-with-the-current-date-time-in-python\n",
    "import time\n",
    "timestr = time.strftime(\"%Y%m%d-%H%M%S\")\n",
    "\n",
    "#https://pandas.pydata.org/pandas-docs/stable/reference/api/pandas.DataFrame.to_excel.html\n",
    "# Let's use with context manager so we do not forget to close writer!\n",
    "with pd.ExcelWriter(f'sellers_{timestr}.xlsx') as writer:\n",
    "    bigdf.to_excel(writer, sheet_name='Sheet_name_1')"
   ]
  },
  {
   "cell_type": "code",
   "execution_count": 111,
   "metadata": {},
   "outputs": [
    {
     "data": {
      "text/plain": [
       "<title>SS.COM Dzīvokļi - Rīga - Centrs, Cenas, Izīrē - Sludinājumi</title>"
      ]
     },
     "execution_count": 111,
     "metadata": {},
     "output_type": "execute_result"
    }
   ],
   "source": [
    "rsoup.title"
   ]
  },
  {
   "cell_type": "code",
   "execution_count": 112,
   "metadata": {},
   "outputs": [
    {
     "data": {
      "text/plain": [
       "[<option selected=\"\" value=\"/lv/real-estate/flats/riga/centre/hand_over/\">Visi sludinājumi</option>,\n",
       " <option value=\"/lv/real-estate/flats/riga/centre/today/hand_over/\">Šodien - 6</option>,\n",
       " <option value=\"/lv/real-estate/flats/riga/centre/today-2/hand_over/\">Par 2 dienām - 78</option>,\n",
       " <option value=\"/lv/real-estate/flats/riga/centre/today-5/hand_over/\">Par 5 dienām - 178</option>,\n",
       " <option value=\"\"></option>,\n",
       " <option value=\"1\">1</option>,\n",
       " <option value=\"2\">2</option>,\n",
       " <option value=\"3\">3</option>,\n",
       " <option value=\"4\">4</option>,\n",
       " <option value=\"5\">5</option>,\n",
       " <option value=\"6\">6</option>,\n",
       " <option value=\"Citi\">Citi</option>,\n",
       " <option value=\"\"></option>,\n",
       " <option value=\"1\">1</option>,\n",
       " <option value=\"2\">2</option>,\n",
       " <option value=\"3\">3</option>,\n",
       " <option value=\"4\">4</option>,\n",
       " <option value=\"5\">5</option>,\n",
       " <option value=\"6\">6</option>,\n",
       " <option value=\"Citi\">Citi</option>,\n",
       " <option value=\"\"></option>,\n",
       " <option value=\"67\">103.</option>,\n",
       " <option value=\"70\">467.</option>,\n",
       " <option value=\"76\">Hrušč.</option>,\n",
       " <option value=\"72\">LT proj.</option>,\n",
       " <option value=\"74\">M. ģim.</option>,\n",
       " <option value=\"79\">P. kara</option>,\n",
       " <option value=\"77\">Priv. m.</option>,\n",
       " <option value=\"3616\">Renov.</option>,\n",
       " <option value=\"78\">Specpr.</option>,\n",
       " <option value=\"75\">Staļina</option>,\n",
       " <option value=\"3596\">Jaun.</option>,\n",
       " <option selected=\"\" value=\"/lv/real-estate/flats/riga/centre/hand_over/\">Saraksts</option>,\n",
       " <option value=\"/lv/real-estate/flats/riga/centre/hand_over/photo/\">Albums</option>,\n",
       " <option value=\"/lv/real-estate/flats/riga/centre/hand_over/fDgQeF4S.html\">Karte</option>,\n",
       " <option value=\"/lv/real-estate/flats/riga/centre/\">Visi</option>,\n",
       " <option value=\"/lv/real-estate/flats/riga/centre/sell/\">Pārdod</option>,\n",
       " <option value=\"/lv/real-estate/flats/riga/centre/buy/\">Pērk</option>,\n",
       " <option selected=\"\" value=\"/lv/real-estate/flats/riga/centre/hand_over/\">Izīrē</option>,\n",
       " <option value=\"/lv/real-estate/flats/riga/centre/remove/\">Īrē</option>,\n",
       " <option value=\"/lv/real-estate/flats/riga/centre/change/\">Maina</option>,\n",
       " <option value=\"/lv/real-estate/flats/riga/centre/-other/\">Dažādi</option>,\n",
       " <option value=\"/lv/real-estate/flats/riga/all/hand_over/\">Visi</option>,\n",
       " <option selected=\"\" value=\"/lv/real-estate/flats/riga/centre/hand_over/\">Centrs</option>,\n",
       " <option value=\"/lv/real-estate/flats/riga/agenskalns/hand_over/\">Āgenskalns</option>,\n",
       " <option value=\"/lv/real-estate/flats/riga/aplokciems/hand_over/\">Aplokciems</option>,\n",
       " <option value=\"/lv/real-estate/flats/riga/bierini/hand_over/\">Bieriņi</option>,\n",
       " <option value=\"/lv/real-estate/flats/riga/bolderaya/hand_over/\">Bolderāja</option>,\n",
       " <option value=\"/lv/real-estate/flats/riga/chiekurkalns/hand_over/\">Čiekurkalns</option>,\n",
       " <option value=\"/lv/real-estate/flats/riga/darzciems/hand_over/\">Dārzciems</option>,\n",
       " <option value=\"/lv/real-estate/flats/riga/daugavgriva/hand_over/\">Daugavgrīva</option>,\n",
       " <option value=\"/lv/real-estate/flats/riga/dzeguzhkalns/hand_over/\">Dzegužkalns (Dzirciems)</option>,\n",
       " <option value=\"/lv/real-estate/flats/riga/grizinkalns/hand_over/\">Grīziņkalns</option>,\n",
       " <option value=\"/lv/real-estate/flats/riga/ilguciems/hand_over/\">Iļģuciems</option>,\n",
       " <option value=\"/lv/real-estate/flats/riga/imanta/hand_over/\">Imanta</option>,\n",
       " <option value=\"/lv/real-estate/flats/riga/yugla/hand_over/\">Jugla</option>,\n",
       " <option value=\"/lv/real-estate/flats/riga/katlakalns/hand_over/\">Katlakalns</option>,\n",
       " <option value=\"/lv/real-estate/flats/riga/kengarags/hand_over/\">Ķengarags</option>,\n",
       " <option value=\"/lv/real-estate/flats/riga/kipsala/hand_over/\">Ķīpsala</option>,\n",
       " <option value=\"/lv/real-estate/flats/riga/kliversala/hand_over/\">Klīversala</option>,\n",
       " <option value=\"/lv/real-estate/flats/riga/krasta-st-area/hand_over/\">Krasta r-ns</option>,\n",
       " <option value=\"/lv/real-estate/flats/riga/mangali/hand_over/\">Mangaļi</option>,\n",
       " <option value=\"/lv/real-estate/flats/riga/maskavas-priekshpilseta/hand_over/\">Maskavas priekšpilsēta</option>,\n",
       " <option value=\"/lv/real-estate/flats/riga/mezhapark/hand_over/\">Mežaparks</option>,\n",
       " <option value=\"/lv/real-estate/flats/riga/mezhciems/hand_over/\">Mežciems</option>,\n",
       " <option value=\"/lv/real-estate/flats/riga/plyavnieki/hand_over/\">Pļavnieki</option>,\n",
       " <option value=\"/lv/real-estate/flats/riga/purvciems/hand_over/\">Purvciems</option>,\n",
       " <option value=\"/lv/real-estate/flats/riga/shampeteris-pleskodale/hand_over/\">Šampēteris-Pleskodāle</option>,\n",
       " <option value=\"/lv/real-estate/flats/riga/sarkandaugava/hand_over/\">Sarkandaugava</option>,\n",
       " <option value=\"/lv/real-estate/flats/riga/shkirotava/hand_over/\">Šķirotava</option>,\n",
       " <option value=\"/lv/real-estate/flats/riga/teika/hand_over/\">Teika</option>,\n",
       " <option value=\"/lv/real-estate/flats/riga/tornjakalns/hand_over/\">Torņakalns</option>,\n",
       " <option value=\"/lv/real-estate/flats/riga/vecaki/hand_over/\">Vecāķi</option>,\n",
       " <option value=\"/lv/real-estate/flats/riga/vecdaugava/hand_over/\">Vecdaugava</option>,\n",
       " <option value=\"/lv/real-estate/flats/riga/vecmilgravis/hand_over/\">Vecmīlgrāvis</option>,\n",
       " <option value=\"/lv/real-estate/flats/riga/vecriga/hand_over/\">Vecrīga</option>,\n",
       " <option value=\"/lv/real-estate/flats/riga/zakusala/hand_over/\">Zaķusala</option>,\n",
       " <option value=\"/lv/real-estate/flats/riga/zasulauks/hand_over/\">Zasulauks</option>,\n",
       " <option value=\"/lv/real-estate/flats/riga/ziepniekkalns/hand_over/\">Ziepniekkalns</option>,\n",
       " <option value=\"/lv/real-estate/flats/riga/zolitude/hand_over/\">Zolitūde</option>,\n",
       " <option value=\"/lv/real-estate/flats/riga/vef/hand_over/\">VEF</option>,\n",
       " <option value=\"/lv/real-estate/flats/riga/other/hand_over/\">Cits</option>,\n",
       " <option value=\"\"></option>,\n",
       " <option value=\"3711\">13. janvāra</option>,\n",
       " <option value=\"3721\">Ādmiņu</option>,\n",
       " <option value=\"3744\">Akas</option>,\n",
       " <option value=\"3751\">Alberta</option>,\n",
       " <option value=\"3753\">Aldaru</option>,\n",
       " <option value=\"3793\">Antonijas</option>,\n",
       " <option value=\"3818\">Artilērijas</option>,\n",
       " <option value=\"3836\">Audēju</option>,\n",
       " <option value=\"3852\">Ausekļa</option>,\n",
       " <option value=\"3859\">Avotu</option>,\n",
       " <option value=\"4538\">Barona</option>,\n",
       " <option value=\"3898\">Baznīcas</option>,\n",
       " <option value=\"4193\">Birznieka-Upīša</option>,\n",
       " <option value=\"3933\">Blaumaņa</option>,\n",
       " <option value=\"3944\">Brīvības bulvāris</option>,\n",
       " <option value=\"113085\">Brīvības iela</option>,\n",
       " <option value=\"3958\">Bruņinieku</option>,\n",
       " <option value=\"3756\">Čaka</option>,\n",
       " <option value=\"3987\">Cēsu</option>,\n",
       " <option value=\"4020\">Dainas</option>,\n",
       " <option value=\"3846\">Deglava</option>,\n",
       " <option value=\"4135\">Duntes</option>,\n",
       " <option value=\"4161\">Dzirnavu</option>,\n",
       " <option value=\"4175\">Eksporta</option>,\n",
       " <option value=\"4178\">Elijas</option>,\n",
       " <option value=\"4179\">Elizabetes</option>,\n",
       " <option value=\"4181\">Elku</option>,\n",
       " <option value=\"4199\">Ēveles</option>,\n",
       " <option value=\"4225\">Ganību d.</option>,\n",
       " <option value=\"4230\">Ganu</option>,\n",
       " <option value=\"4281\">Ģertrūdes</option>,\n",
       " <option value=\"4249\">Gogoļa</option>,\n",
       " <option value=\"4259\">Grēcinieku</option>,\n",
       " <option value=\"4271\">Grostonas</option>,\n",
       " <option value=\"4290\">Hanzas</option>,\n",
       " <option value=\"4297\">Hospitāļu</option>,\n",
       " <option value=\"4304\">Ieroču</option>,\n",
       " <option value=\"4333\">Indrānu</option>,\n",
       " <option value=\"113143\">J. Daliņa</option>,\n",
       " <option value=\"4357\">Jāņa</option>,\n",
       " <option value=\"4394\">Jēkaba</option>,\n",
       " <option value=\"4402\">Jeruzalemes</option>,\n",
       " <option value=\"4403\">Jēzusbaznīcas</option>,\n",
       " <option value=\"3762\">Kalniņa</option>,\n",
       " <option value=\"4439\">Kalpaka bulv.</option>,\n",
       " <option value=\"4480\">Katrīnas d.</option>,\n",
       " <option value=\"4485\">Kazarmu</option>,\n",
       " <option value=\"4498\">Klijānu</option>,\n",
       " <option value=\"4503\">Klusā</option>,\n",
       " <option value=\"4598\">Kurbada</option>,\n",
       " <option value=\"4636\">Lāčplēša</option>,\n",
       " <option value=\"106027\">Lenču</option>,\n",
       " <option value=\"4744\">Lugažu</option>,\n",
       " <option value=\"4825\">M. Krasta</option>,\n",
       " <option value=\"4755\">Maiznīcas</option>,\n",
       " <option value=\"4767\">Mālpils</option>,\n",
       " <option value=\"4781\">Marijas</option>,\n",
       " <option value=\"4799\">Maskavas</option>,\n",
       " <option value=\"4802\">Matīsa</option>,\n",
       " <option value=\"4867\">Mēness</option>,\n",
       " <option value=\"4869\">Merķeļa</option>,\n",
       " <option value=\"4887\">Miera</option>,\n",
       " <option value=\"4888\">Miesnieku</option>,\n",
       " <option value=\"4891\">Miķeļa</option>,\n",
       " <option value=\"4962\">Palasta</option>,\n",
       " <option value=\"4994\">Pērnavas</option>,\n",
       " <option value=\"4997\">Pētersalas</option>,\n",
       " <option value=\"5054\">Pulkv. Brieža</option>,\n",
       " <option value=\"3781\">Pumpura</option>,\n",
       " <option value=\"5057\">Pūpolu</option>,\n",
       " <option value=\"5065\">Puškina</option>,\n",
       " <option value=\"5071\">Raiņa bulv.</option>,\n",
       " <option value=\"5095\">Republikas laukums</option>,\n",
       " <option value=\"5101\">Riepnieku</option>,\n",
       " <option value=\"5137\">Rūpniecības</option>,\n",
       " <option value=\"4210\">Sadovņikova</option>,\n",
       " <option value=\"5334\">Šarlotes</option>,\n",
       " <option value=\"5190\">Sermuliņu</option>,\n",
       " <option value=\"5212\">Skanstes</option>,\n",
       " <option value=\"5219\">Skolas</option>,\n",
       " <option value=\"5251\">Smilšu</option>,\n",
       " <option value=\"5273\">Stabu</option>,\n",
       " <option value=\"5312\">Strēlnieku</option>,\n",
       " <option value=\"5353\">Tallinas</option>,\n",
       " <option value=\"5363\">Teātra</option>,\n",
       " <option value=\"5371\">Tērbatas</option>,\n",
       " <option value=\"5385\">Tirgoņu</option>,\n",
       " <option value=\"5390\">Tomsona</option>,\n",
       " <option value=\"5410\">Turgeņeva</option>,\n",
       " <option value=\"5445\">Vagonu</option>,\n",
       " <option value=\"4545\">Valdemāra</option>,\n",
       " <option value=\"5458\">Valkas</option>,\n",
       " <option value=\"5516\">Vesetas</option>,\n",
       " <option value=\"5523\">Vēžu</option>,\n",
       " <option value=\"5544\">Vīlandes</option>,\n",
       " <option value=\"5564\">Visvalža</option>,\n",
       " <option value=\"5579\">Zaļā</option>,\n",
       " <option value=\"5589\">Zaubes</option>,\n",
       " <option value=\"5618\">Zirņu</option>,\n",
       " <option value=\"5628\">Zvaigžņu</option>]"
      ]
     },
     "execution_count": 112,
     "metadata": {},
     "output_type": "execute_result"
    }
   ],
   "source": [
    "options = rsoup.find_all('option')\n",
    "options"
   ]
  },
  {
   "cell_type": "code",
   "execution_count": 115,
   "metadata": {},
   "outputs": [
    {
     "data": {
      "text/plain": [
       "1"
      ]
     },
     "execution_count": 115,
     "metadata": {},
     "output_type": "execute_result"
    }
   ],
   "source": [
    "hand_over_options = [el for el in options if 'Izīrē' in el.text]\n",
    "len(hand_over_options)"
   ]
  },
  {
   "cell_type": "code",
   "execution_count": 116,
   "metadata": {},
   "outputs": [
    {
     "data": {
      "text/plain": [
       "[<option selected=\"\" value=\"/lv/real-estate/flats/riga/centre/hand_over/\">Izīrē</option>]"
      ]
     },
     "execution_count": 116,
     "metadata": {},
     "output_type": "execute_result"
    }
   ],
   "source": [
    "# this way we can filter for ads which do not contain for rent (hand_over) option\n",
    "hand_options = [el for el in rsoup.find_all('option') if 'Izīrē' in el.text]\n",
    "hand_options"
   ]
  },
  {
   "cell_type": "code",
   "execution_count": 123,
   "metadata": {},
   "outputs": [
    {
     "data": {
      "text/plain": [
       "<title>SS.COM Dzīvokļi - Rīga - Centrs, Cenas, Izīrē - Sludinājumi</title>"
      ]
     },
     "execution_count": 123,
     "metadata": {},
     "output_type": "execute_result"
    }
   ],
   "source": [
    "rsoup.title"
   ]
  },
  {
   "cell_type": "code",
   "execution_count": 124,
   "metadata": {},
   "outputs": [
    {
     "data": {
      "text/plain": [
       "[<a class=\"navi\" href=\"/lv/real-estate/flats/riga/centre/hand_over/page19.html\" name=\"nav_id\" rel=\"prev\"><img border=\"0\" height=\"5\" src=\"https://i.ss.com/img/s_left.png\" style=\"padding-bottom:2px;\" width=\"9\"/> Iepriekšējie</a>]"
      ]
     },
     "execution_count": 124,
     "metadata": {},
     "output_type": "execute_result"
    }
   ],
   "source": [
    "allanchors = rsoup.find_all('a', {'rel': 'prev'})\n",
    "allanchors"
   ]
  },
  {
   "cell_type": "code",
   "execution_count": 125,
   "metadata": {},
   "outputs": [],
   "source": [
    "prevnav = allanchors[0]"
   ]
  },
  {
   "cell_type": "code",
   "execution_count": 126,
   "metadata": {},
   "outputs": [
    {
     "data": {
      "text/plain": [
       "'/lv/real-estate/flats/riga/centre/hand_over/page19.html'"
      ]
     },
     "execution_count": 126,
     "metadata": {},
     "output_type": "execute_result"
    }
   ],
   "source": [
    "prevnav['href']"
   ]
  },
  {
   "cell_type": "code",
   "execution_count": 127,
   "metadata": {},
   "outputs": [
    {
     "data": {
      "text/plain": [
       "'/lv/real-estate/flats/riga/centre/hand_over/page19.html'"
      ]
     },
     "execution_count": 127,
     "metadata": {},
     "output_type": "execute_result"
    }
   ],
   "source": [
    "lurl = prevnav['href']\n",
    "lurl"
   ]
  },
  {
   "cell_type": "code",
   "execution_count": 136,
   "metadata": {},
   "outputs": [
    {
     "name": "stdout",
     "output_type": "stream",
     "text": [
      "19\n"
     ]
    }
   ],
   "source": [
    "# so we look for at least one digit between page and .html\n",
    "searchresult = re.search(r'page(\\d+)\\.html', lurl)\n",
    "if searchresult:\n",
    "    print(searchresult.group(1))\n",
    "else:\n",
    "    print(\"Didn't find anything\")"
   ]
  },
  {
   "cell_type": "code",
   "execution_count": null,
   "metadata": {},
   "outputs": [],
   "source": []
  },
  {
   "cell_type": "code",
   "execution_count": 128,
   "metadata": {},
   "outputs": [
    {
     "data": {
      "text/plain": [
       "'19'"
      ]
     },
     "execution_count": 128,
     "metadata": {},
     "output_type": "execute_result"
    }
   ],
   "source": [
    "lurl.split('/page')[1].split('.')[0]"
   ]
  },
  {
   "cell_type": "code",
   "execution_count": 148,
   "metadata": {},
   "outputs": [],
   "source": [
    "def getRegionUrls(url, optionName = \"Izīrē\"):\n",
    "    regionurls = []\n",
    "    print(f'Going to check Region Url:{url}')\n",
    "    req = requests.get(url)\n",
    "    if req.status_code != 200:\n",
    "        print(f'Unexpected status code {req.status_code}. Stopping parse')\n",
    "        return [] #return early and often principle\n",
    "    soup = BeautifulSoup(req.text, 'lxml') # could skip soup variable as well but keeping for readability\n",
    "    # first we check if the optionName exists at all\n",
    "    hand_options = [el for el in soup.find_all('option') if optionName in el.text]\n",
    "    if len(hand_options) == 0:\n",
    "        return []\n",
    "    \n",
    "    allanchors = soup.find_all('a', {'rel': 'prev'})\n",
    "    if len(allanchors) == 0:\n",
    "        return [url]\n",
    "    \n",
    "    lasturl = allanchors[0]['href']\n",
    "    searchresult = re.search(r'page(\\d+)\\.html', lasturl)\n",
    "    if searchresult:\n",
    "        lastpageNum = int(searchresult.group(1))\n",
    "    else:\n",
    "        print(\"hmm no last page!!\")\n",
    "        return [url]\n",
    "    # we add first page which is just the default url without page num\n",
    "    # following pages have pagenum.html at the end\n",
    "    regionurls =  [url] + [url + \"page\" + str(num) + \".html\" for num in range(2, lastpageNum+1)]\n",
    "    return regionurls\n",
    "    \n",
    "    \n",
    "    \n",
    "    "
   ]
  },
  {
   "cell_type": "code",
   "execution_count": 146,
   "metadata": {},
   "outputs": [
    {
     "name": "stdout",
     "output_type": "stream",
     "text": [
      "Going to check Region Url:https://www.ss.com/lv/real-estate/flats/riga/centre/hand_over/\n"
     ]
    },
    {
     "data": {
      "text/plain": [
       "['https://www.ss.com/lv/real-estate/flats/riga/centre/hand_over/',\n",
       " 'https://www.ss.com/lv/real-estate/flats/riga/centre/hand_over/page2.html',\n",
       " 'https://www.ss.com/lv/real-estate/flats/riga/centre/hand_over/page3.html',\n",
       " 'https://www.ss.com/lv/real-estate/flats/riga/centre/hand_over/page4.html',\n",
       " 'https://www.ss.com/lv/real-estate/flats/riga/centre/hand_over/page5.html',\n",
       " 'https://www.ss.com/lv/real-estate/flats/riga/centre/hand_over/page6.html',\n",
       " 'https://www.ss.com/lv/real-estate/flats/riga/centre/hand_over/page7.html',\n",
       " 'https://www.ss.com/lv/real-estate/flats/riga/centre/hand_over/page8.html',\n",
       " 'https://www.ss.com/lv/real-estate/flats/riga/centre/hand_over/page9.html',\n",
       " 'https://www.ss.com/lv/real-estate/flats/riga/centre/hand_over/page10.html',\n",
       " 'https://www.ss.com/lv/real-estate/flats/riga/centre/hand_over/page11.html',\n",
       " 'https://www.ss.com/lv/real-estate/flats/riga/centre/hand_over/page12.html',\n",
       " 'https://www.ss.com/lv/real-estate/flats/riga/centre/hand_over/page13.html',\n",
       " 'https://www.ss.com/lv/real-estate/flats/riga/centre/hand_over/page14.html',\n",
       " 'https://www.ss.com/lv/real-estate/flats/riga/centre/hand_over/page15.html',\n",
       " 'https://www.ss.com/lv/real-estate/flats/riga/centre/hand_over/page16.html',\n",
       " 'https://www.ss.com/lv/real-estate/flats/riga/centre/hand_over/page17.html',\n",
       " 'https://www.ss.com/lv/real-estate/flats/riga/centre/hand_over/page18.html',\n",
       " 'https://www.ss.com/lv/real-estate/flats/riga/centre/hand_over/page19.html']"
      ]
     },
     "execution_count": 146,
     "metadata": {},
     "output_type": "execute_result"
    }
   ],
   "source": [
    "centreUrls = getRegionUrls('https://www.ss.com/lv/real-estate/flats/riga/centre/hand_over/')\n",
    "centreUrls"
   ]
  },
  {
   "cell_type": "code",
   "execution_count": 149,
   "metadata": {},
   "outputs": [
    {
     "name": "stdout",
     "output_type": "stream",
     "text": [
      "Going to check Region Url:https://www.ss.com/lv/real-estate/flats/riga/vef/\n"
     ]
    },
    {
     "data": {
      "text/plain": [
       "['https://www.ss.com/lv/real-estate/flats/riga/vef/']"
      ]
     },
     "execution_count": 149,
     "metadata": {},
     "output_type": "execute_result"
    }
   ],
   "source": [
    "t = getRegionUrls('https://www.ss.com/lv/real-estate/flats/riga/vef/')\n",
    "t"
   ]
  },
  {
   "cell_type": "code",
   "execution_count": 155,
   "metadata": {},
   "outputs": [
    {
     "data": {
      "text/plain": [
       "[1, 2, 3]"
      ]
     },
     "execution_count": 155,
     "metadata": {},
     "output_type": "execute_result"
    }
   ],
   "source": [
    "a = [1,2,3]\n",
    "# a.append([])\n",
    "a+= []\n",
    "a"
   ]
  },
  {
   "cell_type": "code",
   "execution_count": 157,
   "metadata": {},
   "outputs": [],
   "source": [
    "def getAllUrls(urlist):\n",
    "    biglist = []\n",
    "    for url in urlist:\n",
    "        biglist += getRegionUrls(url)\n",
    "        time.sleep(0.5)\n",
    "    return biglist"
   ]
  },
  {
   "cell_type": "code",
   "execution_count": 158,
   "metadata": {},
   "outputs": [
    {
     "data": {
      "text/plain": [
       "['https://www.ss.com/lv/real-estate/flats/riga/centre/hand_over/',\n",
       " 'https://www.ss.com/lv/real-estate/flats/riga/agenskalns/hand_over/',\n",
       " 'https://www.ss.com/lv/real-estate/flats/riga/aplokciems/hand_over/']"
      ]
     },
     "execution_count": 158,
     "metadata": {},
     "output_type": "execute_result"
    }
   ],
   "source": [
    "justurls = [el[1] for el in handoverlist]\n",
    "justurls[:3]"
   ]
  },
  {
   "cell_type": "code",
   "execution_count": 159,
   "metadata": {},
   "outputs": [
    {
     "name": "stdout",
     "output_type": "stream",
     "text": [
      "Going to check Region Url:https://www.ss.com/lv/real-estate/flats/riga/centre/hand_over/\n",
      "Going to check Region Url:https://www.ss.com/lv/real-estate/flats/riga/agenskalns/hand_over/\n",
      "Going to check Region Url:https://www.ss.com/lv/real-estate/flats/riga/aplokciems/hand_over/\n",
      "Going to check Region Url:https://www.ss.com/lv/real-estate/flats/riga/beberbeki/hand_over/\n",
      "Going to check Region Url:https://www.ss.com/lv/real-estate/flats/riga/bergi/hand_over/\n",
      "Going to check Region Url:https://www.ss.com/lv/real-estate/flats/riga/bierini/hand_over/\n",
      "Going to check Region Url:https://www.ss.com/lv/real-estate/flats/riga/bolderaya/hand_over/\n",
      "Going to check Region Url:https://www.ss.com/lv/real-estate/flats/riga/breksi/hand_over/\n",
      "Going to check Region Url:https://www.ss.com/lv/real-estate/flats/riga/bukulti/hand_over/\n",
      "Going to check Region Url:https://www.ss.com/lv/real-estate/flats/riga/bulli/hand_over/\n",
      "Going to check Region Url:https://www.ss.com/lv/real-estate/flats/riga/chiekurkalns/hand_over/\n",
      "Going to check Region Url:https://www.ss.com/lv/real-estate/flats/riga/darzciems/hand_over/\n",
      "Going to check Region Url:https://www.ss.com/lv/real-estate/flats/riga/daugavgriva/hand_over/\n",
      "Going to check Region Url:https://www.ss.com/lv/real-estate/flats/riga/dreilini/hand_over/\n",
      "Going to check Region Url:https://www.ss.com/lv/real-estate/flats/riga/dzeguzhkalns/hand_over/\n",
      "Going to check Region Url:https://www.ss.com/lv/real-estate/flats/riga/grizinkalns/hand_over/\n",
      "Going to check Region Url:https://www.ss.com/lv/real-estate/flats/riga/ilguciems/hand_over/\n",
      "Going to check Region Url:https://www.ss.com/lv/real-estate/flats/riga/imanta/hand_over/\n",
      "Going to check Region Url:https://www.ss.com/lv/real-estate/flats/riga/janjavarti/hand_over/\n",
      "Going to check Region Url:https://www.ss.com/lv/real-estate/flats/riga/jaunciems/hand_over/\n",
      "Going to check Region Url:https://www.ss.com/lv/real-estate/flats/riga/yugla/hand_over/\n",
      "Going to check Region Url:https://www.ss.com/lv/real-estate/flats/riga/katlakalns/hand_over/\n",
      "Going to check Region Url:https://www.ss.com/lv/real-estate/flats/riga/kengarags/hand_over/\n",
      "Going to check Region Url:https://www.ss.com/lv/real-estate/flats/riga/kipsala/hand_over/\n",
      "Going to check Region Url:https://www.ss.com/lv/real-estate/flats/riga/kleisti/hand_over/\n",
      "Going to check Region Url:https://www.ss.com/lv/real-estate/flats/riga/kliversala/hand_over/\n",
      "Going to check Region Url:https://www.ss.com/lv/real-estate/flats/riga/krasta-st-area/hand_over/\n",
      "Going to check Region Url:https://www.ss.com/lv/real-estate/flats/riga/kremeri/hand_over/\n",
      "Going to check Region Url:https://www.ss.com/lv/real-estate/flats/riga/mangali/hand_over/\n",
      "Going to check Region Url:https://www.ss.com/lv/real-estate/flats/riga/mangalsala/hand_over/\n",
      "Going to check Region Url:https://www.ss.com/lv/real-estate/flats/riga/maskavas-priekshpilseta/hand_over/\n",
      "Going to check Region Url:https://www.ss.com/lv/real-estate/flats/riga/mezhapark/hand_over/\n",
      "Going to check Region Url:https://www.ss.com/lv/real-estate/flats/riga/mezhciems/hand_over/\n",
      "Going to check Region Url:https://www.ss.com/lv/real-estate/flats/riga/plyavnieki/hand_over/\n",
      "Going to check Region Url:https://www.ss.com/lv/real-estate/flats/riga/purvciems/hand_over/\n",
      "Going to check Region Url:https://www.ss.com/lv/real-estate/flats/riga/shampeteris-pleskodale/hand_over/\n",
      "Going to check Region Url:https://www.ss.com/lv/real-estate/flats/riga/sarkandaugava/hand_over/\n",
      "Going to check Region Url:https://www.ss.com/lv/real-estate/flats/riga/shkirotava/hand_over/\n",
      "Going to check Region Url:https://www.ss.com/lv/real-estate/flats/riga/stacija-tirgus/hand_over/\n",
      "Going to check Region Url:https://www.ss.com/lv/real-estate/flats/riga/teika/hand_over/\n",
      "Going to check Region Url:https://www.ss.com/lv/real-estate/flats/riga/tornjakalns/hand_over/\n",
      "Going to check Region Url:https://www.ss.com/lv/real-estate/flats/riga/vecaki/hand_over/\n",
      "Going to check Region Url:https://www.ss.com/lv/real-estate/flats/riga/vecdaugava/hand_over/\n",
      "Going to check Region Url:https://www.ss.com/lv/real-estate/flats/riga/vecmilgravis/hand_over/\n",
      "Going to check Region Url:https://www.ss.com/lv/real-estate/flats/riga/vecriga/hand_over/\n",
      "Going to check Region Url:https://www.ss.com/lv/real-estate/flats/riga/voleri/hand_over/\n",
      "Going to check Region Url:https://www.ss.com/lv/real-estate/flats/riga/zakusala/hand_over/\n",
      "Going to check Region Url:https://www.ss.com/lv/real-estate/flats/riga/zasulauks/hand_over/\n",
      "Going to check Region Url:https://www.ss.com/lv/real-estate/flats/riga/ziepniekkalns/hand_over/\n",
      "Going to check Region Url:https://www.ss.com/lv/real-estate/flats/riga/zolitude/hand_over/\n",
      "Going to check Region Url:https://www.ss.com/lv/real-estate/flats/riga/vef/hand_over/\n",
      "Going to check Region Url:https://www.ss.com/lv/real-estate/flats/riga/other/hand_over/\n"
     ]
    },
    {
     "data": {
      "text/plain": [
       "70"
      ]
     },
     "execution_count": 159,
     "metadata": {},
     "output_type": "execute_result"
    }
   ],
   "source": [
    "mybiglist = getAllUrls(justurls)\n",
    "len(mybiglist)"
   ]
  },
  {
   "cell_type": "code",
   "execution_count": 160,
   "metadata": {},
   "outputs": [
    {
     "name": "stdout",
     "output_type": "stream",
     "text": [
      "Going to gather data from URL:https://www.ss.com/lv/real-estate/flats/riga/centre/hand_over/\n",
      "Going to gather data from URL:https://www.ss.com/lv/real-estate/flats/riga/centre/hand_over/page2.html\n",
      "Going to gather data from URL:https://www.ss.com/lv/real-estate/flats/riga/centre/hand_over/page3.html\n",
      "Going to gather data from URL:https://www.ss.com/lv/real-estate/flats/riga/centre/hand_over/page4.html\n",
      "Going to gather data from URL:https://www.ss.com/lv/real-estate/flats/riga/centre/hand_over/page5.html\n",
      "Going to gather data from URL:https://www.ss.com/lv/real-estate/flats/riga/centre/hand_over/page6.html\n",
      "Going to gather data from URL:https://www.ss.com/lv/real-estate/flats/riga/centre/hand_over/page7.html\n",
      "Going to gather data from URL:https://www.ss.com/lv/real-estate/flats/riga/centre/hand_over/page8.html\n",
      "Going to gather data from URL:https://www.ss.com/lv/real-estate/flats/riga/centre/hand_over/page9.html\n",
      "Going to gather data from URL:https://www.ss.com/lv/real-estate/flats/riga/centre/hand_over/page10.html\n",
      "Going to gather data from URL:https://www.ss.com/lv/real-estate/flats/riga/centre/hand_over/page11.html\n",
      "Going to gather data from URL:https://www.ss.com/lv/real-estate/flats/riga/centre/hand_over/page12.html\n",
      "Going to gather data from URL:https://www.ss.com/lv/real-estate/flats/riga/centre/hand_over/page13.html\n",
      "Going to gather data from URL:https://www.ss.com/lv/real-estate/flats/riga/centre/hand_over/page14.html\n",
      "Going to gather data from URL:https://www.ss.com/lv/real-estate/flats/riga/centre/hand_over/page15.html\n",
      "Going to gather data from URL:https://www.ss.com/lv/real-estate/flats/riga/centre/hand_over/page16.html\n",
      "Going to gather data from URL:https://www.ss.com/lv/real-estate/flats/riga/centre/hand_over/page17.html\n",
      "Going to gather data from URL:https://www.ss.com/lv/real-estate/flats/riga/centre/hand_over/page18.html\n",
      "Going to gather data from URL:https://www.ss.com/lv/real-estate/flats/riga/centre/hand_over/page19.html\n",
      "Going to gather data from URL:https://www.ss.com/lv/real-estate/flats/riga/agenskalns/hand_over/\n",
      "Going to gather data from URL:https://www.ss.com/lv/real-estate/flats/riga/agenskalns/hand_over/page2.html\n",
      "Going to gather data from URL:https://www.ss.com/lv/real-estate/flats/riga/agenskalns/hand_over/page3.html\n",
      "Going to gather data from URL:https://www.ss.com/lv/real-estate/flats/riga/aplokciems/hand_over/\n",
      "Going to gather data from URL:https://www.ss.com/lv/real-estate/flats/riga/bergi/hand_over/\n",
      "Going to gather data from URL:https://www.ss.com/lv/real-estate/flats/riga/bierini/hand_over/\n",
      "Going to gather data from URL:https://www.ss.com/lv/real-estate/flats/riga/bolderaya/hand_over/\n",
      "Going to gather data from URL:https://www.ss.com/lv/real-estate/flats/riga/chiekurkalns/hand_over/\n",
      "Going to gather data from URL:https://www.ss.com/lv/real-estate/flats/riga/darzciems/hand_over/\n",
      "Going to gather data from URL:https://www.ss.com/lv/real-estate/flats/riga/daugavgriva/hand_over/\n",
      "Going to gather data from URL:https://www.ss.com/lv/real-estate/flats/riga/dreilini/hand_over/\n",
      "Going to gather data from URL:https://www.ss.com/lv/real-estate/flats/riga/dzeguzhkalns/hand_over/\n",
      "Going to gather data from URL:https://www.ss.com/lv/real-estate/flats/riga/grizinkalns/hand_over/\n",
      "Going to gather data from URL:https://www.ss.com/lv/real-estate/flats/riga/ilguciems/hand_over/\n",
      "Going to gather data from URL:https://www.ss.com/lv/real-estate/flats/riga/imanta/hand_over/\n",
      "Going to gather data from URL:https://www.ss.com/lv/real-estate/flats/riga/imanta/hand_over/page2.html\n",
      "Going to gather data from URL:https://www.ss.com/lv/real-estate/flats/riga/jaunciems/hand_over/\n",
      "Going to gather data from URL:https://www.ss.com/lv/real-estate/flats/riga/yugla/hand_over/\n",
      "Going to gather data from URL:https://www.ss.com/lv/real-estate/flats/riga/katlakalns/hand_over/\n",
      "Going to gather data from URL:https://www.ss.com/lv/real-estate/flats/riga/kengarags/hand_over/\n",
      "Going to gather data from URL:https://www.ss.com/lv/real-estate/flats/riga/kipsala/hand_over/\n",
      "Going to gather data from URL:https://www.ss.com/lv/real-estate/flats/riga/kliversala/hand_over/\n",
      "Going to gather data from URL:https://www.ss.com/lv/real-estate/flats/riga/krasta-st-area/hand_over/\n",
      "Going to gather data from URL:https://www.ss.com/lv/real-estate/flats/riga/mangali/hand_over/\n",
      "Going to gather data from URL:https://www.ss.com/lv/real-estate/flats/riga/maskavas-priekshpilseta/hand_over/\n",
      "Going to gather data from URL:https://www.ss.com/lv/real-estate/flats/riga/mezhapark/hand_over/\n",
      "Going to gather data from URL:https://www.ss.com/lv/real-estate/flats/riga/mezhciems/hand_over/\n",
      "Going to gather data from URL:https://www.ss.com/lv/real-estate/flats/riga/plyavnieki/hand_over/\n",
      "Going to gather data from URL:https://www.ss.com/lv/real-estate/flats/riga/plyavnieki/hand_over/page2.html\n",
      "Going to gather data from URL:https://www.ss.com/lv/real-estate/flats/riga/plyavnieki/hand_over/page3.html\n",
      "Going to gather data from URL:https://www.ss.com/lv/real-estate/flats/riga/purvciems/hand_over/\n",
      "Going to gather data from URL:https://www.ss.com/lv/real-estate/flats/riga/purvciems/hand_over/page2.html\n",
      "Going to gather data from URL:https://www.ss.com/lv/real-estate/flats/riga/purvciems/hand_over/page3.html\n",
      "Going to gather data from URL:https://www.ss.com/lv/real-estate/flats/riga/shampeteris-pleskodale/hand_over/\n",
      "Going to gather data from URL:https://www.ss.com/lv/real-estate/flats/riga/sarkandaugava/hand_over/\n",
      "Going to gather data from URL:https://www.ss.com/lv/real-estate/flats/riga/shkirotava/hand_over/\n",
      "Going to gather data from URL:https://www.ss.com/lv/real-estate/flats/riga/stacija-tirgus/hand_over/\n",
      "Going to gather data from URL:https://www.ss.com/lv/real-estate/flats/riga/teika/hand_over/\n",
      "Going to gather data from URL:https://www.ss.com/lv/real-estate/flats/riga/tornjakalns/hand_over/\n",
      "Going to gather data from URL:https://www.ss.com/lv/real-estate/flats/riga/vecaki/hand_over/\n",
      "Going to gather data from URL:https://www.ss.com/lv/real-estate/flats/riga/vecdaugava/hand_over/\n",
      "Going to gather data from URL:https://www.ss.com/lv/real-estate/flats/riga/vecmilgravis/hand_over/\n",
      "Going to gather data from URL:https://www.ss.com/lv/real-estate/flats/riga/vecriga/hand_over/\n",
      "Going to gather data from URL:https://www.ss.com/lv/real-estate/flats/riga/vecriga/hand_over/page2.html\n",
      "Going to gather data from URL:https://www.ss.com/lv/real-estate/flats/riga/vecriga/hand_over/page3.html\n",
      "Going to gather data from URL:https://www.ss.com/lv/real-estate/flats/riga/zakusala/hand_over/\n",
      "Going to gather data from URL:https://www.ss.com/lv/real-estate/flats/riga/zasulauks/hand_over/\n",
      "Going to gather data from URL:https://www.ss.com/lv/real-estate/flats/riga/ziepniekkalns/hand_over/\n",
      "Going to gather data from URL:https://www.ss.com/lv/real-estate/flats/riga/zolitude/hand_over/\n",
      "Going to gather data from URL:https://www.ss.com/lv/real-estate/flats/riga/vef/hand_over/\n",
      "Going to gather data from URL:https://www.ss.com/lv/real-estate/flats/riga/other/hand_over/\n"
     ]
    },
    {
     "data": {
      "text/plain": [
       "(1328, 10)"
      ]
     },
     "execution_count": 160,
     "metadata": {},
     "output_type": "execute_result"
    }
   ],
   "source": [
    "allrigadf = getDFfromUrlList(mybiglist)\n",
    "allrigadf.shape"
   ]
  },
  {
   "cell_type": "code",
   "execution_count": 161,
   "metadata": {},
   "outputs": [
    {
     "data": {
      "text/html": [
       "<div>\n",
       "<style scoped>\n",
       "    .dataframe tbody tr th:only-of-type {\n",
       "        vertical-align: middle;\n",
       "    }\n",
       "\n",
       "    .dataframe tbody tr th {\n",
       "        vertical-align: top;\n",
       "    }\n",
       "\n",
       "    .dataframe thead th {\n",
       "        text-align: right;\n",
       "    }\n",
       "</style>\n",
       "<table border=\"1\" class=\"dataframe\">\n",
       "  <thead>\n",
       "    <tr style=\"text-align: right;\">\n",
       "      <th></th>\n",
       "      <th>Sludinājumi</th>\n",
       "      <th>Iela</th>\n",
       "      <th>Ist.</th>\n",
       "      <th>m2</th>\n",
       "      <th>Stāvs</th>\n",
       "      <th>Sērija</th>\n",
       "      <th>Cena, m2</th>\n",
       "      <th>Cena</th>\n",
       "      <th>URL</th>\n",
       "      <th>Region</th>\n",
       "    </tr>\n",
       "  </thead>\n",
       "  <tbody>\n",
       "    <tr>\n",
       "      <th>0</th>\n",
       "      <td>Сдаётся светлая уютная 2-комнатная квартира в ...</td>\n",
       "      <td>Stabu 15</td>\n",
       "      <td>2</td>\n",
       "      <td>56</td>\n",
       "      <td>4/6</td>\n",
       "      <td>P. kara</td>\n",
       "      <td>7.50 €</td>\n",
       "      <td>420  €/mēn.</td>\n",
       "      <td>https://www.ss.com/msg/lv/real-estate/flats/ri...</td>\n",
       "      <td>centre</td>\n",
       "    </tr>\n",
       "    <tr>\n",
       "      <th>1</th>\n",
       "      <td>Saimniece ilgtermiņā izīrē 92 m2 lielu dzīvokl...</td>\n",
       "      <td>Dzirnavu 3</td>\n",
       "      <td>2</td>\n",
       "      <td>92</td>\n",
       "      <td>3/5</td>\n",
       "      <td>Specpr.</td>\n",
       "      <td>4.89 €</td>\n",
       "      <td>450  €/mēn.</td>\n",
       "      <td>https://www.ss.com/msg/lv/real-estate/flats/ri...</td>\n",
       "      <td>centre</td>\n",
       "    </tr>\n",
       "    <tr>\n",
       "      <th>2</th>\n",
       "      <td>Vienistabas dzīvoklis Avotu ielā koka mājā 23 ...</td>\n",
       "      <td>Avotu 65</td>\n",
       "      <td>1</td>\n",
       "      <td>23</td>\n",
       "      <td>1/2</td>\n",
       "      <td>P. kara</td>\n",
       "      <td>8.70 €</td>\n",
       "      <td>200  €/mēn.</td>\n",
       "      <td>https://www.ss.com/msg/lv/real-estate/flats/ri...</td>\n",
       "      <td>centre</td>\n",
       "    </tr>\n",
       "    <tr>\n",
       "      <th>3</th>\n",
       "      <td>Bez komisijas maksas. Izīrē studijas tipa dzīv...</td>\n",
       "      <td>Valdemāra 71</td>\n",
       "      <td>5</td>\n",
       "      <td>110</td>\n",
       "      <td>6/6</td>\n",
       "      <td>P. kara</td>\n",
       "      <td>7.18 €</td>\n",
       "      <td>790  €/mēn.</td>\n",
       "      <td>https://www.ss.com/msg/lv/real-estate/flats/ri...</td>\n",
       "      <td>centre</td>\n",
       "    </tr>\n",
       "    <tr>\n",
       "      <th>4</th>\n",
       "      <td>Īstermiņā no 2st. tiek izīrēts saulains, mājīg...</td>\n",
       "      <td>Matīsa 100</td>\n",
       "      <td>1</td>\n",
       "      <td>30</td>\n",
       "      <td>4/5</td>\n",
       "      <td>Renov.</td>\n",
       "      <td>0.833 €</td>\n",
       "      <td>25  €/dienā</td>\n",
       "      <td>https://www.ss.com/msg/lv/real-estate/flats/ri...</td>\n",
       "      <td>centre</td>\n",
       "    </tr>\n",
       "  </tbody>\n",
       "</table>\n",
       "</div>"
      ],
      "text/plain": [
       "                                         Sludinājumi          Iela Ist.   m2  \\\n",
       "0  Сдаётся светлая уютная 2-комнатная квартира в ...      Stabu 15    2   56   \n",
       "1  Saimniece ilgtermiņā izīrē 92 m2 lielu dzīvokl...    Dzirnavu 3    2   92   \n",
       "2  Vienistabas dzīvoklis Avotu ielā koka mājā 23 ...      Avotu 65    1   23   \n",
       "3  Bez komisijas maksas. Izīrē studijas tipa dzīv...  Valdemāra 71    5  110   \n",
       "4  Īstermiņā no 2st. tiek izīrēts saulains, mājīg...    Matīsa 100    1   30   \n",
       "\n",
       "  Stāvs   Sērija Cena, m2         Cena  \\\n",
       "0   4/6  P. kara   7.50 €  420  €/mēn.   \n",
       "1   3/5  Specpr.   4.89 €  450  €/mēn.   \n",
       "2   1/2  P. kara   8.70 €  200  €/mēn.   \n",
       "3   6/6  P. kara   7.18 €  790  €/mēn.   \n",
       "4   4/5   Renov.  0.833 €  25  €/dienā   \n",
       "\n",
       "                                                 URL  Region  \n",
       "0  https://www.ss.com/msg/lv/real-estate/flats/ri...  centre  \n",
       "1  https://www.ss.com/msg/lv/real-estate/flats/ri...  centre  \n",
       "2  https://www.ss.com/msg/lv/real-estate/flats/ri...  centre  \n",
       "3  https://www.ss.com/msg/lv/real-estate/flats/ri...  centre  \n",
       "4  https://www.ss.com/msg/lv/real-estate/flats/ri...  centre  "
      ]
     },
     "execution_count": 161,
     "metadata": {},
     "output_type": "execute_result"
    }
   ],
   "source": [
    "allrigadf.head()\n"
   ]
  },
  {
   "cell_type": "code",
   "execution_count": 162,
   "metadata": {},
   "outputs": [],
   "source": [
    "allrigadf.to_excel(\"Riga_26sep.xlsx\")"
   ]
  },
  {
   "cell_type": "code",
   "execution_count": 163,
   "metadata": {},
   "outputs": [
    {
     "data": {
      "text/html": [
       "<div>\n",
       "<style scoped>\n",
       "    .dataframe tbody tr th:only-of-type {\n",
       "        vertical-align: middle;\n",
       "    }\n",
       "\n",
       "    .dataframe tbody tr th {\n",
       "        vertical-align: top;\n",
       "    }\n",
       "\n",
       "    .dataframe thead th {\n",
       "        text-align: right;\n",
       "    }\n",
       "</style>\n",
       "<table border=\"1\" class=\"dataframe\">\n",
       "  <thead>\n",
       "    <tr style=\"text-align: right;\">\n",
       "      <th></th>\n",
       "      <th>Sludinājumi</th>\n",
       "      <th>Iela</th>\n",
       "      <th>Ist.</th>\n",
       "      <th>m2</th>\n",
       "      <th>Stāvs</th>\n",
       "      <th>Sērija</th>\n",
       "      <th>Cena, m2</th>\n",
       "      <th>Cena</th>\n",
       "      <th>URL</th>\n",
       "    </tr>\n",
       "    <tr>\n",
       "      <th>Region</th>\n",
       "      <th></th>\n",
       "      <th></th>\n",
       "      <th></th>\n",
       "      <th></th>\n",
       "      <th></th>\n",
       "      <th></th>\n",
       "      <th></th>\n",
       "      <th></th>\n",
       "      <th></th>\n",
       "    </tr>\n",
       "  </thead>\n",
       "  <tbody>\n",
       "    <tr>\n",
       "      <th>agenskalns</th>\n",
       "      <td>67</td>\n",
       "      <td>67</td>\n",
       "      <td>67</td>\n",
       "      <td>67</td>\n",
       "      <td>67</td>\n",
       "      <td>67</td>\n",
       "      <td>67</td>\n",
       "      <td>67</td>\n",
       "      <td>67</td>\n",
       "    </tr>\n",
       "    <tr>\n",
       "      <th>aplokciems</th>\n",
       "      <td>2</td>\n",
       "      <td>2</td>\n",
       "      <td>2</td>\n",
       "      <td>2</td>\n",
       "      <td>2</td>\n",
       "      <td>2</td>\n",
       "      <td>2</td>\n",
       "      <td>2</td>\n",
       "      <td>2</td>\n",
       "    </tr>\n",
       "    <tr>\n",
       "      <th>bierini</th>\n",
       "      <td>5</td>\n",
       "      <td>5</td>\n",
       "      <td>5</td>\n",
       "      <td>5</td>\n",
       "      <td>5</td>\n",
       "      <td>5</td>\n",
       "      <td>5</td>\n",
       "      <td>5</td>\n",
       "      <td>5</td>\n",
       "    </tr>\n",
       "    <tr>\n",
       "      <th>bolderaya</th>\n",
       "      <td>6</td>\n",
       "      <td>6</td>\n",
       "      <td>6</td>\n",
       "      <td>6</td>\n",
       "      <td>6</td>\n",
       "      <td>6</td>\n",
       "      <td>6</td>\n",
       "      <td>6</td>\n",
       "      <td>6</td>\n",
       "    </tr>\n",
       "    <tr>\n",
       "      <th>centre</th>\n",
       "      <td>558</td>\n",
       "      <td>558</td>\n",
       "      <td>558</td>\n",
       "      <td>558</td>\n",
       "      <td>558</td>\n",
       "      <td>558</td>\n",
       "      <td>558</td>\n",
       "      <td>558</td>\n",
       "      <td>558</td>\n",
       "    </tr>\n",
       "    <tr>\n",
       "      <th>chiekurkalns</th>\n",
       "      <td>17</td>\n",
       "      <td>17</td>\n",
       "      <td>17</td>\n",
       "      <td>17</td>\n",
       "      <td>17</td>\n",
       "      <td>17</td>\n",
       "      <td>17</td>\n",
       "      <td>17</td>\n",
       "      <td>17</td>\n",
       "    </tr>\n",
       "    <tr>\n",
       "      <th>darzciems</th>\n",
       "      <td>6</td>\n",
       "      <td>6</td>\n",
       "      <td>6</td>\n",
       "      <td>6</td>\n",
       "      <td>6</td>\n",
       "      <td>6</td>\n",
       "      <td>6</td>\n",
       "      <td>6</td>\n",
       "      <td>6</td>\n",
       "    </tr>\n",
       "    <tr>\n",
       "      <th>daugavgriva</th>\n",
       "      <td>4</td>\n",
       "      <td>4</td>\n",
       "      <td>4</td>\n",
       "      <td>4</td>\n",
       "      <td>4</td>\n",
       "      <td>4</td>\n",
       "      <td>4</td>\n",
       "      <td>4</td>\n",
       "      <td>4</td>\n",
       "    </tr>\n",
       "    <tr>\n",
       "      <th>dzeguzhkalns</th>\n",
       "      <td>11</td>\n",
       "      <td>11</td>\n",
       "      <td>11</td>\n",
       "      <td>11</td>\n",
       "      <td>11</td>\n",
       "      <td>11</td>\n",
       "      <td>11</td>\n",
       "      <td>11</td>\n",
       "      <td>11</td>\n",
       "    </tr>\n",
       "    <tr>\n",
       "      <th>grizinkalns</th>\n",
       "      <td>12</td>\n",
       "      <td>12</td>\n",
       "      <td>12</td>\n",
       "      <td>12</td>\n",
       "      <td>12</td>\n",
       "      <td>12</td>\n",
       "      <td>12</td>\n",
       "      <td>12</td>\n",
       "      <td>12</td>\n",
       "    </tr>\n",
       "    <tr>\n",
       "      <th>ilguciems</th>\n",
       "      <td>21</td>\n",
       "      <td>21</td>\n",
       "      <td>21</td>\n",
       "      <td>21</td>\n",
       "      <td>21</td>\n",
       "      <td>21</td>\n",
       "      <td>21</td>\n",
       "      <td>21</td>\n",
       "      <td>21</td>\n",
       "    </tr>\n",
       "    <tr>\n",
       "      <th>imanta</th>\n",
       "      <td>46</td>\n",
       "      <td>46</td>\n",
       "      <td>46</td>\n",
       "      <td>46</td>\n",
       "      <td>46</td>\n",
       "      <td>46</td>\n",
       "      <td>46</td>\n",
       "      <td>46</td>\n",
       "      <td>46</td>\n",
       "    </tr>\n",
       "    <tr>\n",
       "      <th>katlakalns</th>\n",
       "      <td>1</td>\n",
       "      <td>1</td>\n",
       "      <td>1</td>\n",
       "      <td>1</td>\n",
       "      <td>1</td>\n",
       "      <td>1</td>\n",
       "      <td>1</td>\n",
       "      <td>1</td>\n",
       "      <td>1</td>\n",
       "    </tr>\n",
       "    <tr>\n",
       "      <th>kengarags</th>\n",
       "      <td>43</td>\n",
       "      <td>43</td>\n",
       "      <td>43</td>\n",
       "      <td>43</td>\n",
       "      <td>43</td>\n",
       "      <td>43</td>\n",
       "      <td>43</td>\n",
       "      <td>43</td>\n",
       "      <td>43</td>\n",
       "    </tr>\n",
       "    <tr>\n",
       "      <th>kipsala</th>\n",
       "      <td>9</td>\n",
       "      <td>9</td>\n",
       "      <td>9</td>\n",
       "      <td>9</td>\n",
       "      <td>9</td>\n",
       "      <td>9</td>\n",
       "      <td>9</td>\n",
       "      <td>9</td>\n",
       "      <td>9</td>\n",
       "    </tr>\n",
       "    <tr>\n",
       "      <th>kliversala</th>\n",
       "      <td>3</td>\n",
       "      <td>3</td>\n",
       "      <td>3</td>\n",
       "      <td>3</td>\n",
       "      <td>3</td>\n",
       "      <td>3</td>\n",
       "      <td>3</td>\n",
       "      <td>3</td>\n",
       "      <td>3</td>\n",
       "    </tr>\n",
       "    <tr>\n",
       "      <th>krasta-st-area</th>\n",
       "      <td>15</td>\n",
       "      <td>15</td>\n",
       "      <td>15</td>\n",
       "      <td>15</td>\n",
       "      <td>15</td>\n",
       "      <td>15</td>\n",
       "      <td>15</td>\n",
       "      <td>15</td>\n",
       "      <td>15</td>\n",
       "    </tr>\n",
       "    <tr>\n",
       "      <th>mangali</th>\n",
       "      <td>6</td>\n",
       "      <td>6</td>\n",
       "      <td>6</td>\n",
       "      <td>6</td>\n",
       "      <td>6</td>\n",
       "      <td>6</td>\n",
       "      <td>6</td>\n",
       "      <td>6</td>\n",
       "      <td>6</td>\n",
       "    </tr>\n",
       "    <tr>\n",
       "      <th>maskavas-priekshpilseta</th>\n",
       "      <td>24</td>\n",
       "      <td>24</td>\n",
       "      <td>24</td>\n",
       "      <td>24</td>\n",
       "      <td>24</td>\n",
       "      <td>24</td>\n",
       "      <td>24</td>\n",
       "      <td>24</td>\n",
       "      <td>24</td>\n",
       "    </tr>\n",
       "    <tr>\n",
       "      <th>mezhapark</th>\n",
       "      <td>23</td>\n",
       "      <td>23</td>\n",
       "      <td>23</td>\n",
       "      <td>23</td>\n",
       "      <td>23</td>\n",
       "      <td>23</td>\n",
       "      <td>23</td>\n",
       "      <td>23</td>\n",
       "      <td>23</td>\n",
       "    </tr>\n",
       "    <tr>\n",
       "      <th>mezhciems</th>\n",
       "      <td>18</td>\n",
       "      <td>18</td>\n",
       "      <td>18</td>\n",
       "      <td>18</td>\n",
       "      <td>18</td>\n",
       "      <td>18</td>\n",
       "      <td>18</td>\n",
       "      <td>18</td>\n",
       "      <td>18</td>\n",
       "    </tr>\n",
       "    <tr>\n",
       "      <th>other</th>\n",
       "      <td>2</td>\n",
       "      <td>2</td>\n",
       "      <td>2</td>\n",
       "      <td>2</td>\n",
       "      <td>2</td>\n",
       "      <td>2</td>\n",
       "      <td>2</td>\n",
       "      <td>2</td>\n",
       "      <td>2</td>\n",
       "    </tr>\n",
       "    <tr>\n",
       "      <th>plyavnieki</th>\n",
       "      <td>68</td>\n",
       "      <td>68</td>\n",
       "      <td>68</td>\n",
       "      <td>68</td>\n",
       "      <td>68</td>\n",
       "      <td>68</td>\n",
       "      <td>68</td>\n",
       "      <td>68</td>\n",
       "      <td>68</td>\n",
       "    </tr>\n",
       "    <tr>\n",
       "      <th>purvciems</th>\n",
       "      <td>82</td>\n",
       "      <td>82</td>\n",
       "      <td>82</td>\n",
       "      <td>82</td>\n",
       "      <td>82</td>\n",
       "      <td>82</td>\n",
       "      <td>82</td>\n",
       "      <td>82</td>\n",
       "      <td>82</td>\n",
       "    </tr>\n",
       "    <tr>\n",
       "      <th>sarkandaugava</th>\n",
       "      <td>19</td>\n",
       "      <td>19</td>\n",
       "      <td>19</td>\n",
       "      <td>19</td>\n",
       "      <td>19</td>\n",
       "      <td>19</td>\n",
       "      <td>19</td>\n",
       "      <td>19</td>\n",
       "      <td>19</td>\n",
       "    </tr>\n",
       "    <tr>\n",
       "      <th>shampeteris-pleskodale</th>\n",
       "      <td>31</td>\n",
       "      <td>31</td>\n",
       "      <td>31</td>\n",
       "      <td>31</td>\n",
       "      <td>31</td>\n",
       "      <td>31</td>\n",
       "      <td>31</td>\n",
       "      <td>31</td>\n",
       "      <td>31</td>\n",
       "    </tr>\n",
       "    <tr>\n",
       "      <th>shkirotava</th>\n",
       "      <td>2</td>\n",
       "      <td>2</td>\n",
       "      <td>2</td>\n",
       "      <td>2</td>\n",
       "      <td>2</td>\n",
       "      <td>2</td>\n",
       "      <td>2</td>\n",
       "      <td>2</td>\n",
       "      <td>2</td>\n",
       "    </tr>\n",
       "    <tr>\n",
       "      <th>teika</th>\n",
       "      <td>35</td>\n",
       "      <td>35</td>\n",
       "      <td>35</td>\n",
       "      <td>35</td>\n",
       "      <td>35</td>\n",
       "      <td>35</td>\n",
       "      <td>35</td>\n",
       "      <td>35</td>\n",
       "      <td>35</td>\n",
       "    </tr>\n",
       "    <tr>\n",
       "      <th>tornjakalns</th>\n",
       "      <td>9</td>\n",
       "      <td>9</td>\n",
       "      <td>9</td>\n",
       "      <td>9</td>\n",
       "      <td>9</td>\n",
       "      <td>9</td>\n",
       "      <td>9</td>\n",
       "      <td>9</td>\n",
       "      <td>9</td>\n",
       "    </tr>\n",
       "    <tr>\n",
       "      <th>vecaki</th>\n",
       "      <td>2</td>\n",
       "      <td>2</td>\n",
       "      <td>2</td>\n",
       "      <td>2</td>\n",
       "      <td>2</td>\n",
       "      <td>2</td>\n",
       "      <td>2</td>\n",
       "      <td>2</td>\n",
       "      <td>2</td>\n",
       "    </tr>\n",
       "    <tr>\n",
       "      <th>vecdaugava</th>\n",
       "      <td>2</td>\n",
       "      <td>2</td>\n",
       "      <td>2</td>\n",
       "      <td>2</td>\n",
       "      <td>2</td>\n",
       "      <td>2</td>\n",
       "      <td>2</td>\n",
       "      <td>2</td>\n",
       "      <td>2</td>\n",
       "    </tr>\n",
       "    <tr>\n",
       "      <th>vecmilgravis</th>\n",
       "      <td>29</td>\n",
       "      <td>29</td>\n",
       "      <td>29</td>\n",
       "      <td>29</td>\n",
       "      <td>29</td>\n",
       "      <td>29</td>\n",
       "      <td>29</td>\n",
       "      <td>29</td>\n",
       "      <td>29</td>\n",
       "    </tr>\n",
       "    <tr>\n",
       "      <th>vecriga</th>\n",
       "      <td>63</td>\n",
       "      <td>63</td>\n",
       "      <td>63</td>\n",
       "      <td>63</td>\n",
       "      <td>63</td>\n",
       "      <td>63</td>\n",
       "      <td>63</td>\n",
       "      <td>63</td>\n",
       "      <td>63</td>\n",
       "    </tr>\n",
       "    <tr>\n",
       "      <th>vef</th>\n",
       "      <td>1</td>\n",
       "      <td>1</td>\n",
       "      <td>1</td>\n",
       "      <td>1</td>\n",
       "      <td>1</td>\n",
       "      <td>1</td>\n",
       "      <td>1</td>\n",
       "      <td>1</td>\n",
       "      <td>1</td>\n",
       "    </tr>\n",
       "    <tr>\n",
       "      <th>yugla</th>\n",
       "      <td>20</td>\n",
       "      <td>20</td>\n",
       "      <td>20</td>\n",
       "      <td>20</td>\n",
       "      <td>20</td>\n",
       "      <td>20</td>\n",
       "      <td>20</td>\n",
       "      <td>20</td>\n",
       "      <td>20</td>\n",
       "    </tr>\n",
       "    <tr>\n",
       "      <th>zakusala</th>\n",
       "      <td>1</td>\n",
       "      <td>1</td>\n",
       "      <td>1</td>\n",
       "      <td>1</td>\n",
       "      <td>1</td>\n",
       "      <td>1</td>\n",
       "      <td>1</td>\n",
       "      <td>1</td>\n",
       "      <td>1</td>\n",
       "    </tr>\n",
       "    <tr>\n",
       "      <th>zasulauks</th>\n",
       "      <td>3</td>\n",
       "      <td>3</td>\n",
       "      <td>3</td>\n",
       "      <td>3</td>\n",
       "      <td>3</td>\n",
       "      <td>3</td>\n",
       "      <td>3</td>\n",
       "      <td>3</td>\n",
       "      <td>3</td>\n",
       "    </tr>\n",
       "    <tr>\n",
       "      <th>ziepniekkalns</th>\n",
       "      <td>32</td>\n",
       "      <td>32</td>\n",
       "      <td>32</td>\n",
       "      <td>32</td>\n",
       "      <td>32</td>\n",
       "      <td>32</td>\n",
       "      <td>32</td>\n",
       "      <td>32</td>\n",
       "      <td>32</td>\n",
       "    </tr>\n",
       "    <tr>\n",
       "      <th>zolitude</th>\n",
       "      <td>30</td>\n",
       "      <td>30</td>\n",
       "      <td>30</td>\n",
       "      <td>30</td>\n",
       "      <td>30</td>\n",
       "      <td>30</td>\n",
       "      <td>30</td>\n",
       "      <td>30</td>\n",
       "      <td>30</td>\n",
       "    </tr>\n",
       "  </tbody>\n",
       "</table>\n",
       "</div>"
      ],
      "text/plain": [
       "                         Sludinājumi  Iela  Ist.   m2  Stāvs  Sērija  \\\n",
       "Region                                                                 \n",
       "agenskalns                        67    67    67   67     67      67   \n",
       "aplokciems                         2     2     2    2      2       2   \n",
       "bierini                            5     5     5    5      5       5   \n",
       "bolderaya                          6     6     6    6      6       6   \n",
       "centre                           558   558   558  558    558     558   \n",
       "chiekurkalns                      17    17    17   17     17      17   \n",
       "darzciems                          6     6     6    6      6       6   \n",
       "daugavgriva                        4     4     4    4      4       4   \n",
       "dzeguzhkalns                      11    11    11   11     11      11   \n",
       "grizinkalns                       12    12    12   12     12      12   \n",
       "ilguciems                         21    21    21   21     21      21   \n",
       "imanta                            46    46    46   46     46      46   \n",
       "katlakalns                         1     1     1    1      1       1   \n",
       "kengarags                         43    43    43   43     43      43   \n",
       "kipsala                            9     9     9    9      9       9   \n",
       "kliversala                         3     3     3    3      3       3   \n",
       "krasta-st-area                    15    15    15   15     15      15   \n",
       "mangali                            6     6     6    6      6       6   \n",
       "maskavas-priekshpilseta           24    24    24   24     24      24   \n",
       "mezhapark                         23    23    23   23     23      23   \n",
       "mezhciems                         18    18    18   18     18      18   \n",
       "other                              2     2     2    2      2       2   \n",
       "plyavnieki                        68    68    68   68     68      68   \n",
       "purvciems                         82    82    82   82     82      82   \n",
       "sarkandaugava                     19    19    19   19     19      19   \n",
       "shampeteris-pleskodale            31    31    31   31     31      31   \n",
       "shkirotava                         2     2     2    2      2       2   \n",
       "teika                             35    35    35   35     35      35   \n",
       "tornjakalns                        9     9     9    9      9       9   \n",
       "vecaki                             2     2     2    2      2       2   \n",
       "vecdaugava                         2     2     2    2      2       2   \n",
       "vecmilgravis                      29    29    29   29     29      29   \n",
       "vecriga                           63    63    63   63     63      63   \n",
       "vef                                1     1     1    1      1       1   \n",
       "yugla                             20    20    20   20     20      20   \n",
       "zakusala                           1     1     1    1      1       1   \n",
       "zasulauks                          3     3     3    3      3       3   \n",
       "ziepniekkalns                     32    32    32   32     32      32   \n",
       "zolitude                          30    30    30   30     30      30   \n",
       "\n",
       "                         Cena, m2  Cena  URL  \n",
       "Region                                        \n",
       "agenskalns                     67    67   67  \n",
       "aplokciems                      2     2    2  \n",
       "bierini                         5     5    5  \n",
       "bolderaya                       6     6    6  \n",
       "centre                        558   558  558  \n",
       "chiekurkalns                   17    17   17  \n",
       "darzciems                       6     6    6  \n",
       "daugavgriva                     4     4    4  \n",
       "dzeguzhkalns                   11    11   11  \n",
       "grizinkalns                    12    12   12  \n",
       "ilguciems                      21    21   21  \n",
       "imanta                         46    46   46  \n",
       "katlakalns                      1     1    1  \n",
       "kengarags                      43    43   43  \n",
       "kipsala                         9     9    9  \n",
       "kliversala                      3     3    3  \n",
       "krasta-st-area                 15    15   15  \n",
       "mangali                         6     6    6  \n",
       "maskavas-priekshpilseta        24    24   24  \n",
       "mezhapark                      23    23   23  \n",
       "mezhciems                      18    18   18  \n",
       "other                           2     2    2  \n",
       "plyavnieki                     68    68   68  \n",
       "purvciems                      82    82   82  \n",
       "sarkandaugava                  19    19   19  \n",
       "shampeteris-pleskodale         31    31   31  \n",
       "shkirotava                      2     2    2  \n",
       "teika                          35    35   35  \n",
       "tornjakalns                     9     9    9  \n",
       "vecaki                          2     2    2  \n",
       "vecdaugava                      2     2    2  \n",
       "vecmilgravis                   29    29   29  \n",
       "vecriga                        63    63   63  \n",
       "vef                             1     1    1  \n",
       "yugla                          20    20   20  \n",
       "zakusala                        1     1    1  \n",
       "zasulauks                       3     3    3  \n",
       "ziepniekkalns                  32    32   32  \n",
       "zolitude                       30    30   30  "
      ]
     },
     "execution_count": 163,
     "metadata": {},
     "output_type": "execute_result"
    }
   ],
   "source": [
    "allrigadf.groupby(['Region']).count()"
   ]
  },
  {
   "cell_type": "code",
   "execution_count": 165,
   "metadata": {},
   "outputs": [
    {
     "data": {
      "text/plain": [
       "Sludinājumi    object\n",
       "Iela           object\n",
       "Ist.           object\n",
       "m2             object\n",
       "Stāvs          object\n",
       "Sērija         object\n",
       "Cena, m2       object\n",
       "Cena           object\n",
       "URL            object\n",
       "Region         object\n",
       "dtype: object"
      ]
     },
     "execution_count": 165,
     "metadata": {},
     "output_type": "execute_result"
    }
   ],
   "source": [
    "allrigadf.dtypes"
   ]
  }
 ],
 "metadata": {
  "kernelspec": {
   "display_name": "Python 3",
   "language": "python",
   "name": "python3"
  },
  "language_info": {
   "codemirror_mode": {
    "name": "ipython",
    "version": 3
   },
   "file_extension": ".py",
   "mimetype": "text/x-python",
   "name": "python",
   "nbconvert_exporter": "python",
   "pygments_lexer": "ipython3",
   "version": "3.7.3"
  }
 },
 "nbformat": 4,
 "nbformat_minor": 2
}
